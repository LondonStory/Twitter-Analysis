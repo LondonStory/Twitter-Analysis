{
  "nbformat": 4,
  "nbformat_minor": 0,
  "metadata": {
    "colab": {
      "provenance": []
    },
    "kernelspec": {
      "name": "python3",
      "display_name": "Python 3"
    },
    "language_info": {
      "name": "python"
    }
  },
  "cells": [
    {
      "cell_type": "code",
      "execution_count": null,
      "metadata": {
        "colab": {
          "base_uri": "https://localhost:8080/"
        },
        "id": "c-nXxGeYhWWa",
        "outputId": "bfd21311-02de-44e0-c0d7-8412831a15bf"
      },
      "outputs": [
        {
          "output_type": "stream",
          "name": "stdout",
          "text": [
            "Looking in indexes: https://pypi.org/simple, https://us-python.pkg.dev/colab-wheels/public/simple/\n",
            "Requirement already satisfied: tweepy in /usr/local/lib/python3.9/dist-packages (4.13.0)\n",
            "Requirement already satisfied: flatdict in /usr/local/lib/python3.9/dist-packages (4.0.1)\n",
            "Requirement already satisfied: requests-oauthlib<2,>=1.2.0 in /usr/local/lib/python3.9/dist-packages (from tweepy) (1.3.1)\n",
            "Requirement already satisfied: oauthlib<4,>=3.2.0 in /usr/local/lib/python3.9/dist-packages (from tweepy) (3.2.2)\n",
            "Requirement already satisfied: requests<3,>=2.27.0 in /usr/local/lib/python3.9/dist-packages (from tweepy) (2.27.1)\n",
            "Requirement already satisfied: certifi>=2017.4.17 in /usr/local/lib/python3.9/dist-packages (from requests<3,>=2.27.0->tweepy) (2022.12.7)\n",
            "Requirement already satisfied: idna<4,>=2.5 in /usr/local/lib/python3.9/dist-packages (from requests<3,>=2.27.0->tweepy) (3.4)\n",
            "Requirement already satisfied: charset-normalizer~=2.0.0 in /usr/local/lib/python3.9/dist-packages (from requests<3,>=2.27.0->tweepy) (2.0.12)\n",
            "Requirement already satisfied: urllib3<1.27,>=1.21.1 in /usr/local/lib/python3.9/dist-packages (from requests<3,>=2.27.0->tweepy) (1.26.15)\n",
            "I spent a fun afternoon with seniors in Hamilton sharing our plan to fix their teeth. Millions of seniors across Ca… https://t.co/o3iaLKCSWM\n",
            "Thank you to @IRCanada's Windsor Chapter for having us for iftar. \n",
            "\n",
            "As Ramadan comes to an end, it has been great t… https://t.co/Z4zh0T9oJW\n",
            "In Hamilton this morning, front line dental providers shared with me their relief for our dental care program. This… https://t.co/fS6HdtSCB4\n",
            "On the International Day of Pink, here's my message to children that have faced bullying.\n",
            "\n",
            "I understand feeling lik… https://t.co/vJdqxIoixA\n",
            "Pour la Journée du chandail rose, voici mon message aux enfants qui ont été victimes d'intimidation.\n",
            "\n",
            "Je comprends… https://t.co/joeumQ6noH\n",
            "https://t.co/rBQ81dxiCi\n",
            "Notre fonction publique a tout fait pour nous aider et nous protéger, et les libéraux ne veulent pas leur offrir un… https://t.co/PnuCa2mTEq\n",
            "After everything public service workers have done to help and protect us, the Liberals won't even offer a decent wa… https://t.co/w4fWBFGC0i\n",
            "Workers at Windsor Salt have been on strike for over seven weeks.\n",
            "\n",
            "The company wants to outsource local jobs and le… https://t.co/6IUQn5MVZi\n",
            "Couldn't visit my hometown without having some classic Windsor pizza! 🍕 https://t.co/GEK3y2Dbkv\n",
            "Quand les temps sont durs - Le gouvernement devrait travailler pour vous.\n",
            "\n",
            "Nous avons forcé les libéraux à livrer d… https://t.co/DCVIDD7nue\n",
            "All you do is talk, Pierre.\n",
            "\n",
            "- You voted AGAINST an excess profit tax\n",
            "- You voted AGAINST a wealth tax\n",
            "- You voted… https://t.co/JeBbGJkMRq\n",
            "It was a pleasure to break fast and serve iftar with my brothers and sisters at @ISNA_Canada in the GTA this weeken… https://t.co/mEBVWkq3sa\n",
            "The attack at the Markham mosque is very disturbing.\n",
            "\n",
            "As elected officials we need to take steps to ensure our plac… https://t.co/aVnZ9Y4QMB\n",
            "Réfléchissons-y un peu. \n",
            "\n",
            "Avez-vous déjà vu Trudeau/Poilievre s’attaquer aux PDG des épiceries? \n",
            "\n",
            "La vérité, c'est… https://t.co/PL8dndkwux\n",
            "Here's something to think about.\n",
            "\n",
            "Have you ever seen Justin Trudeau or Pierre Poilievre take on Grocery CEOs?\n",
            "\n",
            "The… https://t.co/xQT95uQKEX\n",
            "Loblaws is trying to tell us that Galen Weston is underpaid?!\n",
            "\n",
            "Tax his raise and give it to families who actually n… https://t.co/V1p3s6XP7E\n",
            "Happy Sunday! Hope everyone is enjoying the long weekend. \n",
            "\n",
            "Here's a throwback of Anhad listening to @POTUS' speech… https://t.co/OZdMWEJS5P\n",
            "Je crois que le gouvernement devrait travailler pour vous.\n",
            "\n",
            "C'est pourquoi nous avons livré des résultats concrets… https://t.co/Y4blsXrMLQ\n",
            "Qu'ont en commun Justin Trudeau et Pierre Poilievre? \n",
            "\n",
            "Lorsque les PDG des épiceries témoignent au Parlement au suj… https://t.co/yjFNRyqCDV\n",
            "Here's something Justin Trudeau and Pierre Poilievre have in common. \n",
            "\n",
            "When Grocery CEOs came to Parliament to test… https://t.co/30BSIuXz0z\n",
            "Les travailleurs du secteur public ont le droit de s’attendre à des négociations de bonne foi.\n",
            "\n",
            "Nous encourageons l… https://t.co/sJLQPBJKQB\n",
            "Public workers have a right to be heard and to expect negotiations in good faith.\n",
            "\n",
            "We encourage the government to g… https://t.co/3xL2XBpYKi\n",
            "Ça fait des décennies qu’on se bat pour une loi anti-briseurs de grève.\n",
            "\n",
            "Et on va continuer à maintenir la pression… https://t.co/47h4hrwk4P\n",
            "Cette fin de semaine, j'aimerais adresser mes vœux les meilleurs à celles et ceux qui observent le Vendredi saint e… https://t.co/wvnDoLaBx3\n"
          ]
        }
      ],
      "source": [
        "!pip3 install tweepy flatdict\n",
        "import csv\n",
        "import tweepy\n",
        "import ssl\n",
        "import time\n",
        "import pandas as pd\n",
        "import numpy as np\n",
        "import json\n",
        "import flatdict\n",
        "ssl._create_default_https_context = ssl._create_unverified_context\n",
        "consumer_key = \"\"\n",
        "consumer_secret = \"\"\n",
        "access_token = \"\"\n",
        "access_token_secret = \"\"\n",
        "auth = tweepy.OAuthHandler(consumer_key, consumer_secret)\n",
        "auth.set_access_token(access_token, access_token_secret)\n",
        "api = tweepy.API(auth)\n",
        "#Try case to see if it works before doing a whole list of them\n",
        "my_tweets = api.user_timeline(screen_name='theJagmeetSingh', count=25)\n",
        "for tweet in my_tweets:\n",
        "  print (tweet.text)\n"
      ]
    },
    {
      "cell_type": "markdown",
      "source": [
        "NOTES\n",
        "\n",
        "Negative-Alametsa = 85 - 2 duplicates - 7 fails = 76 CSVs<br>\n",
        "Neutral-Alametsa = 17 - 1 duplicate - 2 fails = 14 CSVs<br>\n",
        "Positive-Alametsa = 11 - 0 duplicates - 1 fail = 10 CSVs<br>\n",
        "Negative-Larrouturou = 119 - 39 duplicates - 12 fails = 62 CSVs<br>\n",
        "Neutral-Larrouturou = 23 - 8 duplicates - 1 fail = 14 CSVs<br>\n",
        "Positive-Larrouturou = 31 - 9 duplicates - 1 fail = 21 CSVs<br>\n"
      ],
      "metadata": {
        "id": "29d5WCn5sNZV"
      }
    },
    {
      "cell_type": "code",
      "source": [
        "import pandas as pd\n",
        "from google.colab import drive\n",
        "drive.mount('/content/drive')\n",
        "df = pd.read_csv('/content/drive/MyDrive/TLS stuff/Sentiment-csvs/POSITIVE replies-alviinaalametsa-annotated-botometer - replies-alviinaalametsa-annotated-botometer.csv')\n",
        "names = df['username'].tolist()\n",
        "NAMES1=(len(names))\n",
        "print(NAMES1)\n",
        "names = list(dict.fromkeys(names)) #gets rid of duplicates\n",
        "print(\"________________________\")\n",
        "print(len(names))\n",
        "print(\"________________________\")\n",
        "print(NAMES1-len(names))\n",
        "print(\"_________________________\")\n",
        "def get_new_tweets(name, count):\n",
        "  Failed=0\n",
        "  print(\"Retrieving tweets...\")\n",
        "  corpus = []                                                                                        \n",
        "  for name in names:\n",
        "    try:\n",
        "      tweets = api.user_timeline(screen_name=name,  count=count)\n",
        "      time.sleep(1)\n",
        "      corpus.extend(tweets) \n",
        "      data = [[tweet.id_str, tweet.user.screen_name, tweet.text, tweet.created_at] for tweet in corpus]\n",
        "      tweets_df = pd.DataFrame(data, columns=['tweet_id', 'screen_name', 'text', 'timestamp']) \n",
        "      df = pd.DataFrame (tweets_df)\n",
        "      df.to_csv ('/content/drive/MyDrive/TLS stuff/Scraped accounts/Positive-Alametsa/%s.csv' %name)\n",
        "      print(name,\"scraped successfully\") \n",
        "    except:\n",
        "      print(name,\"has been omitted\")\n",
        "      Failed+=1\n",
        "      print(Failed)\n",
        "      pass                                                                                      \n",
        "  scraped=len(names)-Failed\n",
        "  print(\"_____________________________________\")\n",
        "  print(scraped,\" scraped in total\")\n",
        "get_new_tweets (names, count=1500)"
      ],
      "metadata": {
        "colab": {
          "base_uri": "https://localhost:8080/"
        },
        "id": "X1XkLWvGhtUb",
        "outputId": "197046d7-2ca1-4c23-a389-53cf29d268d2"
      },
      "execution_count": null,
      "outputs": [
        {
          "output_type": "stream",
          "name": "stdout",
          "text": [
            "Drive already mounted at /content/drive; to attempt to forcibly remount, call drive.mount(\"/content/drive\", force_remount=True).\n",
            "11\n",
            "________________________\n",
            "11\n",
            "________________________\n",
            "0\n",
            "_________________________\n",
            "Retrieving tweets...\n",
            "purangmehta scraped successfully\n",
            "StrawhatKaptaan scraped successfully\n",
            "EloHaii scraped successfully\n",
            "UnApologeticM1 scraped successfully\n",
            "citizenNA scraped successfully\n",
            "sagni4 scraped successfully\n",
            "AkashD60789383 scraped successfully\n",
            "_hamza_iftikhar scraped successfully\n",
            "Toe_n_nee scraped successfully\n",
            "mohiuddin_223 has been omitted\n",
            "1\n",
            "PinjariShakeel scraped successfully\n",
            "_____________________________________\n",
            "10  scraped in total\n"
          ]
        }
      ]
    }
  ]
}