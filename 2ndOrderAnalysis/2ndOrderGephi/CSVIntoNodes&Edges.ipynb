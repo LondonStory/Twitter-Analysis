{
  "nbformat": 4,
  "nbformat_minor": 0,
  "metadata": {
    "colab": {
      "provenance": []
    },
    "kernelspec": {
      "name": "python3",
      "display_name": "Python 3"
    },
    "language_info": {
      "name": "python"
    }
  },
  "cells": [
    {
      "cell_type": "code",
      "execution_count": 1,
      "metadata": {
        "colab": {
          "base_uri": "https://localhost:8080/"
        },
        "id": "T3Ftk_52-SL0",
        "outputId": "c4d7195a-dd0f-4def-f112-5408b5ba5d79"
      },
      "outputs": [
        {
          "output_type": "stream",
          "name": "stdout",
          "text": [
            "Mounted at /content/drive\n",
            "                 Id        Label\n",
            "0       nameshakehe  nameshakehe\n",
            "1       nameshakehe  nameshakehe\n",
            "2       nameshakehe  nameshakehe\n",
            "3       nameshakehe  nameshakehe\n",
            "3       nameshakehe  nameshakehe\n",
            "...             ...          ...\n",
            "547954      DiVpops      DiVpops\n",
            "547955      DiVpops      DiVpops\n",
            "547956      DiVpops      DiVpops\n",
            "547957      DiVpops      DiVpops\n",
            "547958      DiVpops      DiVpops\n",
            "\n",
            "[855628 rows x 2 columns]\n",
            "             Source          Target\n",
            "0       nameshakehe    Tub_Thumperz\n",
            "1       nameshakehe    Tub_Thumperz\n",
            "2       nameshakehe    Tub_Thumperz\n",
            "3       nameshakehe   Rizwan_Design\n",
            "3       nameshakehe         8Bobcat\n",
            "...             ...             ...\n",
            "547954      DiVpops      arunbothra\n",
            "547955      DiVpops    Tiny_Dhillon\n",
            "547956      DiVpops        cardio73\n",
            "547957      DiVpops        cardio73\n",
            "547958      DiVpops  wildontheright\n",
            "\n",
            "[855628 rows x 2 columns]\n"
          ]
        }
      ],
      "source": [
        "from google.colab import drive\n",
        "drive.mount('/content/drive')\n",
        "import pandas as pd\n",
        "import re\n",
        "dfAlvHate=pd.read_csv('/content/drive/MyDrive/TLS stuff/Scraped accounts/Negative-Alametsa/_NEGATIVEALAMETSA2.csv',low_memory=False,  lineterminator='\\n', sep=',')\n",
        "Text= dfAlvHate[\"text\"]\n",
        "Mentions=[]\n",
        "dfAlvHate['mentions_extracted'] = dfAlvHate.text.str.findall(r'@([a-zA-Z0-9_]{1,50})').apply(','.join)\n",
        "#print(dfAlvHate.head())\n",
        "dfAlvHate = dfAlvHate.assign(mentions_extracted=dfAlvHate['mentions_extracted'].str.split(',')).explode('mentions_extracted')\n",
        "csv_data_mentions = dfAlvHate[dfAlvHate['mentions_extracted'].str.strip().astype(bool)]\n",
        "csv_data = csv_data_mentions\n",
        "#print(csv_data)\n",
        "nodelist = pd.DataFrame({'screen_name\t':csv_data['screen_name'], 'mention':csv_data['mentions_extracted']})\n",
        "nodes = pd.DataFrame({'Id':nodelist.iloc[:,0], 'Label':nodelist.iloc[:,0]})\n",
        "print(nodes)\n",
        "edges = pd.DataFrame({'Source':nodelist.iloc[:,0], 'Target':nodelist.iloc[:,1]})\n",
        "print(edges)\n",
        "edges.to_csv('AlametsaTimelineEdges.csv',index=False)\n",
        "nodes.to_csv('AlametsaTimelineNodes.csv',index=False)"
      ]
    },
    {
      "cell_type": "code",
      "source": [
        "from google.colab import drive\n",
        "drive.mount('/content/drive')\n",
        "import pandas as pd\n",
        "import re\n",
        "dfLarHate=pd.read_csv('/content/drive/MyDrive/TLS stuff/Scraped accounts/Negative-Larrouturou/_NEGATIVELARROUTUROU2.csv',low_memory=False,  lineterminator='\\n', sep=',')\n",
        "Text= dfLarHate[\"text\"]\n",
        "Mentions=[]\n",
        "dfLarHate['mentions_extracted'] = dfLarHate.text.str.findall(r'@([a-zA-Z0-9_]{1,50})').apply(','.join)\n",
        "#print(dfLarHate.head())\n",
        "dfLarHate = dfLarHate.assign(mentions_extracted=dfLarHate['mentions_extracted'].str.split(',')).explode('mentions_extracted')\n",
        "csv_data_mentions = dfLarHate[dfLarHate['mentions_extracted'].str.strip().astype(bool)]\n",
        "csv_data = csv_data_mentions\n",
        "#print(csv_data)\n",
        "nodelist = pd.DataFrame({'screen_name\t':csv_data['screen_name'], 'mention':csv_data['mentions_extracted']})\n",
        "nodes = pd.DataFrame({'Id':nodelist.iloc[:,0], 'Label':nodelist.iloc[:,0]})\n",
        "print(nodes)\n",
        "edges = pd.DataFrame({'Source':nodelist.iloc[:,0], 'Target':nodelist.iloc[:,1]})\n",
        "print(edges)\n",
        "edges.to_csv('LarrouturouTimelineEdges.csv',index=False)\n",
        "nodes.to_csv('LarrouturouTimelineNodes.csv',index=False)"
      ],
      "metadata": {
        "colab": {
          "base_uri": "https://localhost:8080/"
        },
        "id": "Us7K-XPDAlTX",
        "outputId": "23c5251d-ef63-43f1-b934-a8464160ef36"
      },
      "execution_count": 1,
      "outputs": [
        {
          "output_type": "stream",
          "name": "stdout",
          "text": [
            "Mounted at /content/drive\n",
            "                 Id        Label\n",
            "2        ra54077891   ra54077891\n",
            "2        ra54077891   ra54077891\n",
            "2        ra54077891   ra54077891\n",
            "2        ra54077891   ra54077891\n",
            "2        ra54077891   ra54077891\n",
            "...             ...          ...\n",
            "346667  ranveer2252  ranveer2252\n",
            "346668  ranveer2252  ranveer2252\n",
            "346669  ranveer2252  ranveer2252\n",
            "346669  ranveer2252  ranveer2252\n",
            "346671  ranveer2252  ranveer2252\n",
            "\n",
            "[551003 rows x 2 columns]\n",
            "             Source          Target\n",
            "2        ra54077891     larrouturou\n",
            "2        ra54077891        zoo_bear\n",
            "2        ra54077891         AltNews\n",
            "2        ra54077891        PMOIndia\n",
            "2        ra54077891      India_NHRC\n",
            "...             ...             ...\n",
            "346667  ranveer2252   krishnanrohit\n",
            "346668  ranveer2252   aubreystrobel\n",
            "346669  ranveer2252  cryptocheshire\n",
            "346669  ranveer2252         balajis\n",
            "346671  ranveer2252      nat_lennon\n",
            "\n",
            "[551003 rows x 2 columns]\n"
          ]
        }
      ]
    }
  ]
}