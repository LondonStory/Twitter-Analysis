{
  "nbformat": 4,
  "nbformat_minor": 0,
  "metadata": {
    "colab": {
      "provenance": []
    },
    "kernelspec": {
      "name": "python3",
      "display_name": "Python 3"
    },
    "language_info": {
      "name": "python"
    }
  },
  "cells": [
    {
      "cell_type": "code",
      "execution_count": null,
      "metadata": {
        "colab": {
          "base_uri": "https://localhost:8080/"
        },
        "id": "LmoPGZfY3C4h",
        "outputId": "22693aaf-8cda-4fa5-bb23-4835ed0f92b8"
      },
      "outputs": [
        {
          "output_type": "stream",
          "name": "stdout",
          "text": [
            "Mounted at /content/drive\n"
          ]
        }
      ],
      "source": [
        "from google.colab import drive\n",
        "drive.mount('/content/drive')"
      ]
    },
    {
      "cell_type": "code",
      "source": [
        "#To find the columns\n",
        "import pandas as pd\n",
        "df = pd.read_csv(\"/content/drive/MyDrive/TLS stuff/Scraped accounts/Negative-Alametsa/AP18644787.csv\")\n",
        "print(df.columns)"
      ],
      "metadata": {
        "colab": {
          "base_uri": "https://localhost:8080/"
        },
        "id": "AOevbNXG3_AS",
        "outputId": "be82f08f-1989-43c5-eda6-4d9e1a14e602"
      },
      "execution_count": null,
      "outputs": [
        {
          "output_type": "stream",
          "name": "stdout",
          "text": [
            "Index(['Unnamed: 0', 'tweet_id', 'screen_name', 'text', 'timestamp'], dtype='object')\n"
          ]
        }
      ]
    },
    {
      "cell_type": "code",
      "source": [
        "import os\n",
        "Names=[\"/content/drive/MyDrive/TLS stuff/Scraped accounts/Negative-Alametsa/_NEGATIVEALAMETSA.csv\",\n",
        "       \"/content/drive/MyDrive/TLS stuff/Scraped accounts/Neutral-Alametsa/_NEUTRALALAMETSA.csv\",\n",
        "       \"/content/drive/MyDrive/TLS stuff/Scraped accounts/Positive-Alametsa/_POSITIVEALAMETSA.csv\"]\n",
        "Paths=[\"/content/drive/MyDrive/TLS stuff/Scraped accounts/Negative-Alametsa\",\n",
        "       \"/content/drive/MyDrive/TLS stuff/Scraped accounts/Neutral-Alametsa\",\n",
        "       \"/content/drive/MyDrive/TLS stuff/Scraped accounts/Positive-Alametsa\"]\n",
        "Lists=[\"NegativeAlametsa\",\n",
        "       \"NeutralAlametsa\",\n",
        "       \"PositiveAlametsa\"]\n",
        "for i,j,k in zip(Names,Paths,Lists):\n",
        "  df=pd.DataFrame(columns=['Unnamed: 0', 'tweet_id', 'screen_name', 'text', 'timestamp'])\n",
        "  Path = j\n",
        "  k=os.listdir(j)\n",
        "  Kmodified=[]\n",
        "  for a in k:\n",
        "    Kmodified.append(j+\"/\"+a)\n",
        "  df = pd.concat(map(pd.read_csv, Kmodified), ignore_index=True)\n",
        "  df.to_csv(i)\n"
      ],
      "metadata": {
        "id": "rDgvgygV3r5X"
      },
      "execution_count": null,
      "outputs": []
    }
  ]
}