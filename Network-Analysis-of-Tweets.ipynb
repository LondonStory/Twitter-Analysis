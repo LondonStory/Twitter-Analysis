{
  "nbformat": 4,
  "nbformat_minor": 0,
  "metadata": {
    "colab": {
      "provenance": [],
      "toc_visible": true
    },
    "kernelspec": {
      "name": "python3",
      "display_name": "Python 3"
    },
    "language_info": {
      "name": "python"
    }
  },
  "cells": [
    {
      "cell_type": "markdown",
      "source": [
        "# Network visualisations of hashtags and mentions from the scraped Twitter accounts "
      ],
      "metadata": {
        "id": "mIMqCw3PwKwo"
      }
    },
    {
      "cell_type": "markdown",
      "source": [
        "\n",
        "Networks are usually described by two sets of items, which ultimately \"form\" a network: `Nodes` and `Edges`. In mathematical terms, this is known as a `Graph`. Nodes and edges can have metadata associated with them (picture courtesy: T. McKinney). \n",
        "\n",
        "![network_structure_1.JPG](data:image/jpeg;base64,/9j/4AAQSkZJRgABAQEAYABgAAD/4REGRXhpZgAATU0AKgAAAAgABAE7AAIAAAAUAAAISodpAAQAAAABAAAIXpydAAEAAAAoAAAQ1uocAAcAAAgMAAAAPgAAAAAc6gAAAAgAAAAAAAAAAAAAAAAAAAAAAAAAAAAAAAAAAAAAAAAAAAAAAAAAAAAAAAAAAAAAAAAAAAAAAAAAAAAAAAAAAAAAAAAAAAAAAAAAAAAAAAAAAAAAAAAAAAAAAAAAAAAAAAAAAAAAAAAAAAAAAAAAAAAAAAAAAAAAAAAAAAAAAAAAAAAAAAAAAAAAAAAAAAAAAAAAAAAAAAAAAAAAAAAAAAAAAAAAAAAAAAAAAAAAAAAAAAAAAAAAAAAAAAAAAAAAAAAAAAAAAAAAAAAAAAAAAAAAAAAAAAAAAAAAAAAAAAAAAAAAAAAAAAAAAAAAAAAAAAAAAAAAAAAAAAAAAAAAAAAAAAAAAAAAAAAAAAAAAAAAAAAAAAAAAAAAAAAAAAAAAAAAAAAAAAAAAAAAAAAAAAAAAAAAAAAAAAAAAAAAAAAAAAAAAAAAAAAAAAAAAAAAAAAAAAAAAAAAAAAAAAAAAAAAAAAAAAAAAAAAAAAAAAAAAAAAAAAAAAAAAAAAAAAAAAAAAAAAAAAAAAAAAAAAAAAAAAAAAAAAAAAAAAAAAAAAAAAAAAAAAAAAAAAAAAAAAAAAAAAAAAAAAAAAAAAAAAAAAAAAAAAAAAAAAAAAAAAAAAAAAAAAAAAAAAAAAAAAAAAAAAAAAAAAAAAAAAAAAAAAAAAAAAAAAAAAAAAAAAAAAAAAAAAAAAAAAAAAAAAAAAAAAAAAAAAAAAAAAAAAAAAAAAAAAAAAAAAAAAAAAAAAAAAAAAAAAAAAAAAAAAAAAAAAAAAAAAAAAAAAAAAAAAAAAAAAAAAAAAAAAAAAAAAAAAAAAAAAAAAAAAAAAAAAAAAAAAAAAAAAAAAAAAAAAAAAAAAAAAAAAAAAAAAAAAAAAAAAAAAAAAAAAAAAAAAAAAAAAAAAAAAAAAAAAAAAAAAAAAAAAAAAAAAAAAAAAAAAAAAAAAAAAAAAAAAAAAAAAAAAAAAAAAAAAAAAAAAAAAAAAAAAAAAAAAAAAAAAAAAAAAAAAAAAAAAAAAAAAAAAAAAAAAAAAAAAAAAAAAAAAAAAAAAAAAAAAAAAAAAAAAAAAAAAAAAAAAAAAAAAAAAAAAAAAAAAAAAAAAAAAAAAAAAAAAAAAAAAAAAAAAAAAAAAAAAAAAAAAAAAAAAAAAAAAAAAAAAAAAAAAAAAAAAAAAAAAAAAAAAAAAAAAAAAAAAAAAAAAAAAAAAAAAAAAAAAAAAAAAAAAAAAAAAAAAAAAAAAAAAAAAAAAAAAAAAAAAAAAAAAAAAAAAAAAAAAAAAAAAAAAAAAAAAAAAAAAAAAAAAAAAAAAAAAAAAAAAAAAAAAAAAAAAAAAAAAAAAAAAAAAAAAAAAAAAAAAAAAAAAAAAAAAAAAAAAAAAAAAAAAAAAAAAAAAAAAAAAAAAAAAAAAAAAAAAAAAAAAAAAAAAAAAAAAAAAAAAAAAAAAAAAAAAAAAAAAAAAAAAAAAAAAAAAAAAAAAAAAAAAAAAAAAAAAAAAAAAAAAAAAAAAAAAAAAAAAAAAAAAAAAAAAAAAAAAAAAAAAAAAAAAAAAAAAAAAAAAAAAAAAAAAAAAAAAAAAAAAAAAAAAAAAAAAAAAAAAAAAAAAAAAAAAAAAAAAAAAAAAAAAAAAAAAAAAAAAAAAAAAAAAAAAAAAAAAAAAAAAAAAAAAAAAAAAAAAAAAAAAAAAAAAAAAAAAAAAAAAAAAAAAAAAAAAAAAAAAAAAAAAAAAAAAAAAAAAAAAAAAAAAAAAAAAAAAAAAAAAAAAAAAAAAAAAAAAAAAAAAAAAAAAAAAAAAAAAAAAAAAAAAAAAAAAAAAAAAAAAAAAAAAAAAAAAAAAAAAAAAAAAAAAAAAAAAAAAAAAAAAAAAAAAAAAAAAAAAAAAAAAAAAAAAAAAAAAAAAAAAAAAAAAAAAAAAAAAAAAAAAAAAAAAAAAAAAAAAAAAAAAAAAAAAAAAAAAAAAAAAAAAAAAAAAAAAAAAAAAAAAAAAAAAAAAAAAAAAAAAAAAAAAAAAAAAAAAAAAAAAAAAAAAAAAAAAAAAAAAAAAAAAAAAAAAAAAAAAAAAAAAAAAAAAAAAAAAAAAAAAAAAAAAAAAAAAAAAAAAAAAAAAAAAAAAAAAAAAAAAAAAAAAAAAAAAAAAAAAAAAAAAAAAAAAAAAAAAAAAAAAAAAAAAAAAAAAAAAAAAAAAAAAAAAAAAAAAAAAAAAAAAAAAAAAAAAAAAAAAAAAAAAAAAAAAAAAAAAAAAAAAAAAAAAAAAAAAAAAAAAAAAAAAAAAAAAAAAAAAAAAAAAAAAAAAAAAAAAAAAAAAAAAAAAAAAAAAAAAAAAAAAAAAAAAAAAAAAAAAAAAAAAAAAAAAAAAAAAAAAAAAAAAAAAAAAAAAAAAAAAAAAAAAAAAAAAAAAAAAAAAAAAAAAAAAAAAAAAAAAAAAAAAAAAAAAAAAAAAAAAAAAAAAAAAAAAAAAAAAAAAAAAAAAAAAAAAAAAAAAAAAAAAAAAAAAAAAAAAAAAAAAAAAAAAAAAAAAAAAAAAAAAAAAAAAAAAAAAAAAAAAAAAAAAAAAAAAAAAAAAAAAAAAAAAAAAAAAAAAAAAAAAAAAAAAAAAAAAAAAAAAAAAAAAAAAAAAAAAAAAAAAAAAAAAAAAAAAAAAAAAAAAAAAAAAAAAAAAAAAAAAAAAAAAAAAAAAAAAAAAAAAAAAAAAAAAAAAAAAAAAAAAAAAAAAAAAAAAAAAAAAAAAAAAAAAAAAAAAAAAAFRyZW50b24gSi4gTWNLaW5uZXkAAAWQAwACAAAAFAAAEKyQBAACAAAAFAAAEMCSkQACAAAAAzYzAACSkgACAAAAAzYzAADqHAAHAAAIDAAACKAAAAAAHOoAAAAIAAAAAAAAAAAAAAAAAAAAAAAAAAAAAAAAAAAAAAAAAAAAAAAAAAAAAAAAAAAAAAAAAAAAAAAAAAAAAAAAAAAAAAAAAAAAAAAAAAAAAAAAAAAAAAAAAAAAAAAAAAAAAAAAAAAAAAAAAAAAAAAAAAAAAAAAAAAAAAAAAAAAAAAAAAAAAAAAAAAAAAAAAAAAAAAAAAAAAAAAAAAAAAAAAAAAAAAAAAAAAAAAAAAAAAAAAAAAAAAAAAAAAAAAAAAAAAAAAAAAAAAAAAAAAAAAAAAAAAAAAAAAAAAAAAAAAAAAAAAAAAAAAAAAAAAAAAAAAAAAAAAAAAAAAAAAAAAAAAAAAAAAAAAAAAAAAAAAAAAAAAAAAAAAAAAAAAAAAAAAAAAAAAAAAAAAAAAAAAAAAAAAAAAAAAAAAAAAAAAAAAAAAAAAAAAAAAAAAAAAAAAAAAAAAAAAAAAAAAAAAAAAAAAAAAAAAAAAAAAAAAAAAAAAAAAAAAAAAAAAAAAAAAAAAAAAAAAAAAAAAAAAAAAAAAAAAAAAAAAAAAAAAAAAAAAAAAAAAAAAAAAAAAAAAAAAAAAAAAAAAAAAAAAAAAAAAAAAAAAAAAAAAAAAAAAAAAAAAAAAAAAAAAAAAAAAAAAAAAAAAAAAAAAAAAAAAAAAAAAAAAAAAAAAAAAAAAAAAAAAAAAAAAAAAAAAAAAAAAAAAAAAAAAAAAAAAAAAAAAAAAAAAAAAAAAAAAAAAAAAAAAAAAAAAAAAAAAAAAAAAAAAAAAAAAAAAAAAAAAAAAAAAAAAAAAAAAAAAAAAAAAAAAAAAAAAAAAAAAAAAAAAAAAAAAAAAAAAAAAAAAAAAAAAAAAAAAAAAAAAAAAAAAAAAAAAAAAAAAAAAAAAAAAAAAAAAAAAAAAAAAAAAAAAAAAAAAAAAAAAAAAAAAAAAAAAAAAAAAAAAAAAAAAAAAAAAAAAAAAAAAAAAAAAAAAAAAAAAAAAAAAAAAAAAAAAAAAAAAAAAAAAAAAAAAAAAAAAAAAAAAAAAAAAAAAAAAAAAAAAAAAAAAAAAAAAAAAAAAAAAAAAAAAAAAAAAAAAAAAAAAAAAAAAAAAAAAAAAAAAAAAAAAAAAAAAAAAAAAAAAAAAAAAAAAAAAAAAAAAAAAAAAAAAAAAAAAAAAAAAAAAAAAAAAAAAAAAAAAAAAAAAAAAAAAAAAAAAAAAAAAAAAAAAAAAAAAAAAAAAAAAAAAAAAAAAAAAAAAAAAAAAAAAAAAAAAAAAAAAAAAAAAAAAAAAAAAAAAAAAAAAAAAAAAAAAAAAAAAAAAAAAAAAAAAAAAAAAAAAAAAAAAAAAAAAAAAAAAAAAAAAAAAAAAAAAAAAAAAAAAAAAAAAAAAAAAAAAAAAAAAAAAAAAAAAAAAAAAAAAAAAAAAAAAAAAAAAAAAAAAAAAAAAAAAAAAAAAAAAAAAAAAAAAAAAAAAAAAAAAAAAAAAAAAAAAAAAAAAAAAAAAAAAAAAAAAAAAAAAAAAAAAAAAAAAAAAAAAAAAAAAAAAAAAAAAAAAAAAAAAAAAAAAAAAAAAAAAAAAAAAAAAAAAAAAAAAAAAAAAAAAAAAAAAAAAAAAAAAAAAAAAAAAAAAAAAAAAAAAAAAAAAAAAAAAAAAAAAAAAAAAAAAAAAAAAAAAAAAAAAAAAAAAAAAAAAAAAAAAAAAAAAAAAAAAAAAAAAAAAAAAAAAAAAAAAAAAAAAAAAAAAAAAAAAAAAAAAAAAAAAAAAAAAAAAAAAAAAAAAAAAAAAAAAAAAAAAAAAAAAAAAAAAAAAAAAAAAAAAAAAAAAAAAAAAAAAAAAAAAAAAAAAAAAAAAAAAAAAAAAAAAAAAAAAAAAAAAAAAAAAAAAAAAAAAAAAAAAAAAAAAAAAAAAAAAAAAAAAAAAAAAAAAAAAAAAAAAAAAAAAAAAAAAAAAAAAAAAAAAAAAAAAAAAAAAAAAAAAAAAAAAAAAAAAAAAAAAAAAAAAAAAAAAAAAAAAAAAAAAAAAAAAAAAAAAAAAAAAAAAAAAAAAAAAAAAAAAAAAAAAAAAAAAAAAAAAAAAAAAAAAAAAAAAAAAAAAAAAAAAAAAAAAAAAAAAAAAAAAAAAAAAAAAAAAAAAAAAAAAAAAAAAAAAAAAAAAAAAAAAAAAAAAAAAAAAAAAAAAAAAAAAAAAAAAAAAAAAAAAAAAAAAAAAAAAAAAAAAAAAAAAAAAAAAAAAAAAAAAAAAAAAAAAAAAAAAAAAAAAAAAAAAAAAAAAAAAAAAAAAAAAAAAAAAAAAAAAAAAAAAAAAAAAAAAAAAAAAAAAAAAAAAAAAAAAAAAAAAAAAAAAAAAAAAAAAAAAAAAAAAAAAAAAAAAAAAAAAAAAAAAAAAAAAAAAAAAAAAAAAAAAAAAAAAAAAAAAAAAAAAAAAAAAAAAAAAAAAAAAAAAAAAAAAAAAAAAAAAAAAAAAAAAAAAAAAAAAAAAAAAAAAAAAAAAAAAAAAAAAAAAAAAAAAAAAAAAAAAAAAAAAAAAAAAAAAAAAAAAAAAAAAAAAAAAAAAAAAAAAAAAAAAAAAAAAAAAAAAAAAAAAAAAAAAAAAAAAAAAAAAAAAAAAAAAAAAAAAAAAAAAAAAAAAAAAAAAAAAAAAAAAAAAAAAAAAAAAAAAAAAAAAAAAAAAAAAAAAAAAAAAAAAAAAAAAAAAAAAAAAAAAAAAAAAAAAAAAAAAAAAAAAAAAAAAAAAAAAAAAAAAAAAAAAAAAAAAAAAAyMDIwOjA1OjI2IDExOjE5OjQ5ADIwMjA6MDU6MjYgMTE6MTk6NDkAAABUAHIAZQBuAHQAbwBuACAASgAuACAATQBjAEsAaQBuAG4AZQB5AAAA/+ELJmh0dHA6Ly9ucy5hZG9iZS5jb20veGFwLzEuMC8APD94cGFja2V0IGJlZ2luPSfvu78nIGlkPSdXNU0wTXBDZWhpSHpyZVN6TlRjemtjOWQnPz4NCjx4OnhtcG1ldGEgeG1sbnM6eD0iYWRvYmU6bnM6bWV0YS8iPjxyZGY6UkRGIHhtbG5zOnJkZj0iaHR0cDovL3d3dy53My5vcmcvMTk5OS8wMi8yMi1yZGYtc3ludGF4LW5zIyI+PHJkZjpEZXNjcmlwdGlvbiByZGY6YWJvdXQ9InV1aWQ6ZmFmNWJkZDUtYmEzZC0xMWRhLWFkMzEtZDMzZDc1MTgyZjFiIiB4bWxuczpkYz0iaHR0cDovL3B1cmwub3JnL2RjL2VsZW1lbnRzLzEuMS8iLz48cmRmOkRlc2NyaXB0aW9uIHJkZjphYm91dD0idXVpZDpmYWY1YmRkNS1iYTNkLTExZGEtYWQzMS1kMzNkNzUxODJmMWIiIHhtbG5zOnhtcD0iaHR0cDovL25zLmFkb2JlLmNvbS94YXAvMS4wLyI+PHhtcDpDcmVhdGVEYXRlPjIwMjAtMDUtMjZUMTE6MTk6NDkuNjMxPC94bXA6Q3JlYXRlRGF0ZT48L3JkZjpEZXNjcmlwdGlvbj48cmRmOkRlc2NyaXB0aW9uIHJkZjphYm91dD0idXVpZDpmYWY1YmRkNS1iYTNkLTExZGEtYWQzMS1kMzNkNzUxODJmMWIiIHhtbG5zOmRjPSJodHRwOi8vcHVybC5vcmcvZGMvZWxlbWVudHMvMS4xLyI+PGRjOmNyZWF0b3I+PHJkZjpTZXEgeG1sbnM6cmRmPSJodHRwOi8vd3d3LnczLm9yZy8xOTk5LzAyLzIyLXJkZi1zeW50YXgtbnMjIj48cmRmOmxpPlRyZW50b24gSi4gTWNLaW5uZXk8L3JkZjpsaT48L3JkZjpTZXE+DQoJCQk8L2RjOmNyZWF0b3I+PC9yZGY6RGVzY3JpcHRpb24+PC9yZGY6UkRGPjwveDp4bXBtZXRhPg0KICAgICAgICAgICAgICAgICAgICAgICAgICAgICAgICAgICAgICAgICAgICAgICAgICAgICAgICAgICAgICAgICAgICAgICAgICAgICAgICAgICAgICAgICAgICAgICAgICAgIAogICAgICAgICAgICAgICAgICAgICAgICAgICAgICAgICAgICAgICAgICAgICAgICAgICAgICAgICAgICAgICAgICAgICAgICAgICAgICAgICAgICAgICAgICAgICAgICAgICAgCiAgICAgICAgICAgICAgICAgICAgICAgICAgICAgICAgICAgICAgICAgICAgICAgICAgICAgICAgICAgICAgICAgICAgICAgICAgICAgICAgICAgICAgICAgICAgICAgICAgICAKICAgICAgICAgICAgICAgICAgICAgICAgICAgICAgICAgICAgICAgICAgICAgICAgICAgICAgICAgICAgICAgICAgICAgICAgICAgICAgICAgICAgICAgICAgICAgICAgICAgIAogICAgICAgICAgICAgICAgICAgICAgICAgICAgICAgICAgICAgICAgICAgICAgICAgICAgICAgICAgICAgICAgICAgICAgICAgICAgICAgICAgICAgICAgICAgICAgICAgICAgCiAgICAgICAgICAgICAgICAgICAgICAgICAgICAgICAgICAgICAgICAgICAgICAgICAgICAgICAgICAgICAgICAgICAgICAgICAgICAgICAgICAgICAgICAgICAgICAgICAgICAKICAgICAgICAgICAgICAgICAgICAgICAgICAgICAgICAgICAgICAgICAgICAgICAgICAgICAgICAgICAgICAgICAgICAgICAgICAgICAgICAgICAgICAgICAgICAgICAgICAgIAogICAgICAgICAgICAgICAgICAgICAgICAgICAgICAgICAgICAgICAgICAgICAgICAgICAgICAgICAgICAgICAgICAgICAgICAgICAgICAgICAgICAgICAgICAgICAgICAgICAgCiAgICAgICAgICAgICAgICAgICAgICAgICAgICAgICAgICAgICAgICAgICAgICAgICAgICAgICAgICAgICAgICAgICAgICAgICAgICAgICAgICAgICAgICAgICAgICAgICAgICAKICAgICAgICAgICAgICAgICAgICAgICAgICAgICAgICAgICAgICAgICAgICAgICAgICAgICAgICAgICAgICAgICAgICAgICAgICAgICAgICAgICAgICAgICAgICAgICAgICAgIAogICAgICAgICAgICAgICAgICAgICAgICAgICAgICAgICAgICAgICAgICAgICAgICAgICAgICAgICAgICAgICAgICAgICAgICAgICAgICAgICAgICAgICAgICAgICAgICAgICAgCiAgICAgICAgICAgICAgICAgICAgICAgICAgICAgICAgICAgICAgICAgICAgICAgICAgICAgICAgICAgICAgICAgICAgICAgICAgICAgICAgICAgICAgICAgICAgICAgICAgICAKICAgICAgICAgICAgICAgICAgICAgICAgICAgICAgICAgICAgICAgICAgICAgICAgICAgICAgICAgICAgICAgICAgICAgICAgICAgICAgICAgICAgICAgICAgICAgICAgICAgIAogICAgICAgICAgICAgICAgICAgICAgICAgICAgICAgICAgICAgICAgICAgICAgICAgICAgICAgICAgICAgICAgICAgICAgICAgICAgICAgICAgICAgICAgICAgICAgICAgICAgCiAgICAgICAgICAgICAgICAgICAgICAgICAgICAgICAgICAgICAgICAgICAgICAgICAgICAgICAgICAgICAgICAgICAgICAgICAgICAgICAgICAgICAgICAgICAgICAgICAgICAKICAgICAgICAgICAgICAgICAgICAgICAgICAgICAgICAgICAgICAgICAgICAgICAgICAgICAgICAgICAgICAgICAgICAgICAgICAgICAgICAgICAgICAgICAgICAgICAgICAgIAogICAgICAgICAgICAgICAgICAgICAgICAgICAgICAgICAgICAgICAgICAgICAgICAgICAgICAgICAgICAgICAgICAgICAgICAgICAgICAgICAgICAgICAgICAgICAgICAgICAgCiAgICAgICAgICAgICAgICAgICAgICAgICAgICAgICAgICAgICAgICAgICAgICAgICAgICAgICAgICAgICAgICAgICAgICAgICAgICAgICAgICAgICAgICAgICAgICAgICAgICAKICAgICAgICAgICAgICAgICAgICAgICAgICAgICAgICAgICAgICAgICAgICAgICAgICAgICAgICAgICAgICAgICAgICAgICAgICAgICAgICAgICAgICAgICAgICAgICAgICAgIAogICAgICAgICAgICAgICAgICAgICAgICAgICAgICAgICAgICAgICAgICAgICAgICAgICAgICAgICAgICAgICAgICAgICAgICAgICAgICAgICAgICAgICAgICAgICAgICAgICAgCiAgICAgICAgICAgICAgICAgICAgICAgICAgICA8P3hwYWNrZXQgZW5kPSd3Jz8+/9sAQwAHBQUGBQQHBgUGCAcHCAoRCwoJCQoVDxAMERgVGhkYFRgXGx4nIRsdJR0XGCIuIiUoKSssKxogLzMvKjInKisq/9sAQwEHCAgKCQoUCwsUKhwYHCoqKioqKioqKioqKioqKioqKioqKioqKioqKioqKioqKioqKioqKioqKioqKioqKioq/8AAEQgA5wGvAwEiAAIRAQMRAf/EAB8AAAEFAQEBAQEBAAAAAAAAAAABAgMEBQYHCAkKC//EALUQAAIBAwMCBAMFBQQEAAABfQECAwAEEQUSITFBBhNRYQcicRQygZGhCCNCscEVUtHwJDNicoIJChYXGBkaJSYnKCkqNDU2Nzg5OkNERUZHSElKU1RVVldYWVpjZGVmZ2hpanN0dXZ3eHl6g4SFhoeIiYqSk5SVlpeYmZqio6Slpqeoqaqys7S1tre4ubrCw8TFxsfIycrS09TV1tfY2drh4uPk5ebn6Onq8fLz9PX29/j5+v/EAB8BAAMBAQEBAQEBAQEAAAAAAAABAgMEBQYHCAkKC//EALURAAIBAgQEAwQHBQQEAAECdwABAgMRBAUhMQYSQVEHYXETIjKBCBRCkaGxwQkjM1LwFWJy0QoWJDThJfEXGBkaJicoKSo1Njc4OTpDREVGR0hJSlNUVVZXWFlaY2RlZmdoaWpzdHV2d3h5eoKDhIWGh4iJipKTlJWWl5iZmqKjpKWmp6ipqrKztLW2t7i5usLDxMXGx8jJytLT1NXW19jZ2uLj5OXm5+jp6vLz9PX29/j5+v/aAAwDAQACEQMRAD8A+kaKKKACiiigAooooAKKKKACiiigAooooAKKKKACiiigAooooAKKKKACiimvIkSF5GVFUZLMcAUAOoqkur2cv/HtI1yPW3jaRf8AvpQR+tL9suX/ANVp8w9DK6KP0JP6UAXKKp51J+NlrD772k/TC0eRft9+9iUf9MrfB/VjQBcoqn9inPXUrr6bYh/7JR/ZwP37q6f/ALbFf5YoAuUVT/syD/npdf8AgXL/APFUf2ZB/wA9Lr/wLl/+KoAuUVT/ALMg/wCel1/4Fy//ABVH9mRD7k10v/by5/mTQBcoqn9hkH3NQul/FG/mpo+y3a/6vUHb/rrEp/8AQQtAFyiqe3Uk5821l9vKaP8AXc38qPtF8n+tsVcf9MJwx/8AHgtAFyiqf9pKn/HxbXUJ94S4/NMipLa/tLzItbmKYr94I4JX6jtQBYooooAKKKKACiiigAooooAKKKKACiiigAooooAKKKKACiiigAooooAKKKKACiiigAooooAKKKKACiiigAooqK4uoLVQ1xKsYY4UE8sfQDufpQBLRVFri8uVIsoBCp6TXII/EIOT+O2lGmiT/j9uJrr/AGWban/fK4B/HNAD5NRto5DGHMsq9Y4VLsPqB0/Gm+ffS/6m0WEf3riTkf8AAVzn8xVqOKOGMRwosaL0VRgD8KdQBT+x3Ev/AB830hHdIVEan+bf+PUq6XZKwZrdZHHR5cyMPxbJq3RQAYx0ooooAKKKKACiiigAooooAKKKKACiiigAooooAKhns7a5x9ot4pSOhdAcfnU1FAFP+zlT/j2uLiA/7Mm8fk+QPwoxqMPRre5HoQYm/P5gfyFXKKAKf9pJH/x+QzWv+1IuV+u5cgfiRVmKWOeMSQyLIjdGQ5B/Gn1Vl062kkMqoYpT1liJRj9SOv0OaALVFUR/aFqxztvou3RJR/7K3/jtSwX8E8nlAmObGTFINrfkeo9xkUAWaKKKACiiigAooooAKKKKACiiigAooooAKKKKACiiigAooooAKKKKACiiigAqK5uobSMPcPsBO1eCSx9AByT7Cq7XzXLGPTQspBw07f6tPy+8fYfiRUkFikUnnSs09xjHmydR7AdFHsPxzQBHuvLv/Vj7HD/eYAyN9B0X8c/QVLb2UFsxdF3SsMNK53O34nnHt0qxRQAUUUUAFFFFABRRRQAUUUUAFFFFABRRRQAUUUUAFFFFABRRRQAUUUUAFFFFABRRRQAUUUUAFRz28NzHsuI1kXOQGGcH1HoakooApfZ7u1/49JvPj/55XDHI+j9fzz9RUlvfRzyGEhop1G5oZBhgPX0I9xkVZqG4tYbpQJkyVOVYHDKfUEcj8KAJqKo+Zd2P+vzdQD/loi/vF+qj731HPt3q3FLHPEskLq6MMqynINAD6KKKACiiigAooooAKKKKACiiigAooooAKKKKACiio5547aBpZm2ovXjOewAHck8YoAdLKkMTSSuqIoyzMcACqPly6k26cNFZ44iPDS+7ei/7PU9/SnRW8t1KtxfgKFO6K36hPdvVv0HbPWr1ACKoRQqgKoGAAOAKWiigAooooAKKKKACiiigAooooAKKKKACiiigAooooAKKKKACiiigAooooAKKKKACiiigAooooAKKKKACiiigAooooAKpTWkkMpuNPwshOZIicJL/AIN7/nntdooAgtruO6VtgZHQ4eNxhkPuP69D2qeq11aecyywv5VxGPkkAz+BHdfb8sHmltLr7RvjkTy54sCSPOcZ6EHuD2P9QRQBYooooAKKKKACiiigAooooAKKKKACiiigBGYIpZyFUDJJOABVKBDfzLdzAiFTm3jI/wDHyPU9h2HueEnzf3n2VcG2hINwf77dQn8ifbA7mr9ABRRRQAUUUUAczrPjOLRPGOm6LdWbG2voWke+Eny27b1RAy46Mzhd2eCRxzkaM+teT4vsdD+z7vtdjcXfn7/ueU8KbduOc+dnOeNvQ54w9VsbbU/idHY38SzW1x4euY5Y26MpniBFc3Fdasnj2LQ5Xkl1vS/DupJBcN/y8o0tr5E2emTt2t/tI3bFAHpEOtaXcalJp1vqVnLfRf6y2SdWlT6qDkUahrWlaS0S6rqVnZNMcRC5nWPefbcRmvPDc6FL8P8Awxa6A9sdUW6svskMZHnxzCRDPuH3gQgl8zPON2etbWn3WlWvjjxT/wAJFNZw3cjQ+QbtlXdZfZ0+7u6r5vn5x3PPagDe0zxHbXmk3eo3rRWNva3dxbPJLMAmIpWj3ljgDO3OO2cZNaNlfWmpWiXWnXUN3bv92aCQOjfQjg14xpw2aJ4dbRpbCz0ZNe1TyW1OBnt0bzpPs+5Qy4+XeFyeCV74rsvAsM58XeIrp9U0+8WRYEnj0u0eK2WcBstuZ2DSFSobB4CpmgDvKKOleQePPiDPeXUml6HO0NtGSks6HBlPoD2X+f0rWlSlVlZGVSrGnG7PTbzxHo2nyGO91S0gkHVHmUMPw61JY63pepnGn6hbXLd1ilDEfh1r5pJyfU0+OV4ZFliZkdTlWU4IPqDXd9RVtzi+uu+x9Q0V5z8O/HcmpuNI1mbfdAZgmbrIB/Cff37/AM/Rq4KlOVOXLI76dRVI8yCiiisywooooAKKKKACiiigAooooAKKKKACiiigAooooAKKKKACiiigAooooAKq3ds0jLPbELcxj5SejDurex/TrVqigCG1uVuodwVkdTtkjb7yN6H/ADyMGpqo3g+yTrfpwgG24HqnZv8AgP8AIn2q91oAKKKKACiiigAooooAKKKKACoLy4NravIq7n4VF/vMThR+ZFT1Tl/0jVoov4LdPOYf7Ryq/wDs5/AUATWluLW2WPdvbku+PvseSfxNTUUUAFFFFABRRRQA3YnmCTau8DaGxzj0zR5aGUSlF8wLtD45A9M+nFOooAgSxtI7t7qO1hS4kGHmWMB2HoW6mkubCzvWjN5aQXBiO6Myxhth9RnpViigCKS2glgeGWCN4pM742QFWzycjvSwW8NrAsNrDHDEgwscahVX6AVJRQBh+Mr+TTPB+o3MJIkERVSOoLcZ/WvnivobxrYPqPg3UbeEEuYtygdypzj9K+eK9TA25WeZjb8yEHB9aM5oxS4r0DhJLe4ktbqK4gYpJE4dGHYg5FfTFhci80+3uRwJo1f8xmvmaCGS5uI4IV3PIwRQB1JOK+mNOt/smmW1v/zyiVPyGK83HW909HBX94s0UUV5p6AUUUUAFFYGo+Kms/EMmjWWhanqtzFax3UrWjW6qiSPIqgmWVCTmJugPatLS7641C1aW70q70t1cqIbt4WZhgHcPKd1xzjk54PHTIBdoqlNqsEOvWmksshnu7ea4RgBtCxNGrAnOc5mXHHY9O92gAooooAKKKKACiiigAooooAKKKKACiiigAooooAKKKKAAgEEEZB6iqWnkwNLYsc+Rgxk94znb+WCv/Ac96u1Rv2FtcW95ztVvJlI/uuQAfwbb9BmgC9RRRQAUUUUAFFFFABRRRQAVTsP3kl3P/z0nKr7BAEx+asfxq5VPSudLhf/AJ6Ayn/gRLf1oAuUUUUAFFFFABRRRQAUUUUAFFFFABRRRQAhAZSDyD1rxrx54Bn068k1HSIWltJCWeNBkxn2HpXs1BAIwRkHsa1pVZUpXRnUpxqRsz5b6ZyCCPWlVGlcLGjMx4AUZJr6LvPCWhX8hkutMt3c9W2YJqSw8NaPpjbrLT4Im/vBBmu768rfCcX1J33OB8B/DtGia+8SWaSBxiK2mUMAPUg9/T0rtHsdW0YB9GmbUbVSN1jeS5kVe/lzHnP+zJnPTcoreorz6lSVSXNI7oQUI8qM/Ttbs9SleCNmhu4xmS0uF8uVB6lT1Gf4hlT2JrQqnqOlWOqxKmoWyTeWd0bkYeJv7yMOVPuCDWf5OtaP/wAeznWbMf8ALGZglyg/2XOFk+jbT3LmoLNyis/TtbsNTkeG3m23MYzLazKY5ox6sjYIHoeh7E1oUAcNd2F/ffFzUhp2sTaYU0Oy3mKGOTzMz3WM71OMe3rU3iO1uEh8O6Pq+pTXlpqGqGG9nYLEZUEMsiRHYAArOiA/3vu/xVt6p4T0LW74Xmq6XBdXIjEQlcfNsBJC59AWY/iaI/CegxaRPpaaVb/Ybht8kBXKs3GDz3GBg9sUAcbqGm2Xhv4jR/8ACLxJBcDw1qEy6fAMRq4kt9jrGOAWIIOBzsHpWR4p0fRNP+ENnrdhctDqFz9ic6isx86+eSSPcJGzmTcCxweBjIxivS7Dwvo+lS+dpljFbXPlvGLgDdJhtucs2SfuJ1/uiuMl+G11qJhtb+00W2iWdJri+tA/mz7XDsEhK7IC5X5irNwWHegCreWmoa/4s8SfavDlhrC2V0tvA93qrW7WkfkxuDGojbYSWZvMBBPT+EV3XhCW7n8GaRLqNzHd3LWkZkuIn3rMdo+cNgZz1zgZzTtU8K6HrN0LnVNMguJtnls7D76ddrY+8vJ4bI5NayIsaKkahVUYVQMAD0oAWiiigAooooAKKKKACiiigAooooAKKKKACiiigAqK6gF1aTQNwJUKE+mRipaKAILGc3On287cNJGrMPQkc1PVPS+LIr2WaVR7ASMB+gq5QAUUUUAFFFFABRRRQAVT0n/kD2g/uwqp+oGKuVT0z5baSM9Y55FI9BvJH/jpFAFyiiigAooooAKKKKACiiigAooooAKKKKACiiigAooooAKKKKACiiigCjqejWWrCI3kR82AloJ42KSwkjBKuMEZ6HsRwciqPm61o/8Ax8IdZsx/y1iVUuUH+0nCyfVdp7BWNblFAFPTtWsdVjdtPuUmMZ2yJ0eJv7rofmU+xANXKz9R0Sy1KRJpUaK6jGIrqBjHLGPQMOcf7Jyp7g1R+26vospXVIm1Owx8t7axfvo/+ukS/e/3ox/wAAZoA3qKr2OoWmp2ouNPuYrmEkjfEwYAjqD6Edx1FWKACiiigAooooAKKKKACiiigAooooAKKKKACiiigAooooAKKKCQASTgDvQBT0z/AI9H/wCvif8A9GtVyqmlA/2VbseGkTzW+rfMf1NW6ACiiigAooooAKKKKACqcX7nV54zwtwgmX3ZcK36bKuVT1EGOOO7QEtbNvIHdMYYflzj1AoAuUUisGUMpBBGQR3paACiiigAooooAKKKKACiiigAooooAKKKKACiiigAooooAKKKKACiiigAooooAzL7QbW7ujeQPLY35AH2u1IV2A6BgQVcezggdsVW/tPU9K+XWrQ3cA6XunxM2P8Afh5YfVd47nbW5RQBBZ3trqFqtzY3EVxA/wB2SJwyn8RXK+NfHsHhn/RLSNbnUHXOwn5Yh2Lf4Vq6no1vbNdatp876ZebTJNLCAUm2j/lpGeH4AGeGwMBhXgOpahPqmpT3124aady7kDA+gHp2rrwtFVJXlsjlxNZ042juy/qXizXdUmL3eqXOCfuRuUUfguBUVn4l1rT5VktNUukI5wZSyn6g8GsrnPJpa9bkja1jyueV73PaPA/xDXXpV07VgkN8R+7deFm/Ds3t3rvK+X7a5ltLqK4tmKSxOHRh2IORX0no2orq2i2l8gwJ4lcj0JHIrysVRVNqUdmenhazmrS3RdooorjOwKKKKACiiigAooooAKKKKACqWqsxsvs8X+sumEK+wP3j+Chj+FXapJ/pWqvJ1jtV8tfdzgt+QwPxagC4AFUADAAwAKWiigAoopGYKpZiAAMkntQAtFc3H8QPDUjpt1BxBI4jS8a1mW1dicACcp5ZyeOGrpKACiiigAoqvdX9tZSWyXUwja6m8iEEH532s238lY/hVigChZsLS4bT3OABvt894/7v/ATx9NtX6gu7b7TCArbJUO+OQDOxh3/AKEdwSKS0uftEbCRfLmjO2WPOdp9vUHqDQBYooooAKKKKACiiigAooooAKKKKACiiigAooooAKKKKACiiigAooooAKKKKACiiigClrULXOhX0Mf3pIHUfUqa+aTlcg5z3r6jIyMGvD/iD4OuNH1aW/s4mexnYuSo/wBWT1B9q78HUUZOL6nDi6bklJdDivejFKKCfSvVPMEzX0P4JtntPBmmxSghvJDEHtnn+teQeCfCM/iPVI5JIytjEwaWQjhv9kV72iLHGqIMKowBXl4yom1BHpYOm0nNjqKq6nqdno2l3Go6nOtvaWyGSaVgSEUdTxSHVbEaMdWF1G1gIDcfaEO5DGF3bgR1GOeK887y3RTIZUnhSaJt0cihlYdwRkGn0AFFV1vrZ9SksFlBuo4lmeLByEYsFP4lGH4VYoAKKKKACiimTTRwQtLMwVEGST2oAivrhre3/dANPIdkKnux/oOp9gafa262tskKktt6serE8kn3JyfxqvaRyTzG9uUKMRthjbrGvv8A7R7+nA9c3aACiiigArlviU7p8OdWCSGJZI1imcHG2J3VZDnthC3NdTUV1bQXtpNa3cSTQTo0csbjKupGCCO4IoAwfFAa18Oy2EGgw6hpLWjxXMRuVgSOILjbgjptz0xjFYsOpalrt/4TttE1CfSdM1DRHv5gFSWbCm32KHdW5/ekE4ORnvgjTTwFb/ZF0+fW9YudJUbRps06NEU7IX2eaydtrOQRwcitPTfDVhpbaW1r5udL086db7nz+6Pl9eOT+6Xn60AcR4t8S6nZWPiHUtK1fUpp9MEzQW9jp6tZx+UmSs0kifMcg79r5XoACOdj7ZrOveMv7Pg1eXTNP/sW1vXW2jjMvmySTDhnVsLhRnj+FcYyc3L34f6ff21/YzX+pLpeoPLJPp0c6rCXkJZyCF3jLEsV3bck8c4qingyY+NGuY7/AFK1Fro1raW2oxPHvfEk5dGUoUbgxnlPTGKAMfVLvWb46Xpj36Pf6Z4rWyW/eFcyIbN5A5QYXeElxwNu5c4xxXVaNLqFh4wvNFu9TuNTt/sMV3FJdJGJI2Mjoy5jVQVO1SMjI55xjFm28I6ba21jEhndrO9N+JpJN0k05V1Z5CeuQ59McAYAArRGl2664+rDf9pe2W2PPy7AxYceuWNAFyql1bv5ourTAuEG0qTgSr/dP9D2PsTm3RQBDa3Ud3GWiJBU7XRuGRvQjsamqrdWjO/2i1YR3KjAY/dcf3W9R79R27gutbxbkMrKYp0/1kTdV/xHoRxQBYooooAKKKKACiiigAooooAKKKKACiiigAooooAKKKKACiiigAooooAKKKKACo5oI7iFop0V0YYKsODUlFAHD6l8KtEvJjJbGW0LHJWM5H5GorH4SaNbyhrmae5A/hY4B/Ku9orX21S1uZmXsqd72ILKxttPtUt7OFYokGAqjFT0UVkanLfEz/kmWvf9ejfzFYWvqvhPw/4g0EgJpOoadeS6WcYWGTynaS39h1dB6bx0UV3Gs6Tba7ot1pd9v+z3UZjk8tsNj2NQ+I/D2n+KtBuNI1eNntrgYJjba6EchlbsRQBzelSajr98+nW+rXOlWel2NqD9kSMyTSyR7iWMiMAoXaAAOTuye1V7bX9Z1Oey8Pf2h9nu/t93bXOpQxJveK3AIKKwKq7B4weCBh8AcY6G58JW73Ud1p2oX+l3S26WrzWbpmaNM7Q6ujKSMtg4yMnmmv4L0z+ybSytpLq1ls5muIL2Gb/SFlbdvcswO4tubcGBBz06YAOUu7/UfCPiTxbfXN22rvZaBazWrTIqyEeZcYWTYADhgeQB8vqRk6Gk6jrcGu6Ygudd1OG5cx34v9MWCOEbGIljKou3DhV2ktw3qMnbtPBWmQXGpT3klzqU2rWy2t9JeOG8+Nd+BhQAvDkYUAe2ckusPCMFpfWtzdanqWpfYc/Y472VWW3JUrkbVBZtpK7nLHBPPJoA36KKjnnitoTLO4RB3P8AIep9qAHu6xozyMFVRlmJwAPWqMatqMyTyqVto2DQxsMFyOjsPT0H4nnGBIZb+QS3iGKBWzHbt1b0Z/6L26nnpfoAKKKKACiiigAooooAKKKKACiiigAooooAKKKKACoLm0judrEtHKn3JU4ZP/rex4NT0UAUReS2h2akFC9rlBhD/vD+E/Xj37Ve69KCARgjINURZzWWTpzL5ZOTbSHCj/dP8P0wR7CgC9RVWG/jkkEMoaCc/wDLKXgn6Ho34Zq1QAUUUUAFFFFABRRRQAUUUUAFFFFABRRRQAUUUUAFFFFABRRRQAUUUUAFFFFABRRRQAUUUUAFFFFABRUNxeQWoXz5Apb7qjln9go5P4VXIu74EHdZQH0I81h/Jf1P0NAEk9+qSmC3X7RcDrGp+77sf4R+voDSQ2bGYXF44mnH3cDCR/7o/qefoOKngt4raFYoECIvQD+fufepKACiiigAooooAKKKKACiiigAooooAKKKKACiiigAooooAKKKKACiiigCOaCK4iMc8ayIf4WGarfZrq2/485/NT/nlcEn8n6j8d1XaKAKUepx7gl4jWcpOAsvCsf9luh+nX2FXaintYLpQtxEsgByu4cqfUHsar/YZYf+PO8lT/YnJlX9Tu/8eoAu0VT+1XUH/H1aFl/56W7bx+KnB/AZp8OoWk8nlxzr5v8Azyb5XH/ATz+lAFmiiigAooooAKKKKACiiigAooooAKKKKACiiigAooooAKKKKACiimTTxW8e+eVIkHVnYAfmaAH0VT/tESf8ecE1x/tBdqfXc2AR9M0eVfz/AOtmjtV/uwDe3/fTDH/jv40AST39vbv5bvulxkRRqXfHrtHOPeoVN9eKCf8AQYz24eU/+yr/AOPfhU0FhbwSeYqbpcY82Ql3+m4849ulWKAILezgtizRJl2+9IxLM31Y8mp6KKACiiigAooooAKKKKACiiigAooooAKKKKACiiigAooooAKKKKACiiigAooooAKKKKACiiigAqOaCK4j2XESSp/ddQw/I1JRQBRfS1UD7Hc3FoR0CPuX6bWyAPoBTsalF3tbj6hoj/7Nn9KuUUAU/t0qf6+xuFHdk2uP0O79KP7Vsx/rZvI/67o0X/oQFXKKAI4biG4XdBKko9UYH+VSVXmsLO4bdPawSn1eMH+dR/2VaD/VxvD7QytH/wCgkUAXKKp/2ci/6u5uk/7bs3/oWaPsU3bUroD/AHYj/wCyUAXKKp/Y7kdNSuD/ALyR/wDxNH2S7/6CEn/fpP8ACgC5RVP7JdHrqM34Rp/8TR9in/6Cd1/3zF/8RQBcoqn9gZv9ZfXT/wDAwv8A6CBR/ZdufvNcN7NdSEfluoAtlgoJYgAdSaqtqtgrFftkJYfwq4LfkOaBpWngg/YoCw/iaME/matKqooVAFA6ADFAFT+0Vf8A1FtdTH08kp+r7RR52oSf6u1iiB7yy5Yf8BUEf+PVcooAomxuZnBur+Tb3jt18pT9Ty35MKlh0+1gkEkcCmX/AJ6N8z/99HmrNFABRRRQAUUUUAFFFFABRRRQAUUUUAFFFFABRRRQAUUUUAFFFFABRRRQAUUUUAFFFFABRRRQAUUUUAFFFFABRRRQAUUUUAFFFFABRRRQAUUUUAFFFFABRRRQAUUUUAFFFFABRRRQAUUUUAFFFFABRRRQAUUUUAFFFFABRRRQAUUUUAFFFFABRRRQB//Z)\n",
        "\n",
        "\n",
        "For basic introduction to network analysis, please see [DataCamp's GitHub page](https://github.com/trenton3983/DataCamp/blob/master/2020-05-21_intro_to_network_analysis_in_python.ipynb). You can also check out Trenton McKinney's Notebook [here](https://trenton3983.github.io/files/projects/2020-05-21_intro_to_network_analysis_in_python/2020-05-21_intro_to_network_analysis_in_python.html)."
      ],
      "metadata": {
        "id": "MdLaNeaGMXZ7"
      }
    },
    {
      "cell_type": "markdown",
      "source": [
        "## Section A. Installations and imports\n",
        "---\n",
        "\n"
      ],
      "metadata": {
        "id": "AcatyNhlww4z"
      }
    },
    {
      "cell_type": "markdown",
      "source": [
        "In this section, we install and import necessary python packagaes"
      ],
      "metadata": {
        "id": "6ba807yHOr7c"
      }
    },
    {
      "cell_type": "markdown",
      "source": [
        "### Install and import packages"
      ],
      "metadata": {
        "id": "aeTZVS0aw0RB"
      }
    },
    {
      "cell_type": "code",
      "source": [
        "!pip install nxviz"
      ],
      "metadata": {
        "id": "_xRlhwXqv6km",
        "colab": {
          "base_uri": "https://localhost:8080/"
        },
        "outputId": "6ff37538-0a78-45a3-aa31-0cf7cc239252"
      },
      "execution_count": 1,
      "outputs": [
        {
          "output_type": "stream",
          "name": "stdout",
          "text": [
            "Looking in indexes: https://pypi.org/simple, https://us-python.pkg.dev/colab-wheels/public/simple/\n",
            "Collecting nxviz\n",
            "  Downloading nxviz-0.7.4-py3-none-any.whl (28 kB)\n",
            "Requirement already satisfied: pandas>=1.2.0 in /usr/local/lib/python3.9/dist-packages (from nxviz) (1.3.5)\n",
            "Requirement already satisfied: seaborn>=0.11.1 in /usr/local/lib/python3.9/dist-packages (from nxviz) (0.11.2)\n",
            "Requirement already satisfied: palettable>=3.3.0 in /usr/local/lib/python3.9/dist-packages (from nxviz) (3.3.0)\n",
            "Requirement already satisfied: networkx>=2.5 in /usr/local/lib/python3.9/dist-packages (from nxviz) (3.0)\n",
            "Requirement already satisfied: numpy>=1.19.4 in /usr/local/lib/python3.9/dist-packages (from nxviz) (1.22.4)\n",
            "Requirement already satisfied: matplotlib>=3.3.3 in /usr/local/lib/python3.9/dist-packages (from nxviz) (3.5.3)\n",
            "Requirement already satisfied: more-itertools>=8.6.0 in /usr/local/lib/python3.9/dist-packages (from nxviz) (9.1.0)\n",
            "Requirement already satisfied: cycler>=0.10 in /usr/local/lib/python3.9/dist-packages (from matplotlib>=3.3.3->nxviz) (0.11.0)\n",
            "Requirement already satisfied: packaging>=20.0 in /usr/local/lib/python3.9/dist-packages (from matplotlib>=3.3.3->nxviz) (23.0)\n",
            "Requirement already satisfied: fonttools>=4.22.0 in /usr/local/lib/python3.9/dist-packages (from matplotlib>=3.3.3->nxviz) (4.39.0)\n",
            "Requirement already satisfied: python-dateutil>=2.7 in /usr/local/lib/python3.9/dist-packages (from matplotlib>=3.3.3->nxviz) (2.8.2)\n",
            "Requirement already satisfied: pyparsing>=2.2.1 in /usr/local/lib/python3.9/dist-packages (from matplotlib>=3.3.3->nxviz) (3.0.9)\n",
            "Requirement already satisfied: pillow>=6.2.0 in /usr/local/lib/python3.9/dist-packages (from matplotlib>=3.3.3->nxviz) (8.4.0)\n",
            "Requirement already satisfied: kiwisolver>=1.0.1 in /usr/local/lib/python3.9/dist-packages (from matplotlib>=3.3.3->nxviz) (1.4.4)\n",
            "Requirement already satisfied: pytz>=2017.3 in /usr/local/lib/python3.9/dist-packages (from pandas>=1.2.0->nxviz) (2022.7.1)\n",
            "Requirement already satisfied: scipy>=1.0 in /usr/local/lib/python3.9/dist-packages (from seaborn>=0.11.1->nxviz) (1.10.1)\n",
            "Requirement already satisfied: six>=1.5 in /usr/local/lib/python3.9/dist-packages (from python-dateutil>=2.7->matplotlib>=3.3.3->nxviz) (1.15.0)\n",
            "Installing collected packages: nxviz\n",
            "Successfully installed nxviz-0.7.4\n"
          ]
        }
      ]
    },
    {
      "cell_type": "code",
      "source": [
        "!pip install matplotlib==3.1.3"
      ],
      "metadata": {
        "colab": {
          "base_uri": "https://localhost:8080/"
        },
        "id": "FB47JbQqs12M",
        "outputId": "ce6285b9-d15d-4bee-95bc-4c4f2fb0cecb"
      },
      "execution_count": 3,
      "outputs": [
        {
          "output_type": "stream",
          "name": "stdout",
          "text": [
            "Looking in indexes: https://pypi.org/simple, https://us-python.pkg.dev/colab-wheels/public/simple/\n",
            "Collecting matplotlib==3.1.3\n",
            "  Using cached matplotlib-3.1.3.tar.gz (40.9 MB)\n",
            "  Preparing metadata (setup.py) ... \u001b[?25l\u001b[?25hdone\n",
            "Requirement already satisfied: cycler>=0.10 in /usr/local/lib/python3.9/dist-packages (from matplotlib==3.1.3) (0.11.0)\n",
            "Requirement already satisfied: kiwisolver>=1.0.1 in /usr/local/lib/python3.9/dist-packages (from matplotlib==3.1.3) (1.4.4)\n",
            "Requirement already satisfied: pyparsing!=2.0.4,!=2.1.2,!=2.1.6,>=2.0.1 in /usr/local/lib/python3.9/dist-packages (from matplotlib==3.1.3) (3.0.9)\n",
            "Requirement already satisfied: python-dateutil>=2.1 in /usr/local/lib/python3.9/dist-packages (from matplotlib==3.1.3) (2.8.2)\n",
            "Requirement already satisfied: numpy>=1.11 in /usr/local/lib/python3.9/dist-packages (from matplotlib==3.1.3) (1.22.4)\n",
            "Requirement already satisfied: six>=1.5 in /usr/local/lib/python3.9/dist-packages (from python-dateutil>=2.1->matplotlib==3.1.3) (1.15.0)\n",
            "Building wheels for collected packages: matplotlib\n",
            "  Building wheel for matplotlib (setup.py) ... \u001b[?25l\u001b[?25hdone\n",
            "  Created wheel for matplotlib: filename=matplotlib-3.1.3-cp39-cp39-linux_x86_64.whl size=12062388 sha256=e9997e08b06ec8e50df3c5c9676418ca48e6bce68aae4d8efe7a8943e4c0b2a0\n",
            "  Stored in directory: /root/.cache/pip/wheels/88/5f/33/d7b8943eba74fdfbd535c83cefcf366c25b0f9cb6424e763e7\n",
            "Successfully built matplotlib\n",
            "Installing collected packages: matplotlib\n",
            "  Attempting uninstall: matplotlib\n",
            "    Found existing installation: matplotlib 3.5.3\n",
            "    Uninstalling matplotlib-3.5.3:\n",
            "      Successfully uninstalled matplotlib-3.5.3\n",
            "\u001b[31mERROR: pip's dependency resolver does not currently take into account all the packages that are installed. This behaviour is the source of the following dependency conflicts.\n",
            "plotnine 0.10.1 requires matplotlib>=3.5.0, but you have matplotlib 3.1.3 which is incompatible.\n",
            "nxviz 0.7.4 requires matplotlib>=3.3.3, but you have matplotlib 3.1.3 which is incompatible.\n",
            "mizani 0.8.1 requires matplotlib>=3.5.0, but you have matplotlib 3.1.3 which is incompatible.\u001b[0m\u001b[31m\n",
            "\u001b[0mSuccessfully installed matplotlib-3.1.3\n"
          ]
        }
      ]
    },
    {
      "cell_type": "code",
      "execution_count": 5,
      "metadata": {
        "id": "UozISdSWvmy-"
      },
      "outputs": [],
      "source": [
        "from pathlib import Path\n",
        "import requests\n",
        "import networkx as nx\n",
        "import nxviz as nv\n",
        "import matplotlib as mpl\n",
        "import matplotlib.pyplot as plt\n",
        "from datetime import datetime, date\n",
        "from pprint import pprint as pp\n",
        "from itertools import combinations\n",
        "import random\n",
        "from collections import Counter, defaultdict\n",
        "import numpy as np\n",
        "import statistics as stats\n",
        "import operator\n",
        "import re"
      ]
    },
    {
      "cell_type": "code",
      "source": [
        "print(f'NetworkX version: {nx.__version__}')\n",
        "print(f'Matplotlib version: {mpl.__version__}')"
      ],
      "metadata": {
        "colab": {
          "base_uri": "https://localhost:8080/"
        },
        "id": "OFrUHB_1wMv_",
        "outputId": "7be0399f-0ad3-44ce-c95d-9fa88cc1615f"
      },
      "execution_count": 6,
      "outputs": [
        {
          "output_type": "stream",
          "name": "stdout",
          "text": [
            "NetworkX version: 3.0\n",
            "Matplotlib version: 3.5.3\n"
          ]
        }
      ]
    },
    {
      "cell_type": "markdown",
      "source": [
        "## Section B. Load the dataset and pre-process the data\n",
        "---"
      ],
      "metadata": {
        "id": "vP1WeB0rw-4a"
      }
    },
    {
      "cell_type": "markdown",
      "source": [
        "\n",
        "Below we load the csv dataset downloaded from CrowdTangle (as pandas dataframe), and do data pre-processings. In the `PATH_TO_YOUR_DIRECTORY` string insert the path to your Google Drive folder where your csv dataset is located."
      ],
      "metadata": {
        "id": "jeFMSoCPWbXs"
      }
    },
    {
      "cell_type": "code",
      "source": [
        "from google.colab import drive\n",
        "drive.mount('/content/drive')"
      ],
      "metadata": {
        "colab": {
          "base_uri": "https://localhost:8080/"
        },
        "id": "vqanbY-9CcHj",
        "outputId": "7773c757-4450-498a-f614-0536045db4f5"
      },
      "execution_count": 7,
      "outputs": [
        {
          "output_type": "stream",
          "name": "stdout",
          "text": [
            "Mounted at /content/drive\n"
          ]
        }
      ]
    },
    {
      "cell_type": "code",
      "source": [
        "import os\n",
        "os.chdir(\"/content/drive/MyDrive/Twitter-Accounts-Timeline/\")"
      ],
      "metadata": {
        "id": "-L6Kp7qrDU60"
      },
      "execution_count": 8,
      "outputs": []
    },
    {
      "cell_type": "code",
      "source": [
        "import pandas as pd\n",
        "import time"
      ],
      "metadata": {
        "id": "9qG0sPar1K0J"
      },
      "execution_count": 9,
      "outputs": []
    },
    {
      "cell_type": "markdown",
      "source": [
        "### Read the CSV data as pandas dataframes"
      ],
      "metadata": {
        "id": "el3HgR5jBlOY"
      }
    },
    {
      "cell_type": "markdown",
      "source": [
        "Below we load the csv datasets as pandas dataframe."
      ],
      "metadata": {
        "id": "176FdEBGYrQo"
      }
    },
    {
      "cell_type": "code",
      "source": [
        "# load csv data as pandas dataframe\n",
        "csv_data_AlvBotMerged = pd.read_csv(\"AlvBotMerged.csv\", low_memory=False,  lineterminator='\\n', sep=',')\n",
        "csv_data_AlvRealMerged = pd.read_csv(\"AlvRealMerged.csv\", low_memory=False,  lineterminator='\\n', sep=',')\n",
        "\n",
        "csv_data_LarrouBotMerged = pd.read_csv(\"LarrouBotMerged.csv\", low_memory=False,  lineterminator='\\n', sep=',')\n",
        "csv_data_LarrouRealMerged = pd.read_csv(\"LarrouRealMerged.csv\", low_memory=False,  lineterminator='\\n', sep=',')\n"
      ],
      "metadata": {
        "id": "pMaMKEw65SPv"
      },
      "execution_count": 19,
      "outputs": []
    },
    {
      "cell_type": "markdown",
      "source": [
        "Let us now enquire the shape of the dataset and print available columns to the dataset"
      ],
      "metadata": {
        "id": "Imxy76ebYxdj"
      }
    },
    {
      "cell_type": "code",
      "source": [
        "print (csv_data_AlvBotMerged.shape)\n",
        "print (csv_data_AlvRealMerged .shape)\n",
        "\n",
        "print (csv_data_LarrouBotMerged.shape)\n",
        "print (csv_data_LarrouRealMerged.shape)"
      ],
      "metadata": {
        "colab": {
          "base_uri": "https://localhost:8080/"
        },
        "id": "Kd-8T5hx5krf",
        "outputId": "9c692326-fc3f-4555-9e7f-d877f0b74e04"
      },
      "execution_count": 20,
      "outputs": [
        {
          "output_type": "stream",
          "name": "stdout",
          "text": [
            "(200, 40)\n",
            "(580, 40)\n",
            "(348, 40)\n",
            "(560, 40)\n"
          ]
        }
      ]
    },
    {
      "cell_type": "code",
      "source": [
        "csv_data_AlvBotMerged.columns"
      ],
      "metadata": {
        "colab": {
          "base_uri": "https://localhost:8080/"
        },
        "id": "ZvqS025iDidZ",
        "outputId": "97be6529-e923-45d2-af36-a2d8628fed47"
      },
      "execution_count": 21,
      "outputs": [
        {
          "output_type": "execute_result",
          "data": {
            "text/plain": [
              "Index(['Unnamed: 0', 'Unnamed: 0.1', 'id', 'conversation_id', 'created_at',\n",
              "       'date', 'timezone', 'place', 'tweet', 'language', 'hashtags',\n",
              "       'cashtags', 'user_id', 'user_id_str', 'username', 'name', 'day', 'hour',\n",
              "       'link', 'urls', 'photos', 'video', 'thumbnail', 'retweet', 'nlikes',\n",
              "       'nreplies', 'nretweets', 'quote_url', 'search', 'near', 'geo', 'source',\n",
              "       'user_rt_id', 'user_rt', 'retweet_id', 'reply_to', 'retweet_date',\n",
              "       'translate', 'trans_src', 'trans_dest'],\n",
              "      dtype='object')"
            ]
          },
          "metadata": {},
          "execution_count": 21
        }
      ]
    },
    {
      "cell_type": "code",
      "source": [
        "# show one of the csv data sets\n",
        "csv_data_AlvBotMerged.sample(5)"
      ],
      "metadata": {
        "id": "G7v2S1wnBOjO",
        "colab": {
          "base_uri": "https://localhost:8080/",
          "height": 535
        },
        "outputId": "78fc97e6-ff2f-44b6-e661-d69e61736d27"
      },
      "execution_count": 22,
      "outputs": [
        {
          "output_type": "execute_result",
          "data": {
            "text/plain": [
              "     Unnamed: 0  Unnamed: 0.1            id  conversation_id    created_at  \\\n",
              "109         109            49  1.584893e+18     1.584597e+18  1.666703e+12   \n",
              "167         167           107  1.574393e+18     1.574065e+18  1.664199e+12   \n",
              "55           55            15  1.584422e+18     1.584158e+18  1.666591e+12   \n",
              "6             6             6  1.607252e+18     1.607198e+18  1.672034e+12   \n",
              "28           28             8  1.571933e+18     1.568983e+18  1.663613e+12   \n",
              "\n",
              "                    date  timezone  place  \\\n",
              "109  2022-10-25 13:01:29       0.0    NaN   \n",
              "167  2022-09-26 13:37:10       0.0    NaN   \n",
              "55   2022-10-24 05:49:02       0.0    NaN   \n",
              "6    2022-12-26 05:48:56       0.0    NaN   \n",
              "28   2022-09-19 18:44:41       0.0    NaN   \n",
              "\n",
              "                                                 tweet language  ... geo  \\\n",
              "109  @khannakaira1 @sarcar_priyanka @drunkJournalis...       en  ... NaN   \n",
              "167  @DeekshaNRaut I know Brahmins who eat non veg ...       en  ... NaN   \n",
              "55   @faiqk4273 @virendersehwag Bete pokistaniyo ku...       hi  ... NaN   \n",
              "6          @MrBeast Andrew tate, Logan paul, Jake paul       ht  ... NaN   \n",
              "28                    @KhaledBeydoun *Muslim terrorist       en  ... NaN   \n",
              "\n",
              "    source  user_rt_id  user_rt retweet_id  \\\n",
              "109    NaN         NaN      NaN        NaN   \n",
              "167    NaN         NaN      NaN        NaN   \n",
              "55     NaN         NaN      NaN        NaN   \n",
              "6      NaN         NaN      NaN        NaN   \n",
              "28     NaN         NaN      NaN        NaN   \n",
              "\n",
              "                                              reply_to  retweet_date  \\\n",
              "109  [{'screen_name': 'sarcar_priyanka', 'name': 'P...           NaN   \n",
              "167  [{'screen_name': 'DeekshaNRaut', 'name': 'Deek...           NaN   \n",
              "55   [{'screen_name': 'faiqk4273', 'name': 'فائق خا...           NaN   \n",
              "6    [{'screen_name': 'MrBeast', 'name': 'MrBeast',...           NaN   \n",
              "28   [{'screen_name': 'KhaledBeydoun', 'name': 'Kha...           NaN   \n",
              "\n",
              "     translate trans_src trans_dest  \n",
              "109        NaN       NaN        NaN  \n",
              "167        NaN       NaN        NaN  \n",
              "55         NaN       NaN        NaN  \n",
              "6          NaN       NaN        NaN  \n",
              "28         NaN       NaN        NaN  \n",
              "\n",
              "[5 rows x 40 columns]"
            ],
            "text/html": [
              "\n",
              "  <div id=\"df-9e92fab8-ce8e-4785-9148-a2b78ac8ac2c\">\n",
              "    <div class=\"colab-df-container\">\n",
              "      <div>\n",
              "<style scoped>\n",
              "    .dataframe tbody tr th:only-of-type {\n",
              "        vertical-align: middle;\n",
              "    }\n",
              "\n",
              "    .dataframe tbody tr th {\n",
              "        vertical-align: top;\n",
              "    }\n",
              "\n",
              "    .dataframe thead th {\n",
              "        text-align: right;\n",
              "    }\n",
              "</style>\n",
              "<table border=\"1\" class=\"dataframe\">\n",
              "  <thead>\n",
              "    <tr style=\"text-align: right;\">\n",
              "      <th></th>\n",
              "      <th>Unnamed: 0</th>\n",
              "      <th>Unnamed: 0.1</th>\n",
              "      <th>id</th>\n",
              "      <th>conversation_id</th>\n",
              "      <th>created_at</th>\n",
              "      <th>date</th>\n",
              "      <th>timezone</th>\n",
              "      <th>place</th>\n",
              "      <th>tweet</th>\n",
              "      <th>language</th>\n",
              "      <th>...</th>\n",
              "      <th>geo</th>\n",
              "      <th>source</th>\n",
              "      <th>user_rt_id</th>\n",
              "      <th>user_rt</th>\n",
              "      <th>retweet_id</th>\n",
              "      <th>reply_to</th>\n",
              "      <th>retweet_date</th>\n",
              "      <th>translate</th>\n",
              "      <th>trans_src</th>\n",
              "      <th>trans_dest</th>\n",
              "    </tr>\n",
              "  </thead>\n",
              "  <tbody>\n",
              "    <tr>\n",
              "      <th>109</th>\n",
              "      <td>109</td>\n",
              "      <td>49</td>\n",
              "      <td>1.584893e+18</td>\n",
              "      <td>1.584597e+18</td>\n",
              "      <td>1.666703e+12</td>\n",
              "      <td>2022-10-25 13:01:29</td>\n",
              "      <td>0.0</td>\n",
              "      <td>NaN</td>\n",
              "      <td>@khannakaira1 @sarcar_priyanka @drunkJournalis...</td>\n",
              "      <td>en</td>\n",
              "      <td>...</td>\n",
              "      <td>NaN</td>\n",
              "      <td>NaN</td>\n",
              "      <td>NaN</td>\n",
              "      <td>NaN</td>\n",
              "      <td>NaN</td>\n",
              "      <td>[{'screen_name': 'sarcar_priyanka', 'name': 'P...</td>\n",
              "      <td>NaN</td>\n",
              "      <td>NaN</td>\n",
              "      <td>NaN</td>\n",
              "      <td>NaN</td>\n",
              "    </tr>\n",
              "    <tr>\n",
              "      <th>167</th>\n",
              "      <td>167</td>\n",
              "      <td>107</td>\n",
              "      <td>1.574393e+18</td>\n",
              "      <td>1.574065e+18</td>\n",
              "      <td>1.664199e+12</td>\n",
              "      <td>2022-09-26 13:37:10</td>\n",
              "      <td>0.0</td>\n",
              "      <td>NaN</td>\n",
              "      <td>@DeekshaNRaut I know Brahmins who eat non veg ...</td>\n",
              "      <td>en</td>\n",
              "      <td>...</td>\n",
              "      <td>NaN</td>\n",
              "      <td>NaN</td>\n",
              "      <td>NaN</td>\n",
              "      <td>NaN</td>\n",
              "      <td>NaN</td>\n",
              "      <td>[{'screen_name': 'DeekshaNRaut', 'name': 'Deek...</td>\n",
              "      <td>NaN</td>\n",
              "      <td>NaN</td>\n",
              "      <td>NaN</td>\n",
              "      <td>NaN</td>\n",
              "    </tr>\n",
              "    <tr>\n",
              "      <th>55</th>\n",
              "      <td>55</td>\n",
              "      <td>15</td>\n",
              "      <td>1.584422e+18</td>\n",
              "      <td>1.584158e+18</td>\n",
              "      <td>1.666591e+12</td>\n",
              "      <td>2022-10-24 05:49:02</td>\n",
              "      <td>0.0</td>\n",
              "      <td>NaN</td>\n",
              "      <td>@faiqk4273 @virendersehwag Bete pokistaniyo ku...</td>\n",
              "      <td>hi</td>\n",
              "      <td>...</td>\n",
              "      <td>NaN</td>\n",
              "      <td>NaN</td>\n",
              "      <td>NaN</td>\n",
              "      <td>NaN</td>\n",
              "      <td>NaN</td>\n",
              "      <td>[{'screen_name': 'faiqk4273', 'name': 'فائق خا...</td>\n",
              "      <td>NaN</td>\n",
              "      <td>NaN</td>\n",
              "      <td>NaN</td>\n",
              "      <td>NaN</td>\n",
              "    </tr>\n",
              "    <tr>\n",
              "      <th>6</th>\n",
              "      <td>6</td>\n",
              "      <td>6</td>\n",
              "      <td>1.607252e+18</td>\n",
              "      <td>1.607198e+18</td>\n",
              "      <td>1.672034e+12</td>\n",
              "      <td>2022-12-26 05:48:56</td>\n",
              "      <td>0.0</td>\n",
              "      <td>NaN</td>\n",
              "      <td>@MrBeast Andrew tate, Logan paul, Jake paul</td>\n",
              "      <td>ht</td>\n",
              "      <td>...</td>\n",
              "      <td>NaN</td>\n",
              "      <td>NaN</td>\n",
              "      <td>NaN</td>\n",
              "      <td>NaN</td>\n",
              "      <td>NaN</td>\n",
              "      <td>[{'screen_name': 'MrBeast', 'name': 'MrBeast',...</td>\n",
              "      <td>NaN</td>\n",
              "      <td>NaN</td>\n",
              "      <td>NaN</td>\n",
              "      <td>NaN</td>\n",
              "    </tr>\n",
              "    <tr>\n",
              "      <th>28</th>\n",
              "      <td>28</td>\n",
              "      <td>8</td>\n",
              "      <td>1.571933e+18</td>\n",
              "      <td>1.568983e+18</td>\n",
              "      <td>1.663613e+12</td>\n",
              "      <td>2022-09-19 18:44:41</td>\n",
              "      <td>0.0</td>\n",
              "      <td>NaN</td>\n",
              "      <td>@KhaledBeydoun *Muslim terrorist</td>\n",
              "      <td>en</td>\n",
              "      <td>...</td>\n",
              "      <td>NaN</td>\n",
              "      <td>NaN</td>\n",
              "      <td>NaN</td>\n",
              "      <td>NaN</td>\n",
              "      <td>NaN</td>\n",
              "      <td>[{'screen_name': 'KhaledBeydoun', 'name': 'Kha...</td>\n",
              "      <td>NaN</td>\n",
              "      <td>NaN</td>\n",
              "      <td>NaN</td>\n",
              "      <td>NaN</td>\n",
              "    </tr>\n",
              "  </tbody>\n",
              "</table>\n",
              "<p>5 rows × 40 columns</p>\n",
              "</div>\n",
              "      <button class=\"colab-df-convert\" onclick=\"convertToInteractive('df-9e92fab8-ce8e-4785-9148-a2b78ac8ac2c')\"\n",
              "              title=\"Convert this dataframe to an interactive table.\"\n",
              "              style=\"display:none;\">\n",
              "        \n",
              "  <svg xmlns=\"http://www.w3.org/2000/svg\" height=\"24px\"viewBox=\"0 0 24 24\"\n",
              "       width=\"24px\">\n",
              "    <path d=\"M0 0h24v24H0V0z\" fill=\"none\"/>\n",
              "    <path d=\"M18.56 5.44l.94 2.06.94-2.06 2.06-.94-2.06-.94-.94-2.06-.94 2.06-2.06.94zm-11 1L8.5 8.5l.94-2.06 2.06-.94-2.06-.94L8.5 2.5l-.94 2.06-2.06.94zm10 10l.94 2.06.94-2.06 2.06-.94-2.06-.94-.94-2.06-.94 2.06-2.06.94z\"/><path d=\"M17.41 7.96l-1.37-1.37c-.4-.4-.92-.59-1.43-.59-.52 0-1.04.2-1.43.59L10.3 9.45l-7.72 7.72c-.78.78-.78 2.05 0 2.83L4 21.41c.39.39.9.59 1.41.59.51 0 1.02-.2 1.41-.59l7.78-7.78 2.81-2.81c.8-.78.8-2.07 0-2.86zM5.41 20L4 18.59l7.72-7.72 1.47 1.35L5.41 20z\"/>\n",
              "  </svg>\n",
              "      </button>\n",
              "      \n",
              "  <style>\n",
              "    .colab-df-container {\n",
              "      display:flex;\n",
              "      flex-wrap:wrap;\n",
              "      gap: 12px;\n",
              "    }\n",
              "\n",
              "    .colab-df-convert {\n",
              "      background-color: #E8F0FE;\n",
              "      border: none;\n",
              "      border-radius: 50%;\n",
              "      cursor: pointer;\n",
              "      display: none;\n",
              "      fill: #1967D2;\n",
              "      height: 32px;\n",
              "      padding: 0 0 0 0;\n",
              "      width: 32px;\n",
              "    }\n",
              "\n",
              "    .colab-df-convert:hover {\n",
              "      background-color: #E2EBFA;\n",
              "      box-shadow: 0px 1px 2px rgba(60, 64, 67, 0.3), 0px 1px 3px 1px rgba(60, 64, 67, 0.15);\n",
              "      fill: #174EA6;\n",
              "    }\n",
              "\n",
              "    [theme=dark] .colab-df-convert {\n",
              "      background-color: #3B4455;\n",
              "      fill: #D2E3FC;\n",
              "    }\n",
              "\n",
              "    [theme=dark] .colab-df-convert:hover {\n",
              "      background-color: #434B5C;\n",
              "      box-shadow: 0px 1px 3px 1px rgba(0, 0, 0, 0.15);\n",
              "      filter: drop-shadow(0px 1px 2px rgba(0, 0, 0, 0.3));\n",
              "      fill: #FFFFFF;\n",
              "    }\n",
              "  </style>\n",
              "\n",
              "      <script>\n",
              "        const buttonEl =\n",
              "          document.querySelector('#df-9e92fab8-ce8e-4785-9148-a2b78ac8ac2c button.colab-df-convert');\n",
              "        buttonEl.style.display =\n",
              "          google.colab.kernel.accessAllowed ? 'block' : 'none';\n",
              "\n",
              "        async function convertToInteractive(key) {\n",
              "          const element = document.querySelector('#df-9e92fab8-ce8e-4785-9148-a2b78ac8ac2c');\n",
              "          const dataTable =\n",
              "            await google.colab.kernel.invokeFunction('convertToInteractive',\n",
              "                                                     [key], {});\n",
              "          if (!dataTable) return;\n",
              "\n",
              "          const docLinkHtml = 'Like what you see? Visit the ' +\n",
              "            '<a target=\"_blank\" href=https://colab.research.google.com/notebooks/data_table.ipynb>data table notebook</a>'\n",
              "            + ' to learn more about interactive tables.';\n",
              "          element.innerHTML = '';\n",
              "          dataTable['output_type'] = 'display_data';\n",
              "          await google.colab.output.renderOutput(dataTable, element);\n",
              "          const docLink = document.createElement('div');\n",
              "          docLink.innerHTML = docLinkHtml;\n",
              "          element.appendChild(docLink);\n",
              "        }\n",
              "      </script>\n",
              "    </div>\n",
              "  </div>\n",
              "  "
            ]
          },
          "metadata": {},
          "execution_count": 22
        }
      ]
    },
    {
      "cell_type": "markdown",
      "source": [
        "### Extract and explode hashtags and mentions"
      ],
      "metadata": {
        "id": "RCnMAivVBbCf"
      }
    },
    {
      "cell_type": "markdown",
      "source": [
        "Define the dataframe to be processed"
      ],
      "metadata": {
        "id": "OdKKCNoDjKjB"
      }
    },
    {
      "cell_type": "code",
      "source": [
        "#df = csv_data_AlvBotMerged\n",
        "#df = csv_data_AlvRealMerged\n",
        "#df = csv_data_LarrouBotMerged\n",
        "df = csv_data_LarrouRealMerged"
      ],
      "metadata": {
        "id": "fM7z8ut4iMx9"
      },
      "execution_count": 147,
      "outputs": []
    },
    {
      "cell_type": "markdown",
      "source": [
        "Extract hashtags"
      ],
      "metadata": {
        "id": "U0_TZ7thjNrk"
      }
    },
    {
      "cell_type": "code",
      "source": [
        "df ['hashtags_extracted'] = df.tweet.str.findall(r'\\B#\\w*[a-zA-Z]+\\w*').apply(','.join)"
      ],
      "metadata": {
        "id": "AjfIzO8bERMr"
      },
      "execution_count": 148,
      "outputs": []
    },
    {
      "cell_type": "markdown",
      "source": [
        "Extract mentions"
      ],
      "metadata": {
        "id": "KGi9WBvWjPqW"
      }
    },
    {
      "cell_type": "code",
      "source": [
        "df ['mentions_extracted'] = df.tweet.str.findall(r'(?<![@\\w])@(\\w{1,25})').apply(','.join)"
      ],
      "metadata": {
        "id": "6MChB6guEpEB"
      },
      "execution_count": 149,
      "outputs": []
    },
    {
      "cell_type": "code",
      "source": [
        "df.sample(5)"
      ],
      "metadata": {
        "colab": {
          "base_uri": "https://localhost:8080/",
          "height": 484
        },
        "id": "nNet5HeYB_Sc",
        "outputId": "9b368050-e985-47db-fad3-4be1d0757141"
      },
      "execution_count": 146,
      "outputs": [
        {
          "output_type": "execute_result",
          "data": {
            "text/plain": [
              "     Unnamed: 0  Unnamed: 0.1            id  conversation_id    created_at  \\\n",
              "238         238            38  1.589821e+18     1.589613e+18  1.667878e+12   \n",
              "390         390            70  1.597676e+18     1.597676e+18  1.669751e+12   \n",
              "521         521             1  1.606319e+18     1.606289e+18  1.671811e+12   \n",
              "535         535            15  1.591027e+18     1.591026e+18  1.668165e+12   \n",
              "173         173            73  1.605941e+18     1.605931e+18  1.671721e+12   \n",
              "\n",
              "                    date  timezone  place  \\\n",
              "238  2022-11-08 03:25:52       0.0    NaN   \n",
              "390  2022-11-29 19:37:03       0.0    NaN   \n",
              "521  2022-12-23 16:02:26       0.0    NaN   \n",
              "535  2022-11-11 11:17:52       0.0    NaN   \n",
              "173  2022-12-22 15:00:11       0.0    NaN   \n",
              "\n",
              "                                                 tweet language  ...  \\\n",
              "238                    @Sumanbarbhaya @AsYouNotWish 😂😂      und  ...   \n",
              "390  \"For years, the authorities have been steadily...       en  ...   \n",
              "521  @Pakistan_imr @ImranKhanPTI رئیس المنافقين عبد...       ur  ...   \n",
              "535  @NowheraOfficial محترمہ آپا عالمہ ڈاکٹر نوہیرا...       ur  ...   \n",
              "173  @DesiHathoda Woh 72 hoor wala system abhi khat...       tl  ...   \n",
              "\n",
              "    user_rt_id user_rt  retweet_id  \\\n",
              "238        NaN     NaN         NaN   \n",
              "390        NaN     NaN         NaN   \n",
              "521        NaN     NaN         NaN   \n",
              "535        NaN     NaN         NaN   \n",
              "173        NaN     NaN         NaN   \n",
              "\n",
              "                                              reply_to retweet_date translate  \\\n",
              "238  [{'screen_name': 'Sumanbarbhaya', 'name': 'sum...          NaN       NaN   \n",
              "390                                                 []          NaN       NaN   \n",
              "521  [{'screen_name': 'Pakistan_imr', 'name': '𝐏𝐌of...          NaN       NaN   \n",
              "535  [{'screen_name': 'NowheraOfficial', 'name': 'D...          NaN       NaN   \n",
              "173  [{'screen_name': 'DesiHathoda', 'name': 'DesiH...          NaN       NaN   \n",
              "\n",
              "     trans_src  trans_dest hashtags_extracted          mentions_extracted  \n",
              "238        NaN         NaN                     Sumanbarbhaya,AsYouNotWish  \n",
              "390        NaN         NaN                                                 \n",
              "521        NaN         NaN                      Pakistan_imr,ImranKhanPTI  \n",
              "535        NaN         NaN                                NowheraOfficial  \n",
              "173        NaN         NaN                                    DesiHathoda  \n",
              "\n",
              "[5 rows x 42 columns]"
            ],
            "text/html": [
              "\n",
              "  <div id=\"df-6f6e23bb-cf97-4465-a91a-7cbfee8966ec\">\n",
              "    <div class=\"colab-df-container\">\n",
              "      <div>\n",
              "<style scoped>\n",
              "    .dataframe tbody tr th:only-of-type {\n",
              "        vertical-align: middle;\n",
              "    }\n",
              "\n",
              "    .dataframe tbody tr th {\n",
              "        vertical-align: top;\n",
              "    }\n",
              "\n",
              "    .dataframe thead th {\n",
              "        text-align: right;\n",
              "    }\n",
              "</style>\n",
              "<table border=\"1\" class=\"dataframe\">\n",
              "  <thead>\n",
              "    <tr style=\"text-align: right;\">\n",
              "      <th></th>\n",
              "      <th>Unnamed: 0</th>\n",
              "      <th>Unnamed: 0.1</th>\n",
              "      <th>id</th>\n",
              "      <th>conversation_id</th>\n",
              "      <th>created_at</th>\n",
              "      <th>date</th>\n",
              "      <th>timezone</th>\n",
              "      <th>place</th>\n",
              "      <th>tweet</th>\n",
              "      <th>language</th>\n",
              "      <th>...</th>\n",
              "      <th>user_rt_id</th>\n",
              "      <th>user_rt</th>\n",
              "      <th>retweet_id</th>\n",
              "      <th>reply_to</th>\n",
              "      <th>retweet_date</th>\n",
              "      <th>translate</th>\n",
              "      <th>trans_src</th>\n",
              "      <th>trans_dest</th>\n",
              "      <th>hashtags_extracted</th>\n",
              "      <th>mentions_extracted</th>\n",
              "    </tr>\n",
              "  </thead>\n",
              "  <tbody>\n",
              "    <tr>\n",
              "      <th>238</th>\n",
              "      <td>238</td>\n",
              "      <td>38</td>\n",
              "      <td>1.589821e+18</td>\n",
              "      <td>1.589613e+18</td>\n",
              "      <td>1.667878e+12</td>\n",
              "      <td>2022-11-08 03:25:52</td>\n",
              "      <td>0.0</td>\n",
              "      <td>NaN</td>\n",
              "      <td>@Sumanbarbhaya @AsYouNotWish 😂😂</td>\n",
              "      <td>und</td>\n",
              "      <td>...</td>\n",
              "      <td>NaN</td>\n",
              "      <td>NaN</td>\n",
              "      <td>NaN</td>\n",
              "      <td>[{'screen_name': 'Sumanbarbhaya', 'name': 'sum...</td>\n",
              "      <td>NaN</td>\n",
              "      <td>NaN</td>\n",
              "      <td>NaN</td>\n",
              "      <td>NaN</td>\n",
              "      <td></td>\n",
              "      <td>Sumanbarbhaya,AsYouNotWish</td>\n",
              "    </tr>\n",
              "    <tr>\n",
              "      <th>390</th>\n",
              "      <td>390</td>\n",
              "      <td>70</td>\n",
              "      <td>1.597676e+18</td>\n",
              "      <td>1.597676e+18</td>\n",
              "      <td>1.669751e+12</td>\n",
              "      <td>2022-11-29 19:37:03</td>\n",
              "      <td>0.0</td>\n",
              "      <td>NaN</td>\n",
              "      <td>\"For years, the authorities have been steadily...</td>\n",
              "      <td>en</td>\n",
              "      <td>...</td>\n",
              "      <td>NaN</td>\n",
              "      <td>NaN</td>\n",
              "      <td>NaN</td>\n",
              "      <td>[]</td>\n",
              "      <td>NaN</td>\n",
              "      <td>NaN</td>\n",
              "      <td>NaN</td>\n",
              "      <td>NaN</td>\n",
              "      <td></td>\n",
              "      <td></td>\n",
              "    </tr>\n",
              "    <tr>\n",
              "      <th>521</th>\n",
              "      <td>521</td>\n",
              "      <td>1</td>\n",
              "      <td>1.606319e+18</td>\n",
              "      <td>1.606289e+18</td>\n",
              "      <td>1.671811e+12</td>\n",
              "      <td>2022-12-23 16:02:26</td>\n",
              "      <td>0.0</td>\n",
              "      <td>NaN</td>\n",
              "      <td>@Pakistan_imr @ImranKhanPTI رئیس المنافقين عبد...</td>\n",
              "      <td>ur</td>\n",
              "      <td>...</td>\n",
              "      <td>NaN</td>\n",
              "      <td>NaN</td>\n",
              "      <td>NaN</td>\n",
              "      <td>[{'screen_name': 'Pakistan_imr', 'name': '𝐏𝐌of...</td>\n",
              "      <td>NaN</td>\n",
              "      <td>NaN</td>\n",
              "      <td>NaN</td>\n",
              "      <td>NaN</td>\n",
              "      <td></td>\n",
              "      <td>Pakistan_imr,ImranKhanPTI</td>\n",
              "    </tr>\n",
              "    <tr>\n",
              "      <th>535</th>\n",
              "      <td>535</td>\n",
              "      <td>15</td>\n",
              "      <td>1.591027e+18</td>\n",
              "      <td>1.591026e+18</td>\n",
              "      <td>1.668165e+12</td>\n",
              "      <td>2022-11-11 11:17:52</td>\n",
              "      <td>0.0</td>\n",
              "      <td>NaN</td>\n",
              "      <td>@NowheraOfficial محترمہ آپا عالمہ ڈاکٹر نوہیرا...</td>\n",
              "      <td>ur</td>\n",
              "      <td>...</td>\n",
              "      <td>NaN</td>\n",
              "      <td>NaN</td>\n",
              "      <td>NaN</td>\n",
              "      <td>[{'screen_name': 'NowheraOfficial', 'name': 'D...</td>\n",
              "      <td>NaN</td>\n",
              "      <td>NaN</td>\n",
              "      <td>NaN</td>\n",
              "      <td>NaN</td>\n",
              "      <td></td>\n",
              "      <td>NowheraOfficial</td>\n",
              "    </tr>\n",
              "    <tr>\n",
              "      <th>173</th>\n",
              "      <td>173</td>\n",
              "      <td>73</td>\n",
              "      <td>1.605941e+18</td>\n",
              "      <td>1.605931e+18</td>\n",
              "      <td>1.671721e+12</td>\n",
              "      <td>2022-12-22 15:00:11</td>\n",
              "      <td>0.0</td>\n",
              "      <td>NaN</td>\n",
              "      <td>@DesiHathoda Woh 72 hoor wala system abhi khat...</td>\n",
              "      <td>tl</td>\n",
              "      <td>...</td>\n",
              "      <td>NaN</td>\n",
              "      <td>NaN</td>\n",
              "      <td>NaN</td>\n",
              "      <td>[{'screen_name': 'DesiHathoda', 'name': 'DesiH...</td>\n",
              "      <td>NaN</td>\n",
              "      <td>NaN</td>\n",
              "      <td>NaN</td>\n",
              "      <td>NaN</td>\n",
              "      <td></td>\n",
              "      <td>DesiHathoda</td>\n",
              "    </tr>\n",
              "  </tbody>\n",
              "</table>\n",
              "<p>5 rows × 42 columns</p>\n",
              "</div>\n",
              "      <button class=\"colab-df-convert\" onclick=\"convertToInteractive('df-6f6e23bb-cf97-4465-a91a-7cbfee8966ec')\"\n",
              "              title=\"Convert this dataframe to an interactive table.\"\n",
              "              style=\"display:none;\">\n",
              "        \n",
              "  <svg xmlns=\"http://www.w3.org/2000/svg\" height=\"24px\"viewBox=\"0 0 24 24\"\n",
              "       width=\"24px\">\n",
              "    <path d=\"M0 0h24v24H0V0z\" fill=\"none\"/>\n",
              "    <path d=\"M18.56 5.44l.94 2.06.94-2.06 2.06-.94-2.06-.94-.94-2.06-.94 2.06-2.06.94zm-11 1L8.5 8.5l.94-2.06 2.06-.94-2.06-.94L8.5 2.5l-.94 2.06-2.06.94zm10 10l.94 2.06.94-2.06 2.06-.94-2.06-.94-.94-2.06-.94 2.06-2.06.94z\"/><path d=\"M17.41 7.96l-1.37-1.37c-.4-.4-.92-.59-1.43-.59-.52 0-1.04.2-1.43.59L10.3 9.45l-7.72 7.72c-.78.78-.78 2.05 0 2.83L4 21.41c.39.39.9.59 1.41.59.51 0 1.02-.2 1.41-.59l7.78-7.78 2.81-2.81c.8-.78.8-2.07 0-2.86zM5.41 20L4 18.59l7.72-7.72 1.47 1.35L5.41 20z\"/>\n",
              "  </svg>\n",
              "      </button>\n",
              "      \n",
              "  <style>\n",
              "    .colab-df-container {\n",
              "      display:flex;\n",
              "      flex-wrap:wrap;\n",
              "      gap: 12px;\n",
              "    }\n",
              "\n",
              "    .colab-df-convert {\n",
              "      background-color: #E8F0FE;\n",
              "      border: none;\n",
              "      border-radius: 50%;\n",
              "      cursor: pointer;\n",
              "      display: none;\n",
              "      fill: #1967D2;\n",
              "      height: 32px;\n",
              "      padding: 0 0 0 0;\n",
              "      width: 32px;\n",
              "    }\n",
              "\n",
              "    .colab-df-convert:hover {\n",
              "      background-color: #E2EBFA;\n",
              "      box-shadow: 0px 1px 2px rgba(60, 64, 67, 0.3), 0px 1px 3px 1px rgba(60, 64, 67, 0.15);\n",
              "      fill: #174EA6;\n",
              "    }\n",
              "\n",
              "    [theme=dark] .colab-df-convert {\n",
              "      background-color: #3B4455;\n",
              "      fill: #D2E3FC;\n",
              "    }\n",
              "\n",
              "    [theme=dark] .colab-df-convert:hover {\n",
              "      background-color: #434B5C;\n",
              "      box-shadow: 0px 1px 3px 1px rgba(0, 0, 0, 0.15);\n",
              "      filter: drop-shadow(0px 1px 2px rgba(0, 0, 0, 0.3));\n",
              "      fill: #FFFFFF;\n",
              "    }\n",
              "  </style>\n",
              "\n",
              "      <script>\n",
              "        const buttonEl =\n",
              "          document.querySelector('#df-6f6e23bb-cf97-4465-a91a-7cbfee8966ec button.colab-df-convert');\n",
              "        buttonEl.style.display =\n",
              "          google.colab.kernel.accessAllowed ? 'block' : 'none';\n",
              "\n",
              "        async function convertToInteractive(key) {\n",
              "          const element = document.querySelector('#df-6f6e23bb-cf97-4465-a91a-7cbfee8966ec');\n",
              "          const dataTable =\n",
              "            await google.colab.kernel.invokeFunction('convertToInteractive',\n",
              "                                                     [key], {});\n",
              "          if (!dataTable) return;\n",
              "\n",
              "          const docLinkHtml = 'Like what you see? Visit the ' +\n",
              "            '<a target=\"_blank\" href=https://colab.research.google.com/notebooks/data_table.ipynb>data table notebook</a>'\n",
              "            + ' to learn more about interactive tables.';\n",
              "          element.innerHTML = '';\n",
              "          dataTable['output_type'] = 'display_data';\n",
              "          await google.colab.output.renderOutput(dataTable, element);\n",
              "          const docLink = document.createElement('div');\n",
              "          docLink.innerHTML = docLinkHtml;\n",
              "          element.appendChild(docLink);\n",
              "        }\n",
              "      </script>\n",
              "    </div>\n",
              "  </div>\n",
              "  "
            ]
          },
          "metadata": {},
          "execution_count": 146
        }
      ]
    },
    {
      "cell_type": "markdown",
      "source": [
        "Explode the hashtags and mentions"
      ],
      "metadata": {
        "id": "0j3pCH4kiZew"
      }
    },
    {
      "cell_type": "code",
      "source": [
        "df = df.assign(hashtags_extracted=df['hashtags_extracted'].str.split(',')).explode('hashtags_extracted')"
      ],
      "metadata": {
        "id": "yQOOwAF7h-60"
      },
      "execution_count": 150,
      "outputs": []
    },
    {
      "cell_type": "code",
      "source": [
        "df = df.assign(mentions_extracted=df['mentions_extracted'].str.split(',')).explode('mentions_extracted')"
      ],
      "metadata": {
        "id": "fAczojuNi2I-"
      },
      "execution_count": 151,
      "outputs": []
    },
    {
      "cell_type": "code",
      "source": [
        "df.sample(5)"
      ],
      "metadata": {
        "colab": {
          "base_uri": "https://localhost:8080/",
          "height": 535
        },
        "id": "t_8kg123i9rO",
        "outputId": "49c00a21-3b1e-4c9d-e389-c166027535fb"
      },
      "execution_count": 152,
      "outputs": [
        {
          "output_type": "execute_result",
          "data": {
            "text/plain": [
              "     Unnamed: 0  Unnamed: 0.1            id  conversation_id    created_at  \\\n",
              "354         354            34  1.600399e+18     1.600399e+18  1.670400e+12   \n",
              "361         361            41  1.599717e+18     1.599717e+18  1.670237e+12   \n",
              "427         427             7  1.609304e+18     1.609128e+18  1.672523e+12   \n",
              "127         127            27  1.607433e+18     1.607376e+18  1.672077e+12   \n",
              "228         228            28  1.592816e+18     1.592808e+18  1.668592e+12   \n",
              "\n",
              "                    date  timezone  place  \\\n",
              "354  2022-12-07 07:55:56       0.0    NaN   \n",
              "361  2022-12-05 10:47:50       0.0    NaN   \n",
              "427  2022-12-31 21:43:45       0.0    NaN   \n",
              "127  2022-12-26 17:47:28       0.0    NaN   \n",
              "228  2022-11-16 09:44:22       0.0    NaN   \n",
              "\n",
              "                                                 tweet language  ...  \\\n",
              "354  This is now the bottom line. But a very import...       en  ...   \n",
              "361  Good luck @jigneshmevani80  Hope you win and c...       en  ...   \n",
              "427  @MumukshuSavitri @upma23 Hence proved. Mughals...       en  ...   \n",
              "127  @Himpant94 @TheAhmedShariff Yippee Ka Yayeee M...       tr  ...   \n",
              "228  @firki07 @Quratulainb Try chaa Rahi Kali ghata...       in  ...   \n",
              "\n",
              "    user_rt_id user_rt  retweet_id  \\\n",
              "354        NaN     NaN         NaN   \n",
              "361        NaN     NaN         NaN   \n",
              "427        NaN     NaN         NaN   \n",
              "127        NaN     NaN         NaN   \n",
              "228        NaN     NaN         NaN   \n",
              "\n",
              "                                              reply_to retweet_date translate  \\\n",
              "354                                                 []          NaN       NaN   \n",
              "361                                                 []          NaN       NaN   \n",
              "427  [{'screen_name': 'MumukshuSavitri', 'name': 'S...          NaN       NaN   \n",
              "127  [{'screen_name': 'Himpant94', 'name': 'Himansh...          NaN       NaN   \n",
              "228  [{'screen_name': 'firki07', 'name': '🐰', 'id':...          NaN       NaN   \n",
              "\n",
              "     trans_src  trans_dest hashtags_extracted mentions_extracted  \n",
              "354        NaN         NaN       #BJPwillLose                     \n",
              "361        NaN         NaN                       jigneshmevani80  \n",
              "427        NaN         NaN                                upma23  \n",
              "127        NaN         NaN                       TheAhmedShariff  \n",
              "228        NaN         NaN                               firki07  \n",
              "\n",
              "[5 rows x 42 columns]"
            ],
            "text/html": [
              "\n",
              "  <div id=\"df-99e3175e-f5b6-4ac6-a0bd-03386b5e8382\">\n",
              "    <div class=\"colab-df-container\">\n",
              "      <div>\n",
              "<style scoped>\n",
              "    .dataframe tbody tr th:only-of-type {\n",
              "        vertical-align: middle;\n",
              "    }\n",
              "\n",
              "    .dataframe tbody tr th {\n",
              "        vertical-align: top;\n",
              "    }\n",
              "\n",
              "    .dataframe thead th {\n",
              "        text-align: right;\n",
              "    }\n",
              "</style>\n",
              "<table border=\"1\" class=\"dataframe\">\n",
              "  <thead>\n",
              "    <tr style=\"text-align: right;\">\n",
              "      <th></th>\n",
              "      <th>Unnamed: 0</th>\n",
              "      <th>Unnamed: 0.1</th>\n",
              "      <th>id</th>\n",
              "      <th>conversation_id</th>\n",
              "      <th>created_at</th>\n",
              "      <th>date</th>\n",
              "      <th>timezone</th>\n",
              "      <th>place</th>\n",
              "      <th>tweet</th>\n",
              "      <th>language</th>\n",
              "      <th>...</th>\n",
              "      <th>user_rt_id</th>\n",
              "      <th>user_rt</th>\n",
              "      <th>retweet_id</th>\n",
              "      <th>reply_to</th>\n",
              "      <th>retweet_date</th>\n",
              "      <th>translate</th>\n",
              "      <th>trans_src</th>\n",
              "      <th>trans_dest</th>\n",
              "      <th>hashtags_extracted</th>\n",
              "      <th>mentions_extracted</th>\n",
              "    </tr>\n",
              "  </thead>\n",
              "  <tbody>\n",
              "    <tr>\n",
              "      <th>354</th>\n",
              "      <td>354</td>\n",
              "      <td>34</td>\n",
              "      <td>1.600399e+18</td>\n",
              "      <td>1.600399e+18</td>\n",
              "      <td>1.670400e+12</td>\n",
              "      <td>2022-12-07 07:55:56</td>\n",
              "      <td>0.0</td>\n",
              "      <td>NaN</td>\n",
              "      <td>This is now the bottom line. But a very import...</td>\n",
              "      <td>en</td>\n",
              "      <td>...</td>\n",
              "      <td>NaN</td>\n",
              "      <td>NaN</td>\n",
              "      <td>NaN</td>\n",
              "      <td>[]</td>\n",
              "      <td>NaN</td>\n",
              "      <td>NaN</td>\n",
              "      <td>NaN</td>\n",
              "      <td>NaN</td>\n",
              "      <td>#BJPwillLose</td>\n",
              "      <td></td>\n",
              "    </tr>\n",
              "    <tr>\n",
              "      <th>361</th>\n",
              "      <td>361</td>\n",
              "      <td>41</td>\n",
              "      <td>1.599717e+18</td>\n",
              "      <td>1.599717e+18</td>\n",
              "      <td>1.670237e+12</td>\n",
              "      <td>2022-12-05 10:47:50</td>\n",
              "      <td>0.0</td>\n",
              "      <td>NaN</td>\n",
              "      <td>Good luck @jigneshmevani80  Hope you win and c...</td>\n",
              "      <td>en</td>\n",
              "      <td>...</td>\n",
              "      <td>NaN</td>\n",
              "      <td>NaN</td>\n",
              "      <td>NaN</td>\n",
              "      <td>[]</td>\n",
              "      <td>NaN</td>\n",
              "      <td>NaN</td>\n",
              "      <td>NaN</td>\n",
              "      <td>NaN</td>\n",
              "      <td></td>\n",
              "      <td>jigneshmevani80</td>\n",
              "    </tr>\n",
              "    <tr>\n",
              "      <th>427</th>\n",
              "      <td>427</td>\n",
              "      <td>7</td>\n",
              "      <td>1.609304e+18</td>\n",
              "      <td>1.609128e+18</td>\n",
              "      <td>1.672523e+12</td>\n",
              "      <td>2022-12-31 21:43:45</td>\n",
              "      <td>0.0</td>\n",
              "      <td>NaN</td>\n",
              "      <td>@MumukshuSavitri @upma23 Hence proved. Mughals...</td>\n",
              "      <td>en</td>\n",
              "      <td>...</td>\n",
              "      <td>NaN</td>\n",
              "      <td>NaN</td>\n",
              "      <td>NaN</td>\n",
              "      <td>[{'screen_name': 'MumukshuSavitri', 'name': 'S...</td>\n",
              "      <td>NaN</td>\n",
              "      <td>NaN</td>\n",
              "      <td>NaN</td>\n",
              "      <td>NaN</td>\n",
              "      <td></td>\n",
              "      <td>upma23</td>\n",
              "    </tr>\n",
              "    <tr>\n",
              "      <th>127</th>\n",
              "      <td>127</td>\n",
              "      <td>27</td>\n",
              "      <td>1.607433e+18</td>\n",
              "      <td>1.607376e+18</td>\n",
              "      <td>1.672077e+12</td>\n",
              "      <td>2022-12-26 17:47:28</td>\n",
              "      <td>0.0</td>\n",
              "      <td>NaN</td>\n",
              "      <td>@Himpant94 @TheAhmedShariff Yippee Ka Yayeee M...</td>\n",
              "      <td>tr</td>\n",
              "      <td>...</td>\n",
              "      <td>NaN</td>\n",
              "      <td>NaN</td>\n",
              "      <td>NaN</td>\n",
              "      <td>[{'screen_name': 'Himpant94', 'name': 'Himansh...</td>\n",
              "      <td>NaN</td>\n",
              "      <td>NaN</td>\n",
              "      <td>NaN</td>\n",
              "      <td>NaN</td>\n",
              "      <td></td>\n",
              "      <td>TheAhmedShariff</td>\n",
              "    </tr>\n",
              "    <tr>\n",
              "      <th>228</th>\n",
              "      <td>228</td>\n",
              "      <td>28</td>\n",
              "      <td>1.592816e+18</td>\n",
              "      <td>1.592808e+18</td>\n",
              "      <td>1.668592e+12</td>\n",
              "      <td>2022-11-16 09:44:22</td>\n",
              "      <td>0.0</td>\n",
              "      <td>NaN</td>\n",
              "      <td>@firki07 @Quratulainb Try chaa Rahi Kali ghata...</td>\n",
              "      <td>in</td>\n",
              "      <td>...</td>\n",
              "      <td>NaN</td>\n",
              "      <td>NaN</td>\n",
              "      <td>NaN</td>\n",
              "      <td>[{'screen_name': 'firki07', 'name': '🐰', 'id':...</td>\n",
              "      <td>NaN</td>\n",
              "      <td>NaN</td>\n",
              "      <td>NaN</td>\n",
              "      <td>NaN</td>\n",
              "      <td></td>\n",
              "      <td>firki07</td>\n",
              "    </tr>\n",
              "  </tbody>\n",
              "</table>\n",
              "<p>5 rows × 42 columns</p>\n",
              "</div>\n",
              "      <button class=\"colab-df-convert\" onclick=\"convertToInteractive('df-99e3175e-f5b6-4ac6-a0bd-03386b5e8382')\"\n",
              "              title=\"Convert this dataframe to an interactive table.\"\n",
              "              style=\"display:none;\">\n",
              "        \n",
              "  <svg xmlns=\"http://www.w3.org/2000/svg\" height=\"24px\"viewBox=\"0 0 24 24\"\n",
              "       width=\"24px\">\n",
              "    <path d=\"M0 0h24v24H0V0z\" fill=\"none\"/>\n",
              "    <path d=\"M18.56 5.44l.94 2.06.94-2.06 2.06-.94-2.06-.94-.94-2.06-.94 2.06-2.06.94zm-11 1L8.5 8.5l.94-2.06 2.06-.94-2.06-.94L8.5 2.5l-.94 2.06-2.06.94zm10 10l.94 2.06.94-2.06 2.06-.94-2.06-.94-.94-2.06-.94 2.06-2.06.94z\"/><path d=\"M17.41 7.96l-1.37-1.37c-.4-.4-.92-.59-1.43-.59-.52 0-1.04.2-1.43.59L10.3 9.45l-7.72 7.72c-.78.78-.78 2.05 0 2.83L4 21.41c.39.39.9.59 1.41.59.51 0 1.02-.2 1.41-.59l7.78-7.78 2.81-2.81c.8-.78.8-2.07 0-2.86zM5.41 20L4 18.59l7.72-7.72 1.47 1.35L5.41 20z\"/>\n",
              "  </svg>\n",
              "      </button>\n",
              "      \n",
              "  <style>\n",
              "    .colab-df-container {\n",
              "      display:flex;\n",
              "      flex-wrap:wrap;\n",
              "      gap: 12px;\n",
              "    }\n",
              "\n",
              "    .colab-df-convert {\n",
              "      background-color: #E8F0FE;\n",
              "      border: none;\n",
              "      border-radius: 50%;\n",
              "      cursor: pointer;\n",
              "      display: none;\n",
              "      fill: #1967D2;\n",
              "      height: 32px;\n",
              "      padding: 0 0 0 0;\n",
              "      width: 32px;\n",
              "    }\n",
              "\n",
              "    .colab-df-convert:hover {\n",
              "      background-color: #E2EBFA;\n",
              "      box-shadow: 0px 1px 2px rgba(60, 64, 67, 0.3), 0px 1px 3px 1px rgba(60, 64, 67, 0.15);\n",
              "      fill: #174EA6;\n",
              "    }\n",
              "\n",
              "    [theme=dark] .colab-df-convert {\n",
              "      background-color: #3B4455;\n",
              "      fill: #D2E3FC;\n",
              "    }\n",
              "\n",
              "    [theme=dark] .colab-df-convert:hover {\n",
              "      background-color: #434B5C;\n",
              "      box-shadow: 0px 1px 3px 1px rgba(0, 0, 0, 0.15);\n",
              "      filter: drop-shadow(0px 1px 2px rgba(0, 0, 0, 0.3));\n",
              "      fill: #FFFFFF;\n",
              "    }\n",
              "  </style>\n",
              "\n",
              "      <script>\n",
              "        const buttonEl =\n",
              "          document.querySelector('#df-99e3175e-f5b6-4ac6-a0bd-03386b5e8382 button.colab-df-convert');\n",
              "        buttonEl.style.display =\n",
              "          google.colab.kernel.accessAllowed ? 'block' : 'none';\n",
              "\n",
              "        async function convertToInteractive(key) {\n",
              "          const element = document.querySelector('#df-99e3175e-f5b6-4ac6-a0bd-03386b5e8382');\n",
              "          const dataTable =\n",
              "            await google.colab.kernel.invokeFunction('convertToInteractive',\n",
              "                                                     [key], {});\n",
              "          if (!dataTable) return;\n",
              "\n",
              "          const docLinkHtml = 'Like what you see? Visit the ' +\n",
              "            '<a target=\"_blank\" href=https://colab.research.google.com/notebooks/data_table.ipynb>data table notebook</a>'\n",
              "            + ' to learn more about interactive tables.';\n",
              "          element.innerHTML = '';\n",
              "          dataTable['output_type'] = 'display_data';\n",
              "          await google.colab.output.renderOutput(dataTable, element);\n",
              "          const docLink = document.createElement('div');\n",
              "          docLink.innerHTML = docLinkHtml;\n",
              "          element.appendChild(docLink);\n",
              "        }\n",
              "      </script>\n",
              "    </div>\n",
              "  </div>\n",
              "  "
            ]
          },
          "metadata": {},
          "execution_count": 152
        }
      ]
    },
    {
      "cell_type": "code",
      "source": [
        "print (df.shape)"
      ],
      "metadata": {
        "colab": {
          "base_uri": "https://localhost:8080/"
        },
        "id": "1NAfbBOBkOKd",
        "outputId": "5e412d1f-2e71-4eab-a684-841f2c9c05a9"
      },
      "execution_count": 153,
      "outputs": [
        {
          "output_type": "stream",
          "name": "stdout",
          "text": [
            "(857, 42)\n"
          ]
        }
      ]
    },
    {
      "cell_type": "markdown",
      "source": [
        "## Section C. Computation of the nodes and edges for Gephi visualisation\n",
        "---"
      ],
      "metadata": {
        "id": "Dd4VFIhBxGTL"
      }
    },
    {
      "cell_type": "markdown",
      "source": [
        "### Data cleaning"
      ],
      "metadata": {
        "id": "COgryiRwp4tK"
      }
    },
    {
      "cell_type": "markdown",
      "source": [
        "Delete empty entries in `hashtags`"
      ],
      "metadata": {
        "id": "QBp23JhDpheF"
      }
    },
    {
      "cell_type": "code",
      "source": [
        "csv_data_hashtags = df[df['hashtags_extracted'].str.strip().astype(bool)]\n",
        "print (csv_data_hashtags.shape)"
      ],
      "metadata": {
        "id": "OVgrq1G1oTTu",
        "colab": {
          "base_uri": "https://localhost:8080/"
        },
        "outputId": "6506e577-5c5e-47d6-d334-4127a1151803"
      },
      "execution_count": 156,
      "outputs": [
        {
          "output_type": "stream",
          "name": "stdout",
          "text": [
            "(43, 42)\n"
          ]
        }
      ]
    },
    {
      "cell_type": "code",
      "source": [
        "csv_data_hashtags.sample()"
      ],
      "metadata": {
        "colab": {
          "base_uri": "https://localhost:8080/",
          "height": 241
        },
        "id": "OCpr1GpGvGvX",
        "outputId": "a781d0d7-624b-4367-b53a-0a2733b0c5ca"
      },
      "execution_count": 157,
      "outputs": [
        {
          "output_type": "execute_result",
          "data": {
            "text/plain": [
              "     Unnamed: 0  Unnamed: 0.1            id  conversation_id    created_at  \\\n",
              "499         499            19  1.606114e+18     1.605934e+18  1.671762e+12   \n",
              "\n",
              "                    date  timezone  place  \\\n",
              "499  2022-12-23 02:28:07       0.0    NaN   \n",
              "\n",
              "                                                 tweet language  ...  \\\n",
              "499  @Shonalii11 Kyo ??apne ne bhe #JhoomeJoPathaan...       hi  ...   \n",
              "\n",
              "    user_rt_id user_rt  retweet_id  \\\n",
              "499        NaN     NaN         NaN   \n",
              "\n",
              "                                              reply_to retweet_date translate  \\\n",
              "499  [{'screen_name': 'Shonalii11', 'name': 'RJ Sho...          NaN       NaN   \n",
              "\n",
              "     trans_src  trans_dest hashtags_extracted mentions_extracted  \n",
              "499        NaN         NaN   #JhoomeJoPathaan         Shonalii11  \n",
              "\n",
              "[1 rows x 42 columns]"
            ],
            "text/html": [
              "\n",
              "  <div id=\"df-c308b197-03c5-42fc-ac93-f446dc5726d1\">\n",
              "    <div class=\"colab-df-container\">\n",
              "      <div>\n",
              "<style scoped>\n",
              "    .dataframe tbody tr th:only-of-type {\n",
              "        vertical-align: middle;\n",
              "    }\n",
              "\n",
              "    .dataframe tbody tr th {\n",
              "        vertical-align: top;\n",
              "    }\n",
              "\n",
              "    .dataframe thead th {\n",
              "        text-align: right;\n",
              "    }\n",
              "</style>\n",
              "<table border=\"1\" class=\"dataframe\">\n",
              "  <thead>\n",
              "    <tr style=\"text-align: right;\">\n",
              "      <th></th>\n",
              "      <th>Unnamed: 0</th>\n",
              "      <th>Unnamed: 0.1</th>\n",
              "      <th>id</th>\n",
              "      <th>conversation_id</th>\n",
              "      <th>created_at</th>\n",
              "      <th>date</th>\n",
              "      <th>timezone</th>\n",
              "      <th>place</th>\n",
              "      <th>tweet</th>\n",
              "      <th>language</th>\n",
              "      <th>...</th>\n",
              "      <th>user_rt_id</th>\n",
              "      <th>user_rt</th>\n",
              "      <th>retweet_id</th>\n",
              "      <th>reply_to</th>\n",
              "      <th>retweet_date</th>\n",
              "      <th>translate</th>\n",
              "      <th>trans_src</th>\n",
              "      <th>trans_dest</th>\n",
              "      <th>hashtags_extracted</th>\n",
              "      <th>mentions_extracted</th>\n",
              "    </tr>\n",
              "  </thead>\n",
              "  <tbody>\n",
              "    <tr>\n",
              "      <th>499</th>\n",
              "      <td>499</td>\n",
              "      <td>19</td>\n",
              "      <td>1.606114e+18</td>\n",
              "      <td>1.605934e+18</td>\n",
              "      <td>1.671762e+12</td>\n",
              "      <td>2022-12-23 02:28:07</td>\n",
              "      <td>0.0</td>\n",
              "      <td>NaN</td>\n",
              "      <td>@Shonalii11 Kyo ??apne ne bhe #JhoomeJoPathaan...</td>\n",
              "      <td>hi</td>\n",
              "      <td>...</td>\n",
              "      <td>NaN</td>\n",
              "      <td>NaN</td>\n",
              "      <td>NaN</td>\n",
              "      <td>[{'screen_name': 'Shonalii11', 'name': 'RJ Sho...</td>\n",
              "      <td>NaN</td>\n",
              "      <td>NaN</td>\n",
              "      <td>NaN</td>\n",
              "      <td>NaN</td>\n",
              "      <td>#JhoomeJoPathaan</td>\n",
              "      <td>Shonalii11</td>\n",
              "    </tr>\n",
              "  </tbody>\n",
              "</table>\n",
              "<p>1 rows × 42 columns</p>\n",
              "</div>\n",
              "      <button class=\"colab-df-convert\" onclick=\"convertToInteractive('df-c308b197-03c5-42fc-ac93-f446dc5726d1')\"\n",
              "              title=\"Convert this dataframe to an interactive table.\"\n",
              "              style=\"display:none;\">\n",
              "        \n",
              "  <svg xmlns=\"http://www.w3.org/2000/svg\" height=\"24px\"viewBox=\"0 0 24 24\"\n",
              "       width=\"24px\">\n",
              "    <path d=\"M0 0h24v24H0V0z\" fill=\"none\"/>\n",
              "    <path d=\"M18.56 5.44l.94 2.06.94-2.06 2.06-.94-2.06-.94-.94-2.06-.94 2.06-2.06.94zm-11 1L8.5 8.5l.94-2.06 2.06-.94-2.06-.94L8.5 2.5l-.94 2.06-2.06.94zm10 10l.94 2.06.94-2.06 2.06-.94-2.06-.94-.94-2.06-.94 2.06-2.06.94z\"/><path d=\"M17.41 7.96l-1.37-1.37c-.4-.4-.92-.59-1.43-.59-.52 0-1.04.2-1.43.59L10.3 9.45l-7.72 7.72c-.78.78-.78 2.05 0 2.83L4 21.41c.39.39.9.59 1.41.59.51 0 1.02-.2 1.41-.59l7.78-7.78 2.81-2.81c.8-.78.8-2.07 0-2.86zM5.41 20L4 18.59l7.72-7.72 1.47 1.35L5.41 20z\"/>\n",
              "  </svg>\n",
              "      </button>\n",
              "      \n",
              "  <style>\n",
              "    .colab-df-container {\n",
              "      display:flex;\n",
              "      flex-wrap:wrap;\n",
              "      gap: 12px;\n",
              "    }\n",
              "\n",
              "    .colab-df-convert {\n",
              "      background-color: #E8F0FE;\n",
              "      border: none;\n",
              "      border-radius: 50%;\n",
              "      cursor: pointer;\n",
              "      display: none;\n",
              "      fill: #1967D2;\n",
              "      height: 32px;\n",
              "      padding: 0 0 0 0;\n",
              "      width: 32px;\n",
              "    }\n",
              "\n",
              "    .colab-df-convert:hover {\n",
              "      background-color: #E2EBFA;\n",
              "      box-shadow: 0px 1px 2px rgba(60, 64, 67, 0.3), 0px 1px 3px 1px rgba(60, 64, 67, 0.15);\n",
              "      fill: #174EA6;\n",
              "    }\n",
              "\n",
              "    [theme=dark] .colab-df-convert {\n",
              "      background-color: #3B4455;\n",
              "      fill: #D2E3FC;\n",
              "    }\n",
              "\n",
              "    [theme=dark] .colab-df-convert:hover {\n",
              "      background-color: #434B5C;\n",
              "      box-shadow: 0px 1px 3px 1px rgba(0, 0, 0, 0.15);\n",
              "      filter: drop-shadow(0px 1px 2px rgba(0, 0, 0, 0.3));\n",
              "      fill: #FFFFFF;\n",
              "    }\n",
              "  </style>\n",
              "\n",
              "      <script>\n",
              "        const buttonEl =\n",
              "          document.querySelector('#df-c308b197-03c5-42fc-ac93-f446dc5726d1 button.colab-df-convert');\n",
              "        buttonEl.style.display =\n",
              "          google.colab.kernel.accessAllowed ? 'block' : 'none';\n",
              "\n",
              "        async function convertToInteractive(key) {\n",
              "          const element = document.querySelector('#df-c308b197-03c5-42fc-ac93-f446dc5726d1');\n",
              "          const dataTable =\n",
              "            await google.colab.kernel.invokeFunction('convertToInteractive',\n",
              "                                                     [key], {});\n",
              "          if (!dataTable) return;\n",
              "\n",
              "          const docLinkHtml = 'Like what you see? Visit the ' +\n",
              "            '<a target=\"_blank\" href=https://colab.research.google.com/notebooks/data_table.ipynb>data table notebook</a>'\n",
              "            + ' to learn more about interactive tables.';\n",
              "          element.innerHTML = '';\n",
              "          dataTable['output_type'] = 'display_data';\n",
              "          await google.colab.output.renderOutput(dataTable, element);\n",
              "          const docLink = document.createElement('div');\n",
              "          docLink.innerHTML = docLinkHtml;\n",
              "          element.appendChild(docLink);\n",
              "        }\n",
              "      </script>\n",
              "    </div>\n",
              "  </div>\n",
              "  "
            ]
          },
          "metadata": {},
          "execution_count": 157
        }
      ]
    },
    {
      "cell_type": "markdown",
      "source": [
        "Delete empty strings in `mentions`"
      ],
      "metadata": {
        "id": "LAj60-pmpcIK"
      }
    },
    {
      "cell_type": "code",
      "source": [
        "csv_data_mentions = df[df['mentions_extracted'].str.strip().astype(bool)]\n",
        "print (csv_data_mentions.shape)"
      ],
      "metadata": {
        "id": "0PJ4Qyzto4pV",
        "colab": {
          "base_uri": "https://localhost:8080/"
        },
        "outputId": "86412462-6f7d-43e9-d105-2b75e948679d"
      },
      "execution_count": 158,
      "outputs": [
        {
          "output_type": "stream",
          "name": "stdout",
          "text": [
            "(736, 42)\n"
          ]
        }
      ]
    },
    {
      "cell_type": "code",
      "source": [
        "csv_data_mentions.sample(5)"
      ],
      "metadata": {
        "id": "AX-vXiEpvRBb",
        "outputId": "a9a55fbb-b163-42a1-d85a-0ebc87266194",
        "colab": {
          "base_uri": "https://localhost:8080/",
          "height": 501
        }
      },
      "execution_count": 159,
      "outputs": [
        {
          "output_type": "execute_result",
          "data": {
            "text/plain": [
              "     Unnamed: 0  Unnamed: 0.1            id  conversation_id    created_at  \\\n",
              "163         163            63  1.606327e+18     1.604441e+18  1.671813e+12   \n",
              "255         255            55  1.582369e+18     1.582364e+18  1.666101e+12   \n",
              "208         208             8  1.601228e+18     1.601169e+18  1.670597e+12   \n",
              "439         439            19  1.609190e+18     1.609188e+18  1.672496e+12   \n",
              "543         543            23  1.587756e+18     1.587502e+18  1.667386e+12   \n",
              "\n",
              "                    date  timezone  place  \\\n",
              "163  2022-12-23 16:32:07       0.0    NaN   \n",
              "255  2022-10-18 13:51:02       0.0    NaN   \n",
              "208  2022-12-09 14:51:36       0.0    NaN   \n",
              "439  2022-12-31 14:08:42       0.0    NaN   \n",
              "543  2022-11-02 10:40:01       0.0    NaN   \n",
              "\n",
              "                                                 tweet language  ...  \\\n",
              "163      @sagarikaghose @_screenshoter screenshot this       en  ...   \n",
              "255  @AMITtheTHAKUR @ANI Humara Rajkot esa to nahi ...       hi  ...   \n",
              "208               @kathiyawadi07 Jawahar Bhai chavda 🥲       hi  ...   \n",
              "439                             @DDNewslive Diwali? 😂🤦       tl  ...   \n",
              "543  @ARYSabiirShakir رئیس المنافقين عبد اللّٰه بن ...       ur  ...   \n",
              "\n",
              "    user_rt_id user_rt  retweet_id  \\\n",
              "163        NaN     NaN         NaN   \n",
              "255        NaN     NaN         NaN   \n",
              "208        NaN     NaN         NaN   \n",
              "439        NaN     NaN         NaN   \n",
              "543        NaN     NaN         NaN   \n",
              "\n",
              "                                              reply_to retweet_date translate  \\\n",
              "163  [{'screen_name': 'sagarikaghose', 'name': 'Sag...          NaN       NaN   \n",
              "255  [{'screen_name': 'AMITtheTHAKUR', 'name': 'Tha...          NaN       NaN   \n",
              "208  [{'screen_name': 'kathiyawadi07', 'name': 'KRI...          NaN       NaN   \n",
              "439  [{'screen_name': 'DDNewslive', 'name': 'DD New...          NaN       NaN   \n",
              "543  [{'screen_name': 'ARYSabiirShakir', 'name': 'S...          NaN       NaN   \n",
              "\n",
              "     trans_src  trans_dest hashtags_extracted mentions_extracted  \n",
              "163        NaN         NaN                         sagarikaghose  \n",
              "255        NaN         NaN                                   ANI  \n",
              "208        NaN         NaN                         kathiyawadi07  \n",
              "439        NaN         NaN                            DDNewslive  \n",
              "543        NaN         NaN                       ARYSabiirShakir  \n",
              "\n",
              "[5 rows x 42 columns]"
            ],
            "text/html": [
              "\n",
              "  <div id=\"df-709af198-d60c-47b1-a0f5-ea46640bcd45\">\n",
              "    <div class=\"colab-df-container\">\n",
              "      <div>\n",
              "<style scoped>\n",
              "    .dataframe tbody tr th:only-of-type {\n",
              "        vertical-align: middle;\n",
              "    }\n",
              "\n",
              "    .dataframe tbody tr th {\n",
              "        vertical-align: top;\n",
              "    }\n",
              "\n",
              "    .dataframe thead th {\n",
              "        text-align: right;\n",
              "    }\n",
              "</style>\n",
              "<table border=\"1\" class=\"dataframe\">\n",
              "  <thead>\n",
              "    <tr style=\"text-align: right;\">\n",
              "      <th></th>\n",
              "      <th>Unnamed: 0</th>\n",
              "      <th>Unnamed: 0.1</th>\n",
              "      <th>id</th>\n",
              "      <th>conversation_id</th>\n",
              "      <th>created_at</th>\n",
              "      <th>date</th>\n",
              "      <th>timezone</th>\n",
              "      <th>place</th>\n",
              "      <th>tweet</th>\n",
              "      <th>language</th>\n",
              "      <th>...</th>\n",
              "      <th>user_rt_id</th>\n",
              "      <th>user_rt</th>\n",
              "      <th>retweet_id</th>\n",
              "      <th>reply_to</th>\n",
              "      <th>retweet_date</th>\n",
              "      <th>translate</th>\n",
              "      <th>trans_src</th>\n",
              "      <th>trans_dest</th>\n",
              "      <th>hashtags_extracted</th>\n",
              "      <th>mentions_extracted</th>\n",
              "    </tr>\n",
              "  </thead>\n",
              "  <tbody>\n",
              "    <tr>\n",
              "      <th>163</th>\n",
              "      <td>163</td>\n",
              "      <td>63</td>\n",
              "      <td>1.606327e+18</td>\n",
              "      <td>1.604441e+18</td>\n",
              "      <td>1.671813e+12</td>\n",
              "      <td>2022-12-23 16:32:07</td>\n",
              "      <td>0.0</td>\n",
              "      <td>NaN</td>\n",
              "      <td>@sagarikaghose @_screenshoter screenshot this</td>\n",
              "      <td>en</td>\n",
              "      <td>...</td>\n",
              "      <td>NaN</td>\n",
              "      <td>NaN</td>\n",
              "      <td>NaN</td>\n",
              "      <td>[{'screen_name': 'sagarikaghose', 'name': 'Sag...</td>\n",
              "      <td>NaN</td>\n",
              "      <td>NaN</td>\n",
              "      <td>NaN</td>\n",
              "      <td>NaN</td>\n",
              "      <td></td>\n",
              "      <td>sagarikaghose</td>\n",
              "    </tr>\n",
              "    <tr>\n",
              "      <th>255</th>\n",
              "      <td>255</td>\n",
              "      <td>55</td>\n",
              "      <td>1.582369e+18</td>\n",
              "      <td>1.582364e+18</td>\n",
              "      <td>1.666101e+12</td>\n",
              "      <td>2022-10-18 13:51:02</td>\n",
              "      <td>0.0</td>\n",
              "      <td>NaN</td>\n",
              "      <td>@AMITtheTHAKUR @ANI Humara Rajkot esa to nahi ...</td>\n",
              "      <td>hi</td>\n",
              "      <td>...</td>\n",
              "      <td>NaN</td>\n",
              "      <td>NaN</td>\n",
              "      <td>NaN</td>\n",
              "      <td>[{'screen_name': 'AMITtheTHAKUR', 'name': 'Tha...</td>\n",
              "      <td>NaN</td>\n",
              "      <td>NaN</td>\n",
              "      <td>NaN</td>\n",
              "      <td>NaN</td>\n",
              "      <td></td>\n",
              "      <td>ANI</td>\n",
              "    </tr>\n",
              "    <tr>\n",
              "      <th>208</th>\n",
              "      <td>208</td>\n",
              "      <td>8</td>\n",
              "      <td>1.601228e+18</td>\n",
              "      <td>1.601169e+18</td>\n",
              "      <td>1.670597e+12</td>\n",
              "      <td>2022-12-09 14:51:36</td>\n",
              "      <td>0.0</td>\n",
              "      <td>NaN</td>\n",
              "      <td>@kathiyawadi07 Jawahar Bhai chavda 🥲</td>\n",
              "      <td>hi</td>\n",
              "      <td>...</td>\n",
              "      <td>NaN</td>\n",
              "      <td>NaN</td>\n",
              "      <td>NaN</td>\n",
              "      <td>[{'screen_name': 'kathiyawadi07', 'name': 'KRI...</td>\n",
              "      <td>NaN</td>\n",
              "      <td>NaN</td>\n",
              "      <td>NaN</td>\n",
              "      <td>NaN</td>\n",
              "      <td></td>\n",
              "      <td>kathiyawadi07</td>\n",
              "    </tr>\n",
              "    <tr>\n",
              "      <th>439</th>\n",
              "      <td>439</td>\n",
              "      <td>19</td>\n",
              "      <td>1.609190e+18</td>\n",
              "      <td>1.609188e+18</td>\n",
              "      <td>1.672496e+12</td>\n",
              "      <td>2022-12-31 14:08:42</td>\n",
              "      <td>0.0</td>\n",
              "      <td>NaN</td>\n",
              "      <td>@DDNewslive Diwali? 😂🤦</td>\n",
              "      <td>tl</td>\n",
              "      <td>...</td>\n",
              "      <td>NaN</td>\n",
              "      <td>NaN</td>\n",
              "      <td>NaN</td>\n",
              "      <td>[{'screen_name': 'DDNewslive', 'name': 'DD New...</td>\n",
              "      <td>NaN</td>\n",
              "      <td>NaN</td>\n",
              "      <td>NaN</td>\n",
              "      <td>NaN</td>\n",
              "      <td></td>\n",
              "      <td>DDNewslive</td>\n",
              "    </tr>\n",
              "    <tr>\n",
              "      <th>543</th>\n",
              "      <td>543</td>\n",
              "      <td>23</td>\n",
              "      <td>1.587756e+18</td>\n",
              "      <td>1.587502e+18</td>\n",
              "      <td>1.667386e+12</td>\n",
              "      <td>2022-11-02 10:40:01</td>\n",
              "      <td>0.0</td>\n",
              "      <td>NaN</td>\n",
              "      <td>@ARYSabiirShakir رئیس المنافقين عبد اللّٰه بن ...</td>\n",
              "      <td>ur</td>\n",
              "      <td>...</td>\n",
              "      <td>NaN</td>\n",
              "      <td>NaN</td>\n",
              "      <td>NaN</td>\n",
              "      <td>[{'screen_name': 'ARYSabiirShakir', 'name': 'S...</td>\n",
              "      <td>NaN</td>\n",
              "      <td>NaN</td>\n",
              "      <td>NaN</td>\n",
              "      <td>NaN</td>\n",
              "      <td></td>\n",
              "      <td>ARYSabiirShakir</td>\n",
              "    </tr>\n",
              "  </tbody>\n",
              "</table>\n",
              "<p>5 rows × 42 columns</p>\n",
              "</div>\n",
              "      <button class=\"colab-df-convert\" onclick=\"convertToInteractive('df-709af198-d60c-47b1-a0f5-ea46640bcd45')\"\n",
              "              title=\"Convert this dataframe to an interactive table.\"\n",
              "              style=\"display:none;\">\n",
              "        \n",
              "  <svg xmlns=\"http://www.w3.org/2000/svg\" height=\"24px\"viewBox=\"0 0 24 24\"\n",
              "       width=\"24px\">\n",
              "    <path d=\"M0 0h24v24H0V0z\" fill=\"none\"/>\n",
              "    <path d=\"M18.56 5.44l.94 2.06.94-2.06 2.06-.94-2.06-.94-.94-2.06-.94 2.06-2.06.94zm-11 1L8.5 8.5l.94-2.06 2.06-.94-2.06-.94L8.5 2.5l-.94 2.06-2.06.94zm10 10l.94 2.06.94-2.06 2.06-.94-2.06-.94-.94-2.06-.94 2.06-2.06.94z\"/><path d=\"M17.41 7.96l-1.37-1.37c-.4-.4-.92-.59-1.43-.59-.52 0-1.04.2-1.43.59L10.3 9.45l-7.72 7.72c-.78.78-.78 2.05 0 2.83L4 21.41c.39.39.9.59 1.41.59.51 0 1.02-.2 1.41-.59l7.78-7.78 2.81-2.81c.8-.78.8-2.07 0-2.86zM5.41 20L4 18.59l7.72-7.72 1.47 1.35L5.41 20z\"/>\n",
              "  </svg>\n",
              "      </button>\n",
              "      \n",
              "  <style>\n",
              "    .colab-df-container {\n",
              "      display:flex;\n",
              "      flex-wrap:wrap;\n",
              "      gap: 12px;\n",
              "    }\n",
              "\n",
              "    .colab-df-convert {\n",
              "      background-color: #E8F0FE;\n",
              "      border: none;\n",
              "      border-radius: 50%;\n",
              "      cursor: pointer;\n",
              "      display: none;\n",
              "      fill: #1967D2;\n",
              "      height: 32px;\n",
              "      padding: 0 0 0 0;\n",
              "      width: 32px;\n",
              "    }\n",
              "\n",
              "    .colab-df-convert:hover {\n",
              "      background-color: #E2EBFA;\n",
              "      box-shadow: 0px 1px 2px rgba(60, 64, 67, 0.3), 0px 1px 3px 1px rgba(60, 64, 67, 0.15);\n",
              "      fill: #174EA6;\n",
              "    }\n",
              "\n",
              "    [theme=dark] .colab-df-convert {\n",
              "      background-color: #3B4455;\n",
              "      fill: #D2E3FC;\n",
              "    }\n",
              "\n",
              "    [theme=dark] .colab-df-convert:hover {\n",
              "      background-color: #434B5C;\n",
              "      box-shadow: 0px 1px 3px 1px rgba(0, 0, 0, 0.15);\n",
              "      filter: drop-shadow(0px 1px 2px rgba(0, 0, 0, 0.3));\n",
              "      fill: #FFFFFF;\n",
              "    }\n",
              "  </style>\n",
              "\n",
              "      <script>\n",
              "        const buttonEl =\n",
              "          document.querySelector('#df-709af198-d60c-47b1-a0f5-ea46640bcd45 button.colab-df-convert');\n",
              "        buttonEl.style.display =\n",
              "          google.colab.kernel.accessAllowed ? 'block' : 'none';\n",
              "\n",
              "        async function convertToInteractive(key) {\n",
              "          const element = document.querySelector('#df-709af198-d60c-47b1-a0f5-ea46640bcd45');\n",
              "          const dataTable =\n",
              "            await google.colab.kernel.invokeFunction('convertToInteractive',\n",
              "                                                     [key], {});\n",
              "          if (!dataTable) return;\n",
              "\n",
              "          const docLinkHtml = 'Like what you see? Visit the ' +\n",
              "            '<a target=\"_blank\" href=https://colab.research.google.com/notebooks/data_table.ipynb>data table notebook</a>'\n",
              "            + ' to learn more about interactive tables.';\n",
              "          element.innerHTML = '';\n",
              "          dataTable['output_type'] = 'display_data';\n",
              "          await google.colab.output.renderOutput(dataTable, element);\n",
              "          const docLink = document.createElement('div');\n",
              "          docLink.innerHTML = docLinkHtml;\n",
              "          element.appendChild(docLink);\n",
              "        }\n",
              "      </script>\n",
              "    </div>\n",
              "  </div>\n",
              "  "
            ]
          },
          "metadata": {},
          "execution_count": 159
        }
      ]
    },
    {
      "cell_type": "markdown",
      "source": [
        "In this section we compute the nodes and edges of the whole graph, and by using the `NetworkX` python package, create the graph. \n",
        "\n",
        "It is possible to choose any `source` and `target` field as one wishes. Some possible examples are:\n",
        "\n",
        "\n",
        "> `source`: username, `target`: query => shows the mapping of accounts and topics.\n",
        "\n",
        "\n",
        "The `nodes.csv` and `edges.csv` files created below can be imported to visualisation softwares like Gephi to make interactive visualisations. "
      ],
      "metadata": {
        "id": "HHUebltlQUrG"
      }
    },
    {
      "cell_type": "markdown",
      "source": [
        "Define the particular dataframe you want to use for computing the nodes"
      ],
      "metadata": {
        "id": "Tmo9mCQcpTwa"
      }
    },
    {
      "cell_type": "code",
      "source": [
        "csv_data = csv_data_mentions\n",
        "#csv_data = csv_data_hashtags"
      ],
      "metadata": {
        "id": "VWmXsL14bGkX"
      },
      "execution_count": 177,
      "outputs": []
    },
    {
      "cell_type": "markdown",
      "source": [
        "### Compute the graph edges and nodes"
      ],
      "metadata": {
        "id": "HIBsUtdOjVbL"
      }
    },
    {
      "cell_type": "code",
      "source": [
        "csv_data.columns"
      ],
      "metadata": {
        "colab": {
          "base_uri": "https://localhost:8080/"
        },
        "id": "A_q23u7fn_dm",
        "outputId": "a51d75c9-03fc-4945-d814-ae4bdb157404"
      },
      "execution_count": 87,
      "outputs": [
        {
          "output_type": "execute_result",
          "data": {
            "text/plain": [
              "Index(['Unnamed: 0', 'Unnamed: 0.1', 'id', 'conversation_id', 'created_at',\n",
              "       'date', 'timezone', 'place', 'tweet', 'language', 'hashtags',\n",
              "       'cashtags', 'user_id', 'user_id_str', 'username', 'name', 'day', 'hour',\n",
              "       'link', 'urls', 'photos', 'video', 'thumbnail', 'retweet', 'nlikes',\n",
              "       'nreplies', 'nretweets', 'quote_url', 'search', 'near', 'geo', 'source',\n",
              "       'user_rt_id', 'user_rt', 'retweet_id', 'reply_to', 'retweet_date',\n",
              "       'translate', 'trans_src', 'trans_dest', 'hashtags_extracted',\n",
              "       'mentions_extracted'],\n",
              "      dtype='object')"
            ]
          },
          "metadata": {},
          "execution_count": 87
        }
      ]
    },
    {
      "cell_type": "code",
      "source": [
        "nodelist = pd.DataFrame({'username':csv_data ['username'], 'mention':csv_data ['mentions_extracted']})\n",
        "#nodelist = pd.DataFrame({'username':csv_data ['username'], 'hashtags':csv_data ['hashtags_extracted']})"
      ],
      "metadata": {
        "id": "2HJAGS0eMSUU"
      },
      "execution_count": 178,
      "outputs": []
    },
    {
      "cell_type": "markdown",
      "source": [
        "> Nodes must have the map: `Id`, `Label`"
      ],
      "metadata": {
        "id": "KrT2etRCybVN"
      }
    },
    {
      "cell_type": "code",
      "source": [
        "nodes = pd.DataFrame({'Id':nodelist.iloc[:,0], 'Label':nodelist.iloc[:,0]})"
      ],
      "metadata": {
        "id": "13Up25B5pKUP"
      },
      "execution_count": 179,
      "outputs": []
    },
    {
      "cell_type": "markdown",
      "source": [
        "> Edges must have the map: `Source`, `Target`"
      ],
      "metadata": {
        "id": "_1FbLSFSysHM"
      }
    },
    {
      "cell_type": "code",
      "source": [
        "edges = pd.DataFrame({'Source':nodelist.iloc[:,0], 'Target':nodelist.iloc[:,1]})"
      ],
      "metadata": {
        "id": "D_v5D9YdaY6t"
      },
      "execution_count": 180,
      "outputs": []
    },
    {
      "cell_type": "code",
      "source": [
        "print (edges.shape)"
      ],
      "metadata": {
        "colab": {
          "base_uri": "https://localhost:8080/"
        },
        "id": "wHap--yHsQql",
        "outputId": "b1431b84-6a35-4407-fbc5-dec5d2c1da87"
      },
      "execution_count": 181,
      "outputs": [
        {
          "output_type": "stream",
          "name": "stdout",
          "text": [
            "(736, 2)\n"
          ]
        }
      ]
    },
    {
      "cell_type": "code",
      "source": [
        "print (nodes)"
      ],
      "metadata": {
        "colab": {
          "base_uri": "https://localhost:8080/"
        },
        "id": "Hz_CixmnwYiz",
        "outputId": "848a4f3a-c8bf-4fd8-ec74-8e6d568d09e3"
      },
      "execution_count": 182,
      "outputs": [
        {
          "output_type": "stream",
          "name": "stdout",
          "text": [
            "               Id         Label\n",
            "0    lonerangerin  lonerangerin\n",
            "1    lonerangerin  lonerangerin\n",
            "2    lonerangerin  lonerangerin\n",
            "3    lonerangerin  lonerangerin\n",
            "4    lonerangerin  lonerangerin\n",
            "..            ...           ...\n",
            "555   dryahyakazi   dryahyakazi\n",
            "556   dryahyakazi   dryahyakazi\n",
            "557   dryahyakazi   dryahyakazi\n",
            "558   dryahyakazi   dryahyakazi\n",
            "559   dryahyakazi   dryahyakazi\n",
            "\n",
            "[736 rows x 2 columns]\n"
          ]
        }
      ]
    },
    {
      "cell_type": "code",
      "source": [
        "print (edges)"
      ],
      "metadata": {
        "colab": {
          "base_uri": "https://localhost:8080/"
        },
        "id": "uf4CSsbtzaUd",
        "outputId": "cd3876f5-39ca-4ffc-99a1-e0b986a7b15e"
      },
      "execution_count": 183,
      "outputs": [
        {
          "output_type": "stream",
          "name": "stdout",
          "text": [
            "           Source           Target\n",
            "0    lonerangerin         INCIndia\n",
            "1    lonerangerin      priyankac19\n",
            "2    lonerangerin      rssurjewala\n",
            "3    lonerangerin       Pawankhera\n",
            "4    lonerangerin      NayakRagini\n",
            "..            ...              ...\n",
            "555   dryahyakazi  NowheraOfficial\n",
            "556   dryahyakazi     AitzazAhsanP\n",
            "557   dryahyakazi  NowheraOfficial\n",
            "558   dryahyakazi  NowheraOfficial\n",
            "559   dryahyakazi  NowheraOfficial\n",
            "\n",
            "[736 rows x 2 columns]\n"
          ]
        }
      ]
    },
    {
      "cell_type": "markdown",
      "source": [
        "### Save the edges and nodes to csv"
      ],
      "metadata": {
        "id": "fWEVak98v0Mr"
      }
    },
    {
      "cell_type": "code",
      "source": [
        "#edges.to_csv('AlvRealMerged_hashtags_edges.csv',index=False) # save the edges into csv \n",
        "edges.to_csv('LarrouRealMerged_mentions_edges.csv',index=False) # save the edges into csv "
      ],
      "metadata": {
        "id": "TqeiaJK9r6DD"
      },
      "execution_count": 175,
      "outputs": []
    },
    {
      "cell_type": "code",
      "source": [
        "#nodes.to_csv('AlvRealMerged_hashtags_nodes.csv',index=False) # save the nodes into csv \n",
        "nodes.to_csv('LarrouRealMerged_mentions_nodes.csv',index=False) # save the nodes into csv "
      ],
      "metadata": {
        "id": "CqE06fwlqmV-"
      },
      "execution_count": 176,
      "outputs": []
    }
  ]
}