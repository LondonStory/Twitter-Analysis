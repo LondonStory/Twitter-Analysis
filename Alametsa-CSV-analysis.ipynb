{
  "cells": [
    {
      "cell_type": "markdown",
      "source": [
        "# Overview of this notebook and main takeaways.\n",
        "\n",
        "*This will be moved to GitHub later*<br>\n",
        "\n",
        "This notebook analyses the LabelStudio output of the tweet from Alviina Alametsa. We look at the distribution types of argumentation, Average Sentiment Value, Average Botometer score.\n",
        "\n",
        "Not much of a language analysis could be done as only one Hindi response was detected. While I would have loved to analyse the difference between Hindi tweets and non-Hindi tweets, the current data isn't sufficient to find anything interesting.<br>\n",
        "Likewise, I cannot separate by timezone as all tweets appear to have the same timezone attached to them which makes it somewhat useless for analysis.\n",
        "\n",
        "## Results\n",
        "Here are the total number of tweets given a particular type of argument:<br>\n",
        "* Delegitimization of foreign speakers - 44\n",
        "* Appropriation of “decolonialize” narrative - 5\n",
        "* Whataboutism - 12\n",
        "* Alleged “ulterior motives” of the speaker - 5\n",
        "* Questioning stature of the speaker (not widely followed) - 7\n",
        "* Misogynistic/slut-shaming - 9\n",
        "* Delegitimization as speaker may not be considered an  “expert” - 3\n",
        "* In Favour - 11\n",
        "* Unrecognisable - 17\n",
        "\n",
        "Sentiment Scores:\n",
        "* Average Sentiment of all tweets: -0.6371681415929203\n",
        "* This value goes up to -0.75 when excluding unknown tweets. Hence for every 4 recognisable tweets, 3 were negative and 1 was positive.\n",
        "* The Sentiments per language are available in the notebook but are rather uninteresting given the distribution (96 English, 1 Hindi, 16 Other languages)\n",
        "\n",
        "Regression:\n",
        "* An analysis was done on whether the number of likes, the number of replies, and the number of replies were significant in determining the sentiment.\n",
        "* This returned an insignificant for the variables, but the constant was significant, so we know the the line of best fit doesn't begin at 0.\n",
        "<br>\n",
        "* Next an analysis was done on whether the sentiment affected the number of likes. This returned insignificant\n",
        "* The same process but for sentiment affecting replies and retweets. Those also returned insignificant values.\n",
        "\n",
        "Botometer Scores:\n",
        "* A change to prior measurements, the ones taken here are on a scale from 0-1 rather than 0-5.\n",
        "* There are multiple values given from the Botometer, so I worked with OverallEng and OverallUni.\n",
        "* The mean for OverallEng is 0.2215929203539823.\n",
        "* The mean for OverallUni is 0.20371681415929208. Seems like an ignorable difference.\n",
        "* Now we can see the average score given that it is a negative sentiment. Those are as follows:\n",
        "  * 0.23674698795180726 Average BotometerEng score of Negative Sentiment\n",
        "  * 0.22445783132530114 Average BotometerUni score of Negative Sentiment\n",
        "<br>\n",
        "<br>\n",
        "* The question is whether these deviations are significant. One way of testing this is the Z-score, where if it is greater than the absolute value of (+-1.96), then it is significant. Those are as follows:\n",
        "  * Z score of Negative Sentiment Average (BotomterEng): 0.0827\n",
        "  * Z score of Negative Sentiment Average (BotometerUni): 0.112\n",
        "* Thus we conclude that the negative comments aren't significantly more bot like than the rest of the population.\n",
        "* Doing a t-test of the Negative Sentiment subset against the whole population, the p value is also 0.506 (more than 0.05, thus insignificant)\n",
        "<br>\n",
        "<br>\n",
        "Final Regression:\n",
        "* The final task completed was to turn all the labels (argumentation types) into binary lists, and see whether they contribute to botometer scores (OverallEng only), to see if a certain type of argument exhibited particular bot like tendencies. The only value of significance was \"In_Favour\", with a negative value. Hence given that a tweet was in favour, it was less likely to be a bot."
      ],
      "metadata": {
        "id": "qM4cwudeSruv"
      },
      "id": "qM4cwudeSruv"
    },
    {
      "cell_type": "code",
      "execution_count": null,
      "id": "8f2da869",
      "metadata": {
        "id": "8f2da869"
      },
      "outputs": [],
      "source": [
        "import pandas as pd\n",
        "import numpy as np\n",
        "df=pd.read_csv(r\"/content/drive/MyDrive/TLS stuff/replies-alviinaalametsa-annotated-botometer.csv\") #while this file shows the output for Alviina Alamesta, it should also \n",
        "#work for Larroutourou, but I did see that the LabelStudio tags were slightly different between the two\n",
        "df.head()\n",
        "#Our columns\n",
        "Sentiment=df[\"sentiment\"]\n",
        "UserId=df[\"user_id\"]\n",
        "Language=df[\"language\"]\n",
        "#Our counters\n",
        "Degitimization_Foreign=0\n",
        "Appropriation_Decolonialize=0\n",
        "Whataboutism=0\n",
        "UlteriorMotives=0\n",
        "QuestioningSpeakerFollow=0\n",
        "Misogyny=0\n",
        "Delegitimisation_Expert=0\n",
        "Favour=0\n",
        "Unknown=0\n",
        "EnglishCounter=0\n",
        "HindiCounter=0"
      ]
    },
    {
      "cell_type": "code",
      "source": [
        "from google.colab import drive\n",
        "drive.mount('/content/drive')"
      ],
      "metadata": {
        "colab": {
          "base_uri": "https://localhost:8080/"
        },
        "id": "LaVdDaPjK-mG",
        "outputId": "f63095fc-9118-4c99-eb44-87c4e764f561"
      },
      "id": "LaVdDaPjK-mG",
      "execution_count": null,
      "outputs": [
        {
          "output_type": "stream",
          "name": "stdout",
          "text": [
            "Drive already mounted at /content/drive; to attempt to forcibly remount, call drive.mount(\"/content/drive\", force_remount=True).\n"
          ]
        }
      ]
    },
    {
      "cell_type": "code",
      "execution_count": null,
      "id": "06c119b7",
      "metadata": {
        "colab": {
          "base_uri": "https://localhost:8080/"
        },
        "id": "06c119b7",
        "outputId": "bd143158-c21e-48b7-d4df-605aeaabdf73"
      },
      "outputs": [
        {
          "output_type": "stream",
          "name": "stdout",
          "text": [
            "Looking in indexes: https://pypi.org/simple, https://us-python.pkg.dev/colab-wheels/public/simple/\n",
            "Requirement already satisfied: scipy in /usr/local/lib/python3.7/dist-packages (1.7.3)\n",
            "Requirement already satisfied: numpy<1.23.0,>=1.16.5 in /usr/local/lib/python3.7/dist-packages (from scipy) (1.21.6)\n"
          ]
        }
      ],
      "source": [
        "!pip install scipy"
      ]
    },
    {
      "cell_type": "code",
      "execution_count": null,
      "id": "3f5e7be1",
      "metadata": {
        "id": "3f5e7be1"
      },
      "outputs": [],
      "source": [
        "SentimentValue=0 #Counter of sentiment\n",
        "SentimentList=[] #A new column for every nth tweet\n",
        "for i in Sentiment: #Separation into individual tweet types\n",
        "    if \"Delegitimization of foreign speakers\" in i:\n",
        "        Degitimization_Foreign+=1\n",
        "    elif \"Appropriation of “decolonialize” narrative\" in i:\n",
        "        Appropriation_Decolonialize+=1\n",
        "    elif \"Whataboutism\" in i:\n",
        "        Whataboutism+=1\n",
        "    elif \"Alleged “ulterior motives” of the speaker\" in i:\n",
        "        UlteriorMotives+=1\n",
        "    elif \"Questioning stature of the speaker (not widely followed)\" in i:\n",
        "        QuestioningSpeakerFollow+=1\n",
        "    elif \"Misogynistic/slut-shaming\" in i:\n",
        "        Misogyny+=1\n",
        "    elif \"Unrecoganisable\" in i:\n",
        "        Unknown+=1\n",
        "    elif \"Delegitimization as speaker may not be considered an  “expert”\" in i:\n",
        "        Delegitimisation_Expert+=1\n",
        "    elif \"Favour\" in i:\n",
        "        Favour+=1\n",
        "for i in Sentiment:\n",
        "    if \"Unrecoganisable\" in i:\n",
        "        SentimentList.append(0) #no sentiment value here to be added\n",
        "    elif \"Favour\" in i:\n",
        "        SentimentValue+=1 \n",
        "        SentimentList.append(1)\n",
        "    else:\n",
        "        SentimentValue-=1 #thus a total for sentiment value without double or triple counting (in theory at least)\n",
        "        SentimentList.append(-1)\n",
        "        \n",
        "    "
      ]
    },
    {
      "cell_type": "code",
      "execution_count": null,
      "id": "bb847359",
      "metadata": {
        "colab": {
          "base_uri": "https://localhost:8080/"
        },
        "id": "bb847359",
        "outputId": "8f7d9e66-4d87-455d-b4f6-efca5e0c531d"
      },
      "outputs": [
        {
          "output_type": "stream",
          "name": "stdout",
          "text": [
            "[44, 5, 12, 5, 7, 9, 3, 11, 17]\n"
          ]
        }
      ],
      "source": [
        "FinalList=[Degitimization_Foreign,Appropriation_Decolonialize,Whataboutism,\n",
        "          UlteriorMotives,QuestioningSpeakerFollow,Misogyny,Delegitimisation_Expert,Favour,Unknown] #combine previous counters into one list\n",
        "print(FinalList)"
      ]
    },
    {
      "cell_type": "code",
      "execution_count": null,
      "id": "968339ed",
      "metadata": {
        "colab": {
          "base_uri": "https://localhost:8080/"
        },
        "id": "968339ed",
        "outputId": "4a2b1f27-fca6-4355-a307-4d9e56c4a2ea"
      },
      "outputs": [
        {
          "output_type": "stream",
          "name": "stdout",
          "text": [
            "-0.7291666666666666 Average English reply sentiment out of 96 replies\n",
            "-1.0 Average Hindi reply sentiment out of 1 replies\n",
            "-0.0625 Average other-language reply sentiment out of 16 replies\n",
            "-0.6371681415929203\n"
          ]
        }
      ],
      "source": [
        "#print(SentimentList)\n",
        "Language_And_Sentiment=[]\n",
        "EnglishSentiment=[]\n",
        "HindiSentiment=[]\n",
        "OtherSentiment=[]\n",
        "for i, j in zip(SentimentList,Language): #with our new sentiment list, we can compare across languages\n",
        "    Language_And_Sentiment.append([i,j])\n",
        "for i in Language_And_Sentiment:\n",
        "    if 'en' in i:\n",
        "        EnglishSentiment.append(i[0])\n",
        "        EnglishCounter+=1\n",
        "    elif 'in' in i:\n",
        "        HindiSentiment.append(i[0])\n",
        "        HindiCounter+=1\n",
        "    else:\n",
        "        OtherSentiment.append(i[0])\n",
        "print(np.average(EnglishSentiment),\"Average English reply sentiment out of\",len(EnglishSentiment),\"replies\")\n",
        "print(np.average(HindiSentiment),\"Average Hindi reply sentiment out of\",len(HindiSentiment),\"replies\")\n",
        "print(np.average(OtherSentiment),\"Average other-language reply sentiment out of\",len(OtherSentiment),\"replies\")\n",
        "print(np.mean(SentimentList))"
      ]
    },
    {
      "cell_type": "code",
      "execution_count": null,
      "id": "be40469f",
      "metadata": {
        "colab": {
          "base_uri": "https://localhost:8080/"
        },
        "id": "be40469f",
        "outputId": "cd375473-b139-4323-d3f9-dd591ef0afe4"
      },
      "outputs": [
        {
          "output_type": "execute_result",
          "data": {
            "text/plain": [
              "-0.75"
            ]
          },
          "metadata": {},
          "execution_count": 8
        }
      ],
      "source": [
        "TotalResponses=len(Sentiment)-Unknown\n",
        "#print(SentimentValue)\n",
        "NetSentiment=SentimentValue/TotalResponses\n",
        "NetSentiment #net sentiment of known tweet types"
      ]
    },
    {
      "cell_type": "code",
      "execution_count": null,
      "id": "874c2c57",
      "metadata": {
        "colab": {
          "base_uri": "https://localhost:8080/"
        },
        "id": "874c2c57",
        "outputId": "0ae03f04-1c44-4052-b7c8-6be2459afda8"
      },
      "outputs": [
        {
          "output_type": "stream",
          "name": "stdout",
          "text": [
            "                            OLS Regression Results                            \n",
            "==============================================================================\n",
            "Dep. Variable:                      y   R-squared:                       0.029\n",
            "Model:                            OLS   Adj. R-squared:                  0.002\n",
            "Method:                 Least Squares   F-statistic:                     1.536\n",
            "Date:                Tue, 08 Nov 2022   Prob (F-statistic):              0.209\n",
            "Time:                        13:57:32   Log-Likelihood:                -110.46\n",
            "No. Observations:                 113   AIC:                             228.9\n",
            "Df Residuals:                     109   BIC:                             239.8\n",
            "Df Model:                           3                                         \n",
            "Covariance Type:                  HC0                                         \n",
            "==============================================================================\n",
            "                 coef    std err          z      P>|z|      [0.025      0.975]\n",
            "------------------------------------------------------------------------------\n",
            "x1             0.0231      0.210      0.110      0.913      -0.389       0.435\n",
            "x2             0.2106      0.112      1.875      0.061      -0.010       0.431\n",
            "x3            -0.0266      0.015     -1.811      0.070      -0.055       0.002\n",
            "const         -0.6421      0.065     -9.915      0.000      -0.769      -0.515\n",
            "==============================================================================\n",
            "Omnibus:                       32.593   Durbin-Watson:                   1.790\n",
            "Prob(Omnibus):                  0.000   Jarque-Bera (JB):               48.507\n",
            "Skew:                           1.521   Prob(JB):                     2.93e-11\n",
            "Kurtosis:                       4.025   Cond. No.                         15.4\n",
            "==============================================================================\n",
            "\n",
            "Notes:\n",
            "[1] Standard Errors are heteroscedasticity robust (HC0)\n"
          ]
        }
      ],
      "source": [
        "import statsmodels.api as sm\n",
        "import seaborn as sns\n",
        "\n",
        "A,B,C=df['nlikes'],df['nretweets'],df['nreplies']\n",
        "X=[A,B,C]\n",
        "def reg_m(y, x): #multivariable\n",
        "    ones = np.ones(len(x[0]))\n",
        "    X = sm.add_constant(np.column_stack((x[0], ones)))\n",
        "    for ele in x[1:]:\n",
        "        X = sm.add_constant(np.column_stack((ele, X)))\n",
        "    model= sm.OLS(y, X)\n",
        "    results=model.fit(cov_type='HC0') #heteroscedasticity robust (HC0)\n",
        "    return results\n",
        "print(reg_m(SentimentList, X).summary())\n",
        "#running a regression on certain parameters"
      ]
    },
    {
      "cell_type": "code",
      "source": [
        "def Reg_m(y, x): #univaiable\n",
        "    X = sm.add_constant(x)\n",
        "    model= sm.OLS(y, X)\n",
        "    results=model.fit(cov_type='HC0') #heteroscedasticity robust (HC0)\n",
        "    return results\n",
        "print(Reg_m(A, SentimentList).summary())"
      ],
      "metadata": {
        "colab": {
          "base_uri": "https://localhost:8080/"
        },
        "id": "-47VP-oSjUzq",
        "outputId": "a4f35f1c-0a54-4ad6-e34a-f04c88104151"
      },
      "id": "-47VP-oSjUzq",
      "execution_count": null,
      "outputs": [
        {
          "output_type": "stream",
          "name": "stdout",
          "text": [
            "                            OLS Regression Results                            \n",
            "==============================================================================\n",
            "Dep. Variable:                 nlikes   R-squared:                       0.001\n",
            "Model:                            OLS   Adj. R-squared:                 -0.008\n",
            "Method:                 Least Squares   F-statistic:                    0.2398\n",
            "Date:                Tue, 08 Nov 2022   Prob (F-statistic):              0.625\n",
            "Time:                        14:08:01   Log-Likelihood:                -303.26\n",
            "No. Observations:                 113   AIC:                             610.5\n",
            "Df Residuals:                     111   BIC:                             616.0\n",
            "Df Model:                           1                                         \n",
            "Covariance Type:                  HC0                                         \n",
            "==============================================================================\n",
            "                 coef    std err          z      P>|z|      [0.025      0.975]\n",
            "------------------------------------------------------------------------------\n",
            "const          0.9996      0.372      2.684      0.007       0.270       1.730\n",
            "x1            -0.1811      0.370     -0.490      0.624      -0.906       0.544\n",
            "==============================================================================\n",
            "Omnibus:                      161.996   Durbin-Watson:                   2.088\n",
            "Prob(Omnibus):                  0.000   Jarque-Bera (JB):             5974.649\n",
            "Skew:                           5.453   Prob(JB):                         0.00\n",
            "Kurtosis:                      36.912   Cond. No.                         2.39\n",
            "==============================================================================\n",
            "\n",
            "Notes:\n",
            "[1] Standard Errors are heteroscedasticity robust (HC0)\n"
          ]
        }
      ]
    },
    {
      "cell_type": "code",
      "source": [
        "print(Reg_m(B, SentimentList).summary())"
      ],
      "metadata": {
        "colab": {
          "base_uri": "https://localhost:8080/"
        },
        "id": "HB9jFIbek6Mx",
        "outputId": "202f1ee6-614b-4c51-dbaf-6a99a660112e"
      },
      "id": "HB9jFIbek6Mx",
      "execution_count": null,
      "outputs": [
        {
          "output_type": "stream",
          "name": "stdout",
          "text": [
            "                            OLS Regression Results                            \n",
            "==============================================================================\n",
            "Dep. Variable:              nretweets   R-squared:                       0.014\n",
            "Model:                            OLS   Adj. R-squared:                  0.006\n",
            "Method:                 Least Squares   F-statistic:                     1.298\n",
            "Date:                Tue, 08 Nov 2022   Prob (F-statistic):              0.257\n",
            "Time:                        14:13:32   Log-Likelihood:                -105.10\n",
            "No. Observations:                 113   AIC:                             214.2\n",
            "Df Residuals:                     111   BIC:                             219.7\n",
            "Df Model:                           1                                         \n",
            "Covariance Type:                  HC0                                         \n",
            "==============================================================================\n",
            "                 coef    std err          z      P>|z|      [0.025      0.975]\n",
            "------------------------------------------------------------------------------\n",
            "const          0.2317      0.107      2.168      0.030       0.022       0.441\n",
            "x1             0.1136      0.100      1.139      0.255      -0.082       0.309\n",
            "==============================================================================\n",
            "Omnibus:                      161.565   Durbin-Watson:                   2.027\n",
            "Prob(Omnibus):                  0.000   Jarque-Bera (JB):             6115.518\n",
            "Skew:                           5.409   Prob(JB):                         0.00\n",
            "Kurtosis:                      37.378   Cond. No.                         2.39\n",
            "==============================================================================\n",
            "\n",
            "Notes:\n",
            "[1] Standard Errors are heteroscedasticity robust (HC0)\n"
          ]
        }
      ]
    },
    {
      "cell_type": "code",
      "source": [
        "print(Reg_m(C, SentimentList).summary())"
      ],
      "metadata": {
        "colab": {
          "base_uri": "https://localhost:8080/"
        },
        "id": "rEYba0QIlvR1",
        "outputId": "01aa68d2-638a-4f45-e382-78e4931c7d27"
      },
      "id": "rEYba0QIlvR1",
      "execution_count": null,
      "outputs": [
        {
          "output_type": "stream",
          "name": "stdout",
          "text": [
            "                            OLS Regression Results                            \n",
            "==============================================================================\n",
            "Dep. Variable:               nreplies   R-squared:                       0.000\n",
            "Model:                            OLS   Adj. R-squared:                 -0.009\n",
            "Method:                 Least Squares   F-statistic:                   0.01057\n",
            "Date:                Tue, 08 Nov 2022   Prob (F-statistic):              0.918\n",
            "Time:                        14:13:47   Log-Likelihood:                -1.3660\n",
            "No. Observations:                 113   AIC:                             6.732\n",
            "Df Residuals:                     111   BIC:                             12.19\n",
            "Df Model:                           1                                         \n",
            "Covariance Type:                  HC0                                         \n",
            "==============================================================================\n",
            "                 coef    std err          z      P>|z|      [0.025      0.975]\n",
            "------------------------------------------------------------------------------\n",
            "const          0.0467      0.031      1.499      0.134      -0.014       0.108\n",
            "x1             0.0039      0.038      0.103      0.918      -0.070       0.077\n",
            "==============================================================================\n",
            "Omnibus:                      174.049   Durbin-Watson:                   2.068\n",
            "Prob(Omnibus):                  0.000   Jarque-Bera (JB):             7938.013\n",
            "Skew:                           6.082   Prob(JB):                         0.00\n",
            "Kurtosis:                      42.217   Cond. No.                         2.39\n",
            "==============================================================================\n",
            "\n",
            "Notes:\n",
            "[1] Standard Errors are heteroscedasticity robust (HC0)\n"
          ]
        }
      ]
    },
    {
      "cell_type": "code",
      "execution_count": null,
      "id": "573d6324",
      "metadata": {
        "colab": {
          "base_uri": "https://localhost:8080/",
          "height": 337
        },
        "id": "573d6324",
        "outputId": "2d186176-1d65-4722-dfec-8adb1ee1f030"
      },
      "outputs": [
        {
          "output_type": "stream",
          "name": "stderr",
          "text": [
            "/usr/local/lib/python3.7/dist-packages/seaborn/_decorators.py:43: FutureWarning: Pass the following variables as keyword args: x, y. From version 0.12, the only valid positional argument will be `data`, and passing other arguments without an explicit keyword will result in an error or misinterpretation.\n",
            "  FutureWarning\n"
          ]
        },
        {
          "output_type": "execute_result",
          "data": {
            "text/plain": [
              "<matplotlib.axes._subplots.AxesSubplot at 0x7efc1ffbb510>"
            ]
          },
          "metadata": {},
          "execution_count": 10
        },
        {
          "output_type": "display_data",
          "data": {
            "text/plain": [
              "<Figure size 432x288 with 1 Axes>"
            ],
            "image/png": "[encoded data removed]"
          },
          "metadata": {
            "needs_background": "light"
          }
        }
      ],
      "source": [
        "sns.regplot(SentimentList,list(A))"
      ]
    },
    {
      "cell_type": "code",
      "execution_count": null,
      "id": "a5f98a1a",
      "metadata": {
        "id": "a5f98a1a"
      },
      "outputs": [],
      "source": [
        "import matplotlib.pyplot as plt"
      ]
    },
    {
      "cell_type": "code",
      "execution_count": null,
      "id": "d69ec1fd",
      "metadata": {
        "colab": {
          "base_uri": "https://localhost:8080/",
          "height": 546
        },
        "id": "d69ec1fd",
        "outputId": "1287a5d5-374b-4f63-a22d-405caa87b7bb"
      },
      "outputs": [
        {
          "output_type": "display_data",
          "data": {
            "text/plain": [
              "<Figure size 1080x504 with 1 Axes>"
            ],
            "image/png": "[encoded data removed]"
          },
          "metadata": {
            "needs_background": "light"
          }
        },
        {
          "output_type": "display_data",
          "data": {
            "text/plain": [
              "<Figure size 432x288 with 0 Axes>"
            ]
          },
          "metadata": {}
        }
      ],
      "source": [
        "fig, ax = plt.subplots(figsize=(15, 7))\n",
        "LabelsGeneral = X=['Degitimization of Foreign Speakers','Appropriation of Decolonialization Narrative','Whataboutism',\n",
        "          'Ulterior Motives','Questioning Stature','Misogyny','Delegitimisation of Expertise','Favour','Unknown']\n",
        "ax.bar(LabelsGeneral,FinalList)\n",
        "ax.set_xlabel('Classification of Tweet')\n",
        "ax.set_ylabel('Total replies')\n",
        "ax.set_title('Types of rhetoric employed, general')\n",
        "fig.autofmt_xdate()\n",
        "plt.grid(animated=True,alpha=0.9)\n",
        "ax.set_axisbelow(True)\n",
        "plt.show()\n",
        "plt.savefig('GENERAL RHETORIC.jpg', bbox_inches='tight', dpi=600)\n",
        "#feel free to play around with visuals"
      ]
    },
    {
      "cell_type": "code",
      "execution_count": null,
      "id": "3ecca792",
      "metadata": {
        "colab": {
          "base_uri": "https://localhost:8080/"
        },
        "id": "3ecca792",
        "outputId": "bd6d3206-ee41-4962-dcb4-f42153f46888"
      },
      "outputs": [
        {
          "output_type": "stream",
          "name": "stdout",
          "text": [
            "0.81\n",
            "['id' 'conversation_id' 'created_at' 'date' 'timezone' 'place' 'tweet'\n",
            " 'language' 'hashtags' 'cashtags' 'user_id' 'user_id_str' 'username'\n",
            " 'name' 'day' 'hour' 'link' 'urls' 'photos' 'video' 'thumbnail' 'retweet'\n",
            " 'nlikes' 'nreplies' 'nretweets' 'quote_url' 'search' 'near' 'geo'\n",
            " 'source' 'user_rt_id' 'user_rt' 'retweet_id' 'reply_to' 'retweet_date'\n",
            " 'translate' 'trans_src' 'trans_dest' 'sentiment' 'annotator'\n",
            " 'annotation_id' 'updated_at' 'lead_time' 'botometerCapEng.score'\n",
            " 'botometerCapUni.score' 'botometerOverallRawEng.score'\n",
            " 'botometerOverallRawUni.score' 'botometerDisplayEng.score'\n",
            " 'botometerDisplayUni.score']\n"
          ]
        }
      ],
      "source": [
        "#print(df.head())\n",
        "#There are multiple Botometer scores, I will test them OverallEng and OverallUni. These are scaled from 0-1\n",
        "BotometerOverallEng=df[\"botometerOverallRawEng.score\"]\n",
        "BotometerOverallUni=df[\"botometerOverallRawUni.score\"]\n",
        "print(max(BotometerOverallEng))\n",
        "#print(df.columns.values)\n"
      ]
    },
    {
      "cell_type": "code",
      "source": [
        "Mean_BotometerOverallEng=np.mean(BotometerOverallEng)\n",
        "Mean_BotometerOverallUni=np.mean(BotometerOverallUni)\n",
        "print(\"BotometerOverallEng mean:\",Mean_BotometerOverallEng)\n",
        "print(\"BotometerOverallUni mean:\",Mean_BotometerOverallUni)"
      ],
      "metadata": {
        "colab": {
          "base_uri": "https://localhost:8080/"
        },
        "id": "qeV0xeb_MJ-7",
        "outputId": "3507c710-8190-40b8-b49e-3398acfe2ca2"
      },
      "id": "qeV0xeb_MJ-7",
      "execution_count": null,
      "outputs": [
        {
          "output_type": "stream",
          "name": "stdout",
          "text": [
            "BotometerOverallEng mean: 0.2215929203539823\n",
            "BotometerOverallUni mean: 0.20371681415929208\n"
          ]
        }
      ]
    },
    {
      "cell_type": "code",
      "source": [
        "df.columns.values\n",
        "Timezone=df[\"timezone\"]\n",
        "for i in Timezone:\n",
        "  #print(i)\n",
        "  pass #how are they all from an identical timezone? Is this the timezone of the source gathering it?\n",
        "  if i!=200:\n",
        "    print(i) #Can't do an analysis by region then I suppose.\n",
        "NegativeSentimentBotometerScoreEng=[]\n",
        "NegativeSentimentBotometerScoreUni=[]"
      ],
      "metadata": {
        "id": "l66x0x0lNKQI"
      },
      "id": "l66x0x0lNKQI",
      "execution_count": null,
      "outputs": []
    },
    {
      "cell_type": "code",
      "source": [
        "for i,j,k in zip(SentimentList,BotometerOverallEng,BotometerOverallUni):\n",
        "  if i==(-1):\n",
        "   NegativeSentimentBotometerScoreEng.append(j) \n",
        "   NegativeSentimentBotometerScoreUni.append(k)\n",
        "Mean_NegativeSentimentBotometerScoreEng=np.mean(NegativeSentimentBotometerScoreEng)\n",
        "Mean_NegativeSentimentBotometerScoreUni=np.mean(NegativeSentimentBotometerScoreUni)\n",
        "#These values are higher, but are they significantly higher?\n",
        "print(Mean_NegativeSentimentBotometerScoreEng,\"Average BotometerEng score of Negative Sentiment\")\n",
        "print(Mean_NegativeSentimentBotometerScoreUni,\"Average BotometerUni score of Negative Sentiment\")"
      ],
      "metadata": {
        "colab": {
          "base_uri": "https://localhost:8080/"
        },
        "id": "iS6Vq1-ROYDb",
        "outputId": "6b0978c8-0fa5-4ef7-d1a6-2532f9f8abe5"
      },
      "id": "iS6Vq1-ROYDb",
      "execution_count": null,
      "outputs": [
        {
          "output_type": "stream",
          "name": "stdout",
          "text": [
            "0.23674698795180726 Average BotometerEng score of Negative Sentiment\n",
            "0.22445783132530114 Average BotometerUni score of Negative Sentiment\n"
          ]
        }
      ]
    },
    {
      "cell_type": "code",
      "source": [
        "StDev_BotometerOverallEng=np.std(BotometerOverallEng)\n",
        "StDev_BotometerOverallUni=np.std(BotometerOverallUni)\n",
        "ZScore_NegativeSentimentBotometerScoreEng=(Mean_NegativeSentimentBotometerScoreEng-Mean_BotometerOverallEng)/StDev_BotometerOverallEng\n",
        "print(\"Z score of Negative Sentiment Average (BotomterEng):\",ZScore_NegativeSentimentBotometerScoreEng)\n",
        "ZScore_NegativeSentimentBotometerScoreUni=(Mean_NegativeSentimentBotometerScoreUni-Mean_BotometerOverallUni)/StDev_BotometerOverallUni\n",
        "print(\"Z score of Negative Sentiment Average (BotometerUni):\",ZScore_NegativeSentimentBotometerScoreUni)\n",
        "#Z over 1.96 is significant. This is very far from significant. Thus we conclude that a comment being negative has nothing to do with it being a bot account\n"
      ],
      "metadata": {
        "colab": {
          "base_uri": "https://localhost:8080/"
        },
        "id": "3Ve8wJ2FQLnq",
        "outputId": "0a2bf10a-8539-4ea6-8db6-6b500873943b"
      },
      "id": "3Ve8wJ2FQLnq",
      "execution_count": null,
      "outputs": [
        {
          "output_type": "stream",
          "name": "stdout",
          "text": [
            "Z score of Negative Sentiment Average (BotomterEng): 0.08269712353462302\n",
            "Z score of Negative Sentiment Average (BotometerUni): 0.11215110906179529\n"
          ]
        }
      ]
    },
    {
      "cell_type": "code",
      "source": [
        "import scipy\n",
        "print(scipy.stats.ttest_ind(BotometerOverallEng,NegativeSentimentBotometerScoreEng))"
      ],
      "metadata": {
        "colab": {
          "base_uri": "https://localhost:8080/"
        },
        "id": "liDHX7ZqxU0x",
        "outputId": "5c897f53-323b-4720-97c9-b24ae47e3efe"
      },
      "id": "liDHX7ZqxU0x",
      "execution_count": null,
      "outputs": [
        {
          "output_type": "stream",
          "name": "stdout",
          "text": [
            "Ttest_indResult(statistic=-0.6641549525572567, pvalue=0.5071435926268235)\n"
          ]
        }
      ]
    },
    {
      "cell_type": "code",
      "source": [
        "BotometerOverallEng=np.array(BotometerOverallEng)\n",
        "fig = plt.gcf()\n",
        "plt.title(\"Distribution of all Botometer OverallEng scores\");plt.xlabel(\"Score\");plt.ylabel(\"Frequency\")\n",
        "fig.set_size_inches(12, 8)\n",
        "plt.axvline(x=BotometerOverallEng.mean(),\n",
        "            color='red')\n",
        "sns.distplot(BotometerOverallEng,hist=True,kde=True,bins=15)\n",
        "#fig.savefig('Name.jpg', bbox_inches='tight', dpi=200)"
      ],
      "metadata": {
        "colab": {
          "base_uri": "https://localhost:8080/",
          "height": 585
        },
        "id": "Kj_KsB6vmlJT",
        "outputId": "06e316db-13eb-48e0-ca1c-9b52fa62b745"
      },
      "id": "Kj_KsB6vmlJT",
      "execution_count": null,
      "outputs": [
        {
          "output_type": "stream",
          "name": "stderr",
          "text": [
            "/usr/local/lib/python3.7/dist-packages/seaborn/distributions.py:2619: FutureWarning: `distplot` is a deprecated function and will be removed in a future version. Please adapt your code to use either `displot` (a figure-level function with similar flexibility) or `histplot` (an axes-level function for histograms).\n",
            "  warnings.warn(msg, FutureWarning)\n"
          ]
        },
        {
          "output_type": "execute_result",
          "data": {
            "text/plain": [
              "<matplotlib.axes._subplots.AxesSubplot at 0x7efc0777d950>"
            ]
          },
          "metadata": {},
          "execution_count": 75
        },
        {
          "output_type": "display_data",
          "data": {
            "text/plain": [
              "<Figure size 864x576 with 1 Axes>"
            ],
            "image/png": "[encoded data removed]"
          },
          "metadata": {
            "needs_background": "light"
          }
        }
      ]
    },
    {
      "cell_type": "code",
      "source": [
        "BotometerOverallUni=np.array(BotometerOverallUni)\n",
        "fig = plt.gcf()\n",
        "plt.title(\"Distribution of all Botometer OverallUni scores\");plt.xlabel(\"Score\");plt.ylabel(\"Frequency\")\n",
        "fig.set_size_inches(12, 8)\n",
        "plt.axvline(x=BotometerOverallUni.mean(),\n",
        "            color='red')\n",
        "sns.distplot(BotometerOverallUni,hist=True,kde=True,bins=15)\n",
        "#fig.savefig('Name.jpg', bbox_inches='tight', dpi=200)"
      ],
      "metadata": {
        "colab": {
          "base_uri": "https://localhost:8080/",
          "height": 585
        },
        "id": "OZpc3Gxcm41g",
        "outputId": "cfd470e3-e645-418b-d7ac-0124d6e740cf"
      },
      "id": "OZpc3Gxcm41g",
      "execution_count": null,
      "outputs": [
        {
          "output_type": "stream",
          "name": "stderr",
          "text": [
            "/usr/local/lib/python3.7/dist-packages/seaborn/distributions.py:2619: FutureWarning: `distplot` is a deprecated function and will be removed in a future version. Please adapt your code to use either `displot` (a figure-level function with similar flexibility) or `histplot` (an axes-level function for histograms).\n",
            "  warnings.warn(msg, FutureWarning)\n"
          ]
        },
        {
          "output_type": "execute_result",
          "data": {
            "text/plain": [
              "<matplotlib.axes._subplots.AxesSubplot at 0x7efc04e27910>"
            ]
          },
          "metadata": {},
          "execution_count": 76
        },
        {
          "output_type": "display_data",
          "data": {
            "text/plain": [
              "<Figure size 864x576 with 1 Axes>"
            ],
            "image/png": "[encoded data removed]"
          },
          "metadata": {
            "needs_background": "light"
          }
        }
      ]
    },
    {
      "cell_type": "code",
      "source": [
        "Degitimization_Foreign_List=[] #We are now making binary lists instead of a simple counter.\n",
        "Appropriation_Decolonialize_List=[]\n",
        "Whataboutism_List=[]\n",
        "UlteriorMotives_List=[]\n",
        "QuestioningSpeakerFollow_List=[]\n",
        "Misogyny_List=[]\n",
        "Unknown_List=[]\n",
        "Delegitimisation_Expert_List=[]\n",
        "Favour_List=[]\n",
        "for i in Sentiment: #Separation into individual tweet types\n",
        "    if \"Delegitimization of foreign speakers\" in i:\n",
        "        Degitimization_Foreign_List.append(1)\n",
        "    else:\n",
        "        Degitimization_Foreign_List.append(0)\n",
        "for i in Sentiment: #Separation into individual tweet types\n",
        "    if \"Appropriation of “decolonialize” narrative\" in i:\n",
        "        Appropriation_Decolonialize_List.append(1)\n",
        "    else:\n",
        "        Appropriation_Decolonialize_List.append(0)\n",
        "for i in Sentiment: #Separation into individual tweet types\n",
        "    if \"Whataboutism\" in i:\n",
        "        Whataboutism_List.append(1)\n",
        "    else:\n",
        "        Whataboutism_List.append(0)\n",
        "for i in Sentiment: #Separation into individual tweet types\n",
        "    if \"Alleged “ulterior motives” of the speaker\" in i:\n",
        "        UlteriorMotives_List.append(1)\n",
        "    else:\n",
        "        UlteriorMotives_List.append(0)\n",
        "for i in Sentiment: #Separation into individual tweet types\n",
        "    if \"Questioning stature of the speaker (not widely followed)\" in i:\n",
        "        QuestioningSpeakerFollow_List.append(1)\n",
        "    else:\n",
        "        QuestioningSpeakerFollow_List.append(0)\n",
        "for i in Sentiment: #Separation into individual tweet types\n",
        "    if \"Misogynistic/slut-shaming\" in i:\n",
        "        Misogyny_List.append(1)\n",
        "    else:\n",
        "        Misogyny_List.append(0)\n",
        "for i in Sentiment: #Separation into individual tweet types\n",
        "    if \"Unrecoganisable\" in i:\n",
        "        Unknown_List.append(1)\n",
        "    else:\n",
        "        Unknown_List.append(0)\n",
        "for i in Sentiment: #Separation into individual tweet types\n",
        "    if \"Delegitimization as speaker may not be considered an  “expert”\" in i:\n",
        "        Delegitimisation_Expert_List.append(1)\n",
        "    else:\n",
        "        Delegitimisation_Expert_List.append(0)\n",
        "for i in Sentiment: #Separation into individual tweet types\n",
        "    if \"Favour\" in i:\n",
        "        Favour_List.append(1)\n",
        "    else:\n",
        "        Favour_List.append(0)\n",
        "Favour_List\n",
        "\"Favour\""
      ],
      "metadata": {
        "colab": {
          "base_uri": "https://localhost:8080/",
          "height": 35
        },
        "id": "hMljEAh-s4NR",
        "outputId": "9854bc0e-c274-41cd-d372-aa2ce10d1c0c"
      },
      "id": "hMljEAh-s4NR",
      "execution_count": null,
      "outputs": [
        {
          "output_type": "execute_result",
          "data": {
            "text/plain": [
              "'Favour'"
            ],
            "application/vnd.google.colaboratory.intrinsic+json": {
              "type": "string"
            }
          },
          "metadata": {},
          "execution_count": 81
        }
      ]
    },
    {
      "cell_type": "code",
      "source": [
        "FinalList_List=[Degitimization_Foreign_List,Appropriation_Decolonialize_List,Whataboutism_List,\n",
        "          UlteriorMotives_List,QuestioningSpeakerFollow_List,Misogyny_List,Delegitimisation_Expert_List,Favour_List,Unknown_List]\n",
        "print(reg_m(BotometerOverallEng,FinalList_List).summary())"
      ],
      "metadata": {
        "colab": {
          "base_uri": "https://localhost:8080/"
        },
        "id": "9MvT47mNusjq",
        "outputId": "e835c369-3bd6-45bd-8e8f-fa0a91ebdb20"
      },
      "id": "9MvT47mNusjq",
      "execution_count": null,
      "outputs": [
        {
          "output_type": "stream",
          "name": "stdout",
          "text": [
            "                            OLS Regression Results                            \n",
            "==============================================================================\n",
            "Dep. Variable:                      y   R-squared:                       0.078\n",
            "Model:                            OLS   Adj. R-squared:                 -0.002\n",
            "Method:                 Least Squares   F-statistic:                     1.240\n",
            "Date:                Tue, 08 Nov 2022   Prob (F-statistic):              0.279\n",
            "Time:                        14:54:14   Log-Likelihood:                 36.016\n",
            "No. Observations:                 113   AIC:                            -52.03\n",
            "Df Residuals:                     103   BIC:                            -24.76\n",
            "Df Model:                           9                                         \n",
            "Covariance Type:                  HC0                                         \n",
            "==============================================================================\n",
            "                 coef    std err          z      P>|z|      [0.025      0.975]\n",
            "------------------------------------------------------------------------------\n",
            "x1            -0.0377      0.063     -0.603      0.546      -0.160       0.085\n",
            "x2            -0.0168      0.052     -0.321      0.748      -0.120       0.086\n",
            "x3             0.0205      0.070      0.291      0.771      -0.117       0.158\n",
            "x4             0.0660      0.053      1.240      0.215      -0.038       0.170\n",
            "x5            -0.0842      0.054     -1.547      0.122      -0.191       0.023\n",
            "x6             0.0072      0.086      0.084      0.933      -0.162       0.176\n",
            "x7             0.0655      0.063      1.045      0.296      -0.057       0.188\n",
            "x8            -0.0895      0.039     -2.305      0.021      -0.166      -0.013\n",
            "x9             0.0338      0.043      0.789      0.430      -0.050       0.118\n",
            "const          0.2050      0.046      4.458      0.000       0.115       0.295\n",
            "==============================================================================\n",
            "Omnibus:                       27.480   Durbin-Watson:                   2.131\n",
            "Prob(Omnibus):                  0.000   Jarque-Bera (JB):               39.879\n",
            "Skew:                           1.192   Prob(JB):                     2.19e-09\n",
            "Kurtosis:                       4.670   Cond. No.                         7.37\n",
            "==============================================================================\n",
            "\n",
            "Notes:\n",
            "[1] Standard Errors are heteroscedasticity robust (HC0)\n"
          ]
        }
      ]
    },
    {
      "cell_type": "code",
      "source": [
        "def Reg_m_t_test(y, x): #univaiable\n",
        "    X = sm.add_constant(x)\n",
        "    model= sm.OLS(y, X)\n",
        "    results=model.fit(cov_type='HC0') #heteroscedasticity robust (HC0)\n",
        "    return results.t_test([1, 0])\n",
        "ListNames=[\"Degitimization_Foreign_List\",\"Appropriation_Decolonialize_List\",\"Whataboutism_List\",\n",
        "          \"UlteriorMotives_List\",\"QuestioningSpeakerFollow_List\",\"Misogyny_List\",\"Delegitimisation_Expert_List\",\"Favour_List\",\"Unknown_List\"]\n",
        "for i,j in zip(FinalList_List, ListNames):\n",
        "  print(j)\n",
        "  print(Reg_m_t_test(BotometerOverallEng,i).summary()) #Everything seems very significant, thus I think this is a faulty method I'm using (not sure how though)"
      ],
      "metadata": {
        "colab": {
          "base_uri": "https://localhost:8080/"
        },
        "id": "WzXWLUI8GTzG",
        "outputId": "02d8e8d0-f3eb-4a31-9eb8-89fadfb0f208"
      },
      "id": "WzXWLUI8GTzG",
      "execution_count": null,
      "outputs": [
        {
          "output_type": "stream",
          "name": "stdout",
          "text": [
            "Degitimization_Foreign_List\n",
            "                             Test for Constraints                             \n",
            "==============================================================================\n",
            "                 coef    std err          z      P>|z|      [0.025      0.975]\n",
            "------------------------------------------------------------------------------\n",
            "c0             0.2052      0.022      9.257      0.000       0.162       0.249\n",
            "==============================================================================\n",
            "Appropriation_Decolonialize_List\n",
            "                             Test for Constraints                             \n",
            "==============================================================================\n",
            "                 coef    std err          z      P>|z|      [0.025      0.975]\n",
            "------------------------------------------------------------------------------\n",
            "c0             0.2279      0.019     12.056      0.000       0.191       0.265\n",
            "==============================================================================\n",
            "Whataboutism_List\n",
            "                             Test for Constraints                             \n",
            "==============================================================================\n",
            "                 coef    std err          z      P>|z|      [0.025      0.975]\n",
            "------------------------------------------------------------------------------\n",
            "c0             0.2087      0.018     11.749      0.000       0.174       0.244\n",
            "==============================================================================\n",
            "UlteriorMotives_List\n",
            "                             Test for Constraints                             \n",
            "==============================================================================\n",
            "                 coef    std err          z      P>|z|      [0.025      0.975]\n",
            "------------------------------------------------------------------------------\n",
            "c0             0.2214      0.017     12.671      0.000       0.187       0.256\n",
            "==============================================================================\n",
            "QuestioningSpeakerFollow_List\n",
            "                             Test for Constraints                             \n",
            "==============================================================================\n",
            "                 coef    std err          z      P>|z|      [0.025      0.975]\n",
            "------------------------------------------------------------------------------\n",
            "c0             0.2258      0.018     12.348      0.000       0.190       0.262\n",
            "==============================================================================\n",
            "Misogyny_List\n",
            "                             Test for Constraints                             \n",
            "==============================================================================\n",
            "                 coef    std err          z      P>|z|      [0.025      0.975]\n",
            "------------------------------------------------------------------------------\n",
            "c0             0.2147      0.019     11.426      0.000       0.178       0.251\n",
            "==============================================================================\n",
            "Delegitimisation_Expert_List\n",
            "                             Test for Constraints                             \n",
            "==============================================================================\n",
            "                 coef    std err          z      P>|z|      [0.025      0.975]\n",
            "------------------------------------------------------------------------------\n",
            "c0             0.2210      0.018     12.405      0.000       0.186       0.256\n",
            "==============================================================================\n",
            "Favour_List\n",
            "                             Test for Constraints                             \n",
            "==============================================================================\n",
            "                 coef    std err          z      P>|z|      [0.025      0.975]\n",
            "------------------------------------------------------------------------------\n",
            "c0             0.2259      0.019     12.002      0.000       0.189       0.263\n",
            "==============================================================================\n",
            "Unknown_List\n",
            "                             Test for Constraints                             \n",
            "==============================================================================\n",
            "                 coef    std err          z      P>|z|      [0.025      0.975]\n",
            "------------------------------------------------------------------------------\n",
            "c0             0.2317      0.019     12.330      0.000       0.195       0.269\n",
            "==============================================================================\n"
          ]
        }
      ]
    },
    {
      "cell_type": "code",
      "source": [
        "Botometer_In_Favour=[]\n",
        "for i,j in zip(Favour_List,BotometerOverallEng):\n",
        "  if i ==1:\n",
        "    Botometer_In_Favour.append(j)\n",
        "print(np.mean(Botometer_In_Favour))\n"
      ],
      "metadata": {
        "colab": {
          "base_uri": "https://localhost:8080/"
        },
        "id": "OUluxmKVwUIe",
        "outputId": "4c5de46f-8472-4ff6-d8f5-3ed8fc982439"
      },
      "id": "OUluxmKVwUIe",
      "execution_count": null,
      "outputs": [
        {
          "output_type": "stream",
          "name": "stdout",
          "text": [
            "0.18500000000000003\n"
          ]
        }
      ]
    },
    {
      "cell_type": "code",
      "source": [
        "sns.regplot(Favour_List,BotometerOverallEng)"
      ],
      "metadata": {
        "colab": {
          "base_uri": "https://localhost:8080/",
          "height": 337
        },
        "id": "_3NU1Z_wzTTU",
        "outputId": "481888a2-e9fa-452b-846d-0bdc67ce817d"
      },
      "id": "_3NU1Z_wzTTU",
      "execution_count": null,
      "outputs": [
        {
          "output_type": "stream",
          "name": "stderr",
          "text": [
            "/usr/local/lib/python3.7/dist-packages/seaborn/_decorators.py:43: FutureWarning: Pass the following variables as keyword args: x, y. From version 0.12, the only valid positional argument will be `data`, and passing other arguments without an explicit keyword will result in an error or misinterpretation.\n",
            "  FutureWarning\n"
          ]
        },
        {
          "output_type": "execute_result",
          "data": {
            "text/plain": [
              "<matplotlib.axes._subplots.AxesSubplot at 0x7efc04c35290>"
            ]
          },
          "metadata": {},
          "execution_count": 92
        },
        {
          "output_type": "display_data",
          "data": {
            "text/plain": [
              "<Figure size 432x288 with 1 Axes>"
            ],
            "image/png": "[encoded data removed]"
          },
          "metadata": {
            "needs_background": "light"
          }
        }
      ]
    }
  ],
  "metadata": {
    "kernelspec": {
      "display_name": "Python 3 (ipykernel)",
      "language": "python",
      "name": "python3"
    },
    "language_info": {
      "codemirror_mode": {
        "name": "ipython",
        "version": 3
      },
      "file_extension": ".py",
      "mimetype": "text/x-python",
      "name": "python",
      "nbconvert_exporter": "python",
      "pygments_lexer": "ipython3",
      "version": "3.9.12"
    },
    "colab": {
      "provenance": []
    }
  },
  "nbformat": 4,
  "nbformat_minor": 5
}